{
 "cells": [
  {
   "cell_type": "code",
   "execution_count": null,
   "metadata": {},
   "outputs": [],
   "source": [
    "pam_hot1 = pam_hot1.dropna(subset=['arrestee_s_age' , 'ucr_code'])\n",
    "X = np.array(pam_hot1[['arrestee_s_race_nan', 'arrestee_s_race_B' , 'arrestee_s_race_I' , 'arrestee_s_race_O' ,\n",
    "                       'arrestee_s_race_U' , 'arrestee_s_race_H' , 'arrestee_s_race_A' , 'arrestee_s_race_W']])\n",
    "y = np.array(pam_hot1['ucr_code'] )"
   ]
  },
  {
   "cell_type": "code",
   "execution_count": null,
   "metadata": {},
   "outputs": [],
   "source": [
    "plt.figure(figsize=(10, 8))\n",
    "plt.plot(X[y==0, 0], X[y==0, 1], 'r.')\n",
    "plt.plot(X[y==1, 0], X[y==1, 1], 'g.')\n",
    "plt.plot(X[y==2, 0], X[y==2, 1], 'b.');\n",
    "plt.savefig('13.15.png')"
   ]
  },
  {
   "cell_type": "code",
   "execution_count": null,
   "metadata": {},
   "outputs": [],
   "source": [
    "# A bit of code for plotting the decision boundaries in a categorical problem with two predictors and two values for the result\n",
    "# Also prints out the training and testing errors\n",
    "import numpy.random as rn\n",
    "def plot_cat_model_3(clf, X_train, y_train, X_test, y_test):\n",
    "\n",
    "    h = 0.1 # Mesh size  \n",
    "    # Plot the decision boundary. For that, we will assign a color to each\n",
    "    # point in the mesh [x_min, m_max]x[y_min, y_max].\n",
    "    x_min, x_max = X_train[:, 0].min() - 1, X_train[:, 0].max() + 1\n",
    "    y_min, y_max = X_train[:, 1].min() - 2, X_train[:, 1].max() + 2\n",
    "    xx, yy = np.meshgrid(np.arange(x_min, x_max, h),\n",
    "        np.arange(y_min, y_max, h))\n",
    "    Z = clf.predict(np.c_[xx.ravel(), yy.ravel()])\n",
    "\n",
    "    # Put the result into a color plot\n",
    "    Z = Z.reshape(xx.shape)\n",
    "\n",
    "    plt.figure(figsize=(8, 6))\n",
    "    cmap_light = pltco.ListedColormap(['#FFAAAA', '#AAFFAA', '#AAAAFF'])\n",
    "    cmap_bold = pltco.ListedColormap(['#FF0000', '#00FF00', '#0000FF'])\n",
    "    plt.pcolormesh(xx, yy, Z, cmap=cmap_light);\n",
    "\n",
    "    plt.scatter(X_train[:, 0], X_train[:, 1], c=y_train, cmap=cmap_bold,marker='o')\n",
    "    plt.scatter(X_test[:, 0], X_test[:, 1], c=y_test, cmap=cmap_bold, marker='+');\n",
    "    \n",
    "    print('Training Error: {}'.format(clf.score(X_train, y_train)))\n",
    "    print('Testing Error: {}'.format(clf.score(X_test, y_test)))\n",
    "    \n",
    "# Updating the plotting function for three categories"
   ]
  },
  {
   "cell_type": "code",
   "execution_count": null,
   "metadata": {},
   "outputs": [],
   "source": [
    "# We shuffle the data using a random permutation\n",
    "\n",
    "n = X.shape[0]\n",
    "test = int(0.20*n)            # We will use a test set made up of 20% of the data from our sample\n",
    "perm = rn.permutation(n)   \n",
    "X = X[perm]\n",
    "y = y[perm]\n",
    "X_test = X[:test]       # Then create the test\n",
    "y_test = y[:test]\n",
    "X_train = X[test:]     # and train sets\n",
    "y_train = y[test:]"
   ]
  },
  {
   "cell_type": "code",
   "execution_count": null,
   "metadata": {},
   "outputs": [],
   "source": [
    "from sklearn.svm import SVC"
   ]
  },
  {
   "cell_type": "code",
   "execution_count": null,
   "metadata": {},
   "outputs": [],
   "source": [
    "sv = SVC(C=1, gamma='scale', kernel='linear')\n",
    "sv.fit(X_train, y_train)\n",
    "print('Training Error: {}'.format(sv.score(X_train, y_train)))\n",
    "print('Testing Error: {}'.format(sv.score(X_test, y_test)))"
   ]
  },
  {
   "cell_type": "code",
   "execution_count": null,
   "metadata": {},
   "outputs": [],
   "source": [
    "X = np.array(pam_3[['arrestee_s_race','arrestee_s_age']])\n",
    "y = np.array(pam_3['ucr_code'] )"
   ]
  },
  {
   "cell_type": "code",
   "execution_count": null,
   "metadata": {},
   "outputs": [],
   "source": [
    "plt.figure(figsize=(10, 8))\n",
    "plt.plot(X[y==0, 0], X[y==0, 1], 'r.')\n",
    "plt.plot(X[y==1, 0], X[y==1, 1], 'g.')\n",
    "plt.plot(X[y==2, 0], X[y==2, 1], 'b.');\n",
    "plt.savefig('13.15.png')"
   ]
  },
  {
   "cell_type": "code",
   "execution_count": null,
   "metadata": {},
   "outputs": [],
   "source": [
    "# A bit of code for plotting the decision boundaries in a categorical problem with two predictors and two values for the result\n",
    "# Also prints out the training and testing errors\n",
    "import numpy.random as rn\n",
    "def plot_cat_model_3(clf, X_train, y_train, X_test, y_test):\n",
    "\n",
    "    h = 0.1 # Mesh size  \n",
    "    # Plot the decision boundary. For that, we will assign a color to each\n",
    "    # point in the mesh [x_min, m_max]x[y_min, y_max].\n",
    "    x_min, x_max = X_train[:, 0].min() - 1, X_train[:, 0].max() + 1\n",
    "    y_min, y_max = X_train[:, 1].min() - 2, X_train[:, 1].max() + 2\n",
    "    xx, yy = np.meshgrid(np.arange(x_min, x_max, h),\n",
    "        np.arange(y_min, y_max, h))\n",
    "    Z = clf.predict(np.c_[xx.ravel(), yy.ravel()])\n",
    "\n",
    "    # Put the result into a color plot\n",
    "    Z = Z.reshape(xx.shape)\n",
    "\n",
    "    plt.figure(figsize=(8, 6))\n",
    "    cmap_light = pltco.ListedColormap(['#FFAAAA', '#AAFFAA', '#AAAAFF'])\n",
    "    cmap_bold = pltco.ListedColormap(['#FF0000', '#00FF00', '#0000FF'])\n",
    "    plt.pcolormesh(xx, yy, Z, cmap=cmap_light);\n",
    "\n",
    "    plt.scatter(X_train[:, 0], X_train[:, 1], c=y_train, cmap=cmap_bold,marker='o')\n",
    "    plt.scatter(X_test[:, 0], X_test[:, 1], c=y_test, cmap=cmap_bold, marker='+');\n",
    "    \n",
    "    print('Training Error: {}'.format(clf.score(X_train, y_train)))\n",
    "    print('Testing Error: {}'.format(clf.score(X_test, y_test)))\n",
    "    \n",
    "# Updating the plotting function for three categories"
   ]
  },
  {
   "cell_type": "code",
   "execution_count": null,
   "metadata": {},
   "outputs": [],
   "source": [
    "# We shuffle the data using a random permutation\n",
    "\n",
    "n = X.shape[0]\n",
    "test = int(0.20*n)            # We will use a test set made up of 20% of the data from our sample\n",
    "perm = rn.permutation(n)   \n",
    "X = X[perm]\n",
    "y = y[perm]\n",
    "X_test = X[:test]       # Then create the test\n",
    "y_test = y[:test]\n",
    "X_train = X[test:]     # and train sets\n",
    "y_train = y[test:]"
   ]
  },
  {
   "cell_type": "code",
   "execution_count": null,
   "metadata": {},
   "outputs": [],
   "source": [
    "from sklearn.svm import SVC"
   ]
  },
  {
   "cell_type": "code",
   "execution_count": null,
   "metadata": {},
   "outputs": [],
   "source": [
    "sv = SVC(C=1, gamma='scale', kernel='linear')\n",
    "sv.fit(X_train, y_train)\n",
    "print('Training Error: {}'.format(sv.score(X_train, y_train)))\n",
    "print('Testing Error: {}'.format(sv.score(X_test, y_test)))"
   ]
  },
  {
   "cell_type": "code",
   "execution_count": null,
   "metadata": {},
   "outputs": [],
   "source": [
    "X = np.array(pam_3[['arrestee_s_age']])\n",
    "y = np.array(pam_3['ucr_code'] )"
   ]
  },
  {
   "cell_type": "code",
   "execution_count": null,
   "metadata": {},
   "outputs": [],
   "source": [
    "plt.figure(figsize=(10, 8))\n",
    "plt.plot(X[y==0, 0], 'r.')\n",
    "plt.plot(X[y==1, 0], 'g.')\n",
    "plt.plot(X[y==2, 0], 'b.');\n",
    "plt.savefig('13.15.png')"
   ]
  },
  {
   "cell_type": "code",
   "execution_count": null,
   "metadata": {},
   "outputs": [],
   "source": [
    "# A bit of code for plotting the decision boundaries in a categorical problem with two predictors and two values for the result\n",
    "# Also prints out the training and testing errors\n",
    "import numpy.random as rn\n",
    "def plot_cat_model_3(clf, X_train, y_train, X_test, y_test):\n",
    "\n",
    "    h = 0.1 # Mesh size  \n",
    "    # Plot the decision boundary. For that, we will assign a color to each\n",
    "    # point in the mesh [x_min, m_max]x[y_min, y_max].\n",
    "    x_min, x_max = X_train[:, 0].min() - 1, X_train[:, 0].max() + 1\n",
    "    y_min, y_max = X_train[:, 1].min() - 2, X_train[:, 1].max() + 2\n",
    "    xx, yy = np.meshgrid(np.arange(x_min, x_max, h),\n",
    "        np.arange(y_min, y_max, h))\n",
    "    Z = clf.predict(np.c_[xx.ravel(), yy.ravel()])\n",
    "\n",
    "    # Put the result into a color plot\n",
    "    Z = Z.reshape(xx.shape)\n",
    "\n",
    "    plt.figure(figsize=(8, 6))\n",
    "    cmap_light = pltco.ListedColormap(['#FFAAAA', '#AAFFAA', '#AAAAFF'])\n",
    "    cmap_bold = pltco.ListedColormap(['#FF0000', '#00FF00', '#0000FF'])\n",
    "    plt.pcolormesh(xx, yy, Z, cmap=cmap_light);\n",
    "\n",
    "    plt.scatter(X_train[:, 0], X_train[:, 1], c=y_train, cmap=cmap_bold,marker='o')\n",
    "    plt.scatter(X_test[:, 0], X_test[:, 1], c=y_test, cmap=cmap_bold, marker='+');\n",
    "    \n",
    "    print('Training Error: {}'.format(clf.score(X_train, y_train)))\n",
    "    print('Testing Error: {}'.format(clf.score(X_test, y_test)))\n",
    "    \n",
    "# Updating the plotting function for three categories"
   ]
  },
  {
   "cell_type": "code",
   "execution_count": null,
   "metadata": {},
   "outputs": [],
   "source": [
    "# We shuffle the data using a random permutation\n",
    "\n",
    "n = X.shape[0]\n",
    "test = int(0.20*n)            # We will use a test set made up of 20% of the data from our sample\n",
    "perm = rn.permutation(n)   \n",
    "X = X[perm]\n",
    "y = y[perm]\n",
    "X_test = X[:test]       # Then create the test\n",
    "y_test = y[:test]\n",
    "X_train = X[test:]     # and train sets\n",
    "y_train = y[test:]"
   ]
  },
  {
   "cell_type": "code",
   "execution_count": null,
   "metadata": {},
   "outputs": [],
   "source": [
    "from sklearn.svm import SVC"
   ]
  },
  {
   "cell_type": "code",
   "execution_count": null,
   "metadata": {},
   "outputs": [],
   "source": [
    "sv = SVC(C=1, gamma='scale', kernel='linear')\n",
    "sv.fit(X_train, y_train)\n",
    "print('Training Error: {}'.format(sv.score(X_train, y_train)))\n",
    "print('Testing Error: {}'.format(sv.score(X_test, y_test)))"
   ]
  }
 ],
 "metadata": {
  "kernelspec": {
   "display_name": "Python 3",
   "language": "python",
   "name": "python3"
  },
  "language_info": {
   "codemirror_mode": {
    "name": "ipython",
    "version": 3
   },
   "file_extension": ".py",
   "mimetype": "text/x-python",
   "name": "python",
   "nbconvert_exporter": "python",
   "pygments_lexer": "ipython3",
   "version": "3.6.7"
  }
 },
 "nbformat": 4,
 "nbformat_minor": 2
}
