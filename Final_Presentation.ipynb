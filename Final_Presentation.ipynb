{
 "cells": [
  {
   "cell_type": "markdown",
   "metadata": {},
   "source": [
    "# Policing Habits of the Chapel Hill, North Carolina Police Department (2011-2018)"
   ]
  },
  {
   "cell_type": "markdown",
   "metadata": {},
   "source": [
    "### Sandra Keta - Faith Camp - Samantha Wells - Connor Nelson"
   ]
  },
  {
   "cell_type": "markdown",
   "metadata": {},
   "source": [
    "## Background / Demographics of Chapel Hill"
   ]
  },
  {
   "cell_type": "markdown",
   "metadata": {},
   "source": [
    ">### Demographics of Chapel Hill"
   ]
  },
  {
   "cell_type": "markdown",
   "metadata": {},
   "source": [
    "The city of Chapel Hill, North Carolina has a population of 60,988 residents. The majority of the population is between 18 and 24 years old, 31.5%. This is a result of the large student population that occupys the city, with UNC being a centered their as well. Residents under 18 make up 17% of the population, residents 65 years and older make up 10% of the population. The population proportion has only 87.2 men to every 100 women, and the median age is 25.6 years old. Despite this being the most educated city in North Carolina, with 77% of residents holding at least an associates degree, close to 20% of the population living in the city are designated bsian Demographic, at 12.66%. The rest of the demographics follow as: Black elow the federal poverty line.\n",
    "\n",
    "Chapel Hill has a relatively diverse population within the city limits. 72.53% of Chapel Hill residents are While, with the next largest population group being the Aor African American - 9.74%, Mixed - 3.28%, Other - 1.40%, Native American - 0.37%, Pacific Islander - 0.02%. The largest portion of the population is white, with Asian coming in second, and African American being the third largest population. Regardless, the White population is 8 times larger than the African American Population."
   ]
  },
  {
   "cell_type": "markdown",
   "metadata": {},
   "source": [
    ">### Police Arresting Habits: What we know"
   ]
  },
  {
   "cell_type": "markdown",
   "metadata": {},
   "source": [
    "Policing habits and arresting practices differ from one department to another, and even differ between Sheriff's offices and Police departments. So in order to identify specifics for a specific agency, you would need to compare the data to the demographics and specifics, "
   ]
  },
  {
   "cell_type": "markdown",
   "metadata": {},
   "source": [
    ">### Dataset Details"
   ]
  },
  {
   "cell_type": "markdown",
   "metadata": {},
   "source": [
    "The dataset that our group is working with is the arrest data of Chapel Hill, North Carolina from the years 2010 to 2016. Features include the date and time the arrest was made, as well as the address of the arrest. The crime committed is given to us as a classification of a felony or a misdemeanor, a UCR code, and a short description of the crime. The arrestee is described with features of age, race, sex, and ethnicity. The dataset has 18,809 rows and 11 features (columns).\n",
    "\n",
    "This data is compiled off of arrests made by the police officers from the Chapel Hill police department. The idividuals listed are not necessarily convited of the crimes they are listed as arrested for. This is purely who was arrested by police. This includes anyone that was arrested, booked, and released later on in the evening and anyone arrested that might be not be guilty of the crime they allegedly committed. This does not measure the crime rate, as any crime that went unreproted, not suspect was arrested, or the perpatrator was dead or killed before they could be apprehended, were not measured in this study. Only the arrests made, and the corresponding offenses justifying arrest."
   ]
  },
  {
   "cell_type": "code",
   "execution_count": null,
   "metadata": {},
   "outputs": [],
   "source": []
  }
 ],
 "metadata": {
  "kernelspec": {
   "display_name": "Python 3",
   "language": "python",
   "name": "python3"
  },
  "language_info": {
   "codemirror_mode": {
    "name": "ipython",
    "version": 3
   },
   "file_extension": ".py",
   "mimetype": "text/x-python",
   "name": "python",
   "nbconvert_exporter": "python",
   "pygments_lexer": "ipython3",
   "version": "3.7.4"
  }
 },
 "nbformat": 4,
 "nbformat_minor": 4
}
