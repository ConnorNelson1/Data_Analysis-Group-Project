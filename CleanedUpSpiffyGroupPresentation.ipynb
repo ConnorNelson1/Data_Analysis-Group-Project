{
 "cells": [
  {
   "cell_type": "markdown",
   "metadata": {},
   "source": [
    "### DEMOGRAPHIC OF THE POLICE DEPARTMENT IN CHAPEL HILL, NORTH CAROLINA"
   ]
  },
  {
   "cell_type": "code",
   "execution_count": 21,
   "metadata": {},
   "outputs": [],
   "source": [
    "import numpy as np                 \n",
    "import pandas as pa                  \n",
    "import matplotlib.pyplot as plt      \n",
    "import seaborn as sn "
   ]
  },
  {
   "cell_type": "code",
   "execution_count": 22,
   "metadata": {},
   "outputs": [],
   "source": [
    "ped = pa.read_csv('/Users/sandraketa/desktop/police-employee-demographics.csv', sep = ';')"
   ]
  },
  {
   "cell_type": "code",
   "execution_count": 23,
   "metadata": {},
   "outputs": [
    {
     "data": {
      "image/png": "[encoded data removed]",
      "text/plain": [
       "<Figure size 432x288 with 1 Axes>"
      ]
     },
     "metadata": {},
     "output_type": "display_data"
    }
   ],
   "source": [
    "sn.set(style=\"darkgrid\")\n",
    "COUNT_RACE = sn.countplot(x=\"race\", data=ped, palette = \"colorblind\")"
   ]
  },
  {
   "cell_type": "markdown",
   "metadata": {},
   "source": [
    "From this graph, we can tell that the number of white police employees is much larger than the number of minority police employees. "
   ]
  },
  {
   "cell_type": "markdown",
   "metadata": {},
   "source": [
    "### MANIPULATING THE DATA TO BE NUMERIC"
   ]
  },
  {
   "cell_type": "code",
   "execution_count": 24,
   "metadata": {},
   "outputs": [],
   "source": [
    "pam = pa.read_csv('/Users/sandraketa/desktop/Data_Analysis-Group-Project/police-arrests-made.csv', sep = ';')"
   ]
  },
  {
   "cell_type": "markdown",
   "metadata": {},
   "source": [
    "##### Violent Crime Codes:\n",
    "    * 0110 - Murder-First Degree-Attempt\n",
    "    * 0640 - B&E-Vehicle\n",
    "    * 0200 - Rape 1st Degree\n",
    "    * 0300 - Common Law Robbery\n",
    "    * 0410 - Assault Inflicting Serious Injury\n",
    "    * 0411 - Assault LEO & Inflicting Injury\n",
    "    * 0510 - B&E Misdemeanor\n",
    "    * 0810 - Assault & Battery\n",
    "    * 0811 - Assault on Government Official\n",
    "    * 0820 - Communicate Threats\n",
    "    * 1530 - Carrying Concealed Weapon Illegally\n",
    "    * 1550 - Discharging Firearm/ BB Gun\n",
    "    * 1590 - Possessing Weapon of Mass Destruction\n",
    "    * 1710 - Peeping\n",
    "    * 1720 - Crime against Nature\n",
    "    * 1730 - Indecent Exposure\n",
    "    * 1770 - Statutory Rape/Sex Offense\n",
    "    * 1780 - Child Indecent Liberties\n",
    "    * 2030 - Contributing to the Delinquency of a Minor\n",
    "    * 2090 - Assault on a Female\n",
    "    * 2100 - Impaired Driving DWI\n",
    "    * 2212 - Underage Possession of Spiritious Liquor\n",
    "    * 2214 - Open Container\n",
    "    * 2222 - Underage Possession\n",
    "    * 2223 - Driver Consuming\n",
    "    * 2230 - Aid & Abet Underage Alcohol Usage\n",
    "    * 2240 - Consuming ON OFF Premises\n",
    "    * 2290 - Consuming on Unauthorized Premises\n",
    "    * 2410 - Disorderly Conduct\n",
    "    * 2430 - Fighting\n",
    "    * 2440 - Failure to Disperse\n",
    "    * 2450 - Drunk/Dispruptive\n",
    "    * 2490 - False Imprisonment\n",
    "    * 2520 - Dissemination of Obscene Material to a Minor (Under 16)\n",
    "    * 2570 - Exploiting Child\n",
    "    * 2590 - Performing Harmful or Obscene acts in front of a minor\n",
    "    * 2620 - Kidnapping\n",
    "    * 2630 - Resising Arrest\n",
    "    * 2640 - Violating Domestic Violence Protective Order\n",
    "    * 2650 - Obstructing LEO Work\n",
    "    * 2660 - Parole Violation\n",
    "    * 2670 - 2nd Degree Trespassing\n",
    "    * 2680 - Public Urination\n",
    "    * 2690 - Fugitive\n",
    "    * 4010 - Driving While License Revoked\n",
    "    \n",
    "    \n",
    "##### Property Crime Codes:\n",
    "    * 0620 - Larceny from person\n",
    "    * 0630 - Larceny (Switch Price Tag)\n",
    "    * 0670 - Break Coin Machine\n",
    "    * 0690 - Larceny All other\n",
    "    * 0710 - MV Theft - Automobile\n",
    "    * 0900 - Arson 1st Degree\n",
    "    * 1015 - Forgery-Uttering\n",
    "    * 1027 - Counterfeiting\n",
    "    * 1110 - Fraud - Worthless Check\n",
    "    * 1120 - Possession of Fraudulent ID\n",
    "    * 1140 - Unauthorized use of Conveyance\n",
    "    * 1150 - Credit Card Fraud\n",
    "    * 1170 - Identity Theft\n",
    "    * 1180 - Accessing Computers\n",
    "    * 1190 - Manufacturing Fraudulent Forms of ID\n",
    "    * 1210 - Embezzlement\n",
    "    * 1290 - Larceny by Employees\n",
    "    * 1310 - Recreational Stolen Goods\n",
    "    * 1320 - Larceny from Person\n",
    "    * 1330 - Possession of Stolen Goods\n",
    "    * 1400 - Damage-Personal Property\n",
    "    * 2020 - Non-Support Child\n",
    "    * 9910 - Littering\n",
    "    \n",
    "##### Narcotic Crime Codes:\n",
    "    * 1810 - Poss Narcotics\n",
    "    * 1820 - Drugs-Counterfeit\n",
    "    * 1834 - Drug Paraphernalia\n",
    "    * 1890 - Drugs on School Property"
   ]
  },
  {
   "cell_type": "code",
   "execution_count": 27,
   "metadata": {},
   "outputs": [],
   "source": [
    "pam = pa.read_csv('/Users/sandraketa/desktop/Data_Analysis-Group-Project/police-arrests-made.csv', sep = ';')\n",
    "\n",
    "pam_dict1 = {x:'Violent Crime' for x in list(set(pam.ucr_code))\n",
    "             if x in [110,640,200,300,410,411,510,810,811,820,1530\n",
    "                      ,1550,1590,1710,1720,1730,1770,1780,2030,2090,2100,2212,\n",
    "                      2214,2222,2223,2230,2240,2290,2410,2430,2440,2450,2490,\n",
    "                      2520,2570,2590,2620,2630,2640,2650,2670,2680,2690,4010]}\n",
    "pam_dict2 = {x:'Property Crime' for x in list(set(pam.ucr_code)) \n",
    "             if x in[620,630,670,690,710,900,1015,1027,1110,1120,1140,1150,1170,1180,1190,1210,1290,1310,1320,\n",
    "                      1330,1400,2020]}\n",
    "pam_dict3 = {x:'Narcotic Crime' for x in list (set(pam.ucr_code))\n",
    "             if x in [1810,1820,1834,1890]}\n",
    "\n",
    "pam_dict1.update(pam_dict2) \n",
    "\n",
    "pam_dict1.update(pam_dict3) \n",
    "\n",
    "pam_2 = pam.copy()   \n",
    "    \n",
    "pam_2.ucr_code = pam_2.ucr_code.map(pam_dict1)"
   ]
  },
  {
   "cell_type": "code",
   "execution_count": 29,
   "metadata": {},
   "outputs": [
    {
     "data": {
      "text/plain": [
       "{'Narcotic Crime', 'Property Crime', 'Violent Crime', nan}"
      ]
     },
     "execution_count": 29,
     "metadata": {},
     "output_type": "execute_result"
    }
   ],
   "source": [
    "set(pam_2.ucr_code)"
   ]
  },
  {
   "cell_type": "code",
   "execution_count": 30,
   "metadata": {},
   "outputs": [],
   "source": [
    "pam = pa.read_csv('/Users/sandraketa/desktop/Data_Analysis-Group-Project/police-arrests-made.csv', sep = ';')\n",
    "\n",
    "pam_2_dict4 = {x: 0 for x in list(set(pam_2.ucr_code))\n",
    "             if x in ['Violent Crime']}\n",
    "pam_2_dict5 = {x: 1 for x in list(set(pam_2.ucr_code)) \n",
    "             if x in['Property Crime']}\n",
    "pam_2_dict6 = {x: 2 for x in list (set(pam_2.ucr_code))\n",
    "             if x in ['Narcotic Crime']}\n",
    "\n",
    "pam_2_dict4.update(pam_2_dict5) \n",
    "\n",
    "pam_2_dict4.update(pam_2_dict6) \n",
    "\n",
    "pam_3 = pam_2.copy()   \n",
    "    \n",
    "pam_3.ucr_code = pam_3.ucr_code.map(pam_2_dict4)  "
   ]
  },
  {
   "cell_type": "code",
   "execution_count": 31,
   "metadata": {},
   "outputs": [
    {
     "data": {
      "text/plain": [
       "{'A', 'B', 'H', 'I', 'O', 'U', 'W', nan}"
      ]
     },
     "execution_count": 31,
     "metadata": {},
     "output_type": "execute_result"
    }
   ],
   "source": [
    "set(pam.arrestee_s_race)"
   ]
  },
  {
   "cell_type": "code",
   "execution_count": 33,
   "metadata": {},
   "outputs": [],
   "source": [
    "def onehot(df, feature):\n",
    "    '''A function to do one-hot-encoding of a feature from a dataframe. df = dataframe'''\n",
    "\n",
    "    pamv = list(set(df[feature])) \n",
    "    \n",
    "    for c in df.index: \n",
    "        t = df.loc[c, feature]\n",
    "        \n",
    "        for test in pamv:\n",
    "            if pa.isna(test):  \n",
    "                if pa.isna(t):\n",
    "                    df.loc[c, '{}_nan'.format(feature)] = 1\n",
    "                else:\n",
    "                    df.loc[c, '{}_nan'.format(feature)] = 0\n",
    "            else:\n",
    "                if t == test:\n",
    "                    df.loc[c, '{}_{}'.format(feature, test)] = 1  \n",
    "                                                             \n",
    "                else:\n",
    "                    df.loc[c, '{}_{}'.format(feature, test)] = 0 \n",
    "            \n",
    "    return df.drop(feature, axis=1) "
   ]
  },
  {
   "cell_type": "code",
   "execution_count": 34,
   "metadata": {},
   "outputs": [],
   "source": [
    "pam_hot1 = onehot(pam_3, 'arrestee_s_race')"
   ]
  },
  {
   "cell_type": "code",
   "execution_count": null,
   "metadata": {},
   "outputs": [],
   "source": []
  }
 ],
 "metadata": {
  "kernelspec": {
   "display_name": "Python 3",
   "language": "python",
   "name": "python3"
  },
  "language_info": {
   "codemirror_mode": {
    "name": "ipython",
    "version": 3
   },
   "file_extension": ".py",
   "mimetype": "text/x-python",
   "name": "python",
   "nbconvert_exporter": "python",
   "pygments_lexer": "ipython3",
   "version": "3.7.3"
  }
 },
 "nbformat": 4,
 "nbformat_minor": 2
}
