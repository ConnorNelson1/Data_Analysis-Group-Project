{
 "cells": [
  {
   "cell_type": "markdown",
   "metadata": {},
   "source": [
    "# CONNOR NELSON & FAITH CAMP & SANDRA KETA & SAMANTHA WELLS"
   ]
  },
  {
   "cell_type": "markdown",
   "metadata": {},
   "source": [
    "# Questions for THe Final Presentation\n",
    "\n",
    "- What is the problem\n",
    "- Why do we care\n",
    "- What are we hoping to find\n",
    "- What is the question type (regression, classification)\n",
    "\n",
    "- Outside knowledge\n",
    "- The process we used to make decisions and choices for the analysis\n",
    "- the story of how we solved it\n",
    "- validity\n",
    "- cross validation and bootstrapping\n",
    "- what are the findings?\n",
    "- was it well tested?\n"
   ]
  },
  {
   "cell_type": "markdown",
   "metadata": {},
   "source": [
    "The dataset that our group is working with is the arrest data of Chapel Hill, North Carolina from the years 2010 to 2016. Features include the date and time the arrest was made, as well as the address of the arrest. The crime committed is given to us as a classification of a felony or a misdemeanor, a UCR code, and a short description of the crime. The arrestee is described with features of age, race, sex, and ethnicity. The dataset has 18,809 rows and 11 features (columns). \n",
    "\n",
    "Our goal of analyzing this data set is to figure out if we can determine the age and gender of an arrestee given a crime. Doing this would allow us to see trends in crime among certain age groups, for example: all underage drinking crimes are committed by people under the age of 21. However, our analysis would like to look at less obvious tendencies in arrest data relating to other crimes. We would also like to observe gender’s role in the arrest data, and see if there are any trends in certain crimes only being committed by one gender or the other (or if there are no discrepancies at all). With this analysis, we can get a better picture of what crimes are associated with what demographic in Chapel Hill during this time period by looking at one feature at a time. This is a question of classification. \n",
    "\n",
    "We will be approaching this analysis while taking into account current and supported crime trend data regarding gender and race when it comes to the commission of crime. While analyzing the data, we are aware of the biases that police tend to have while carrying out arrests and law enforcement, and therefore recognize that this bias, has the potential to overrepresent the African American or Minority race in this data frame. We are also aware of the researched and supported trends regarding gender. Men are more likely to commit crime than women; men are more likely to commit violent crime, while women are more likely to commit property crime life larceny and other forms of theft. Taking this into account, it is our goal to use gender as a potential control variable to limit its impact and influence on the results, by skewing the data one way or the other.\n",
    "\n",
    "Next, we will look at changing our question to be a better example of classification by looking at age, gender, and race and using those features to predict their crime. We will also try to fix our problems with linear regression, since it shows we have 0 axes.\n"
   ]
  },
  {
   "cell_type": "code",
   "execution_count": 1,
   "metadata": {},
   "outputs": [],
   "source": [
    "import numpy as np                   # Numerical computation library\n",
    "import pandas as pa                  # Dataframe and Data manipulation Library\n",
    "import matplotlib.pyplot as plt      # Basic plotting functionality Library\n",
    "import seaborn as sn     "
   ]
  },
  {
   "cell_type": "code",
   "execution_count": 2,
   "metadata": {},
   "outputs": [],
   "source": [
    "pam = pa.read_csv('police-arrests-made.csv', sep = ';')"
   ]
  },
  {
   "cell_type": "code",
   "execution_count": 3,
   "metadata": {},
   "outputs": [
    {
     "data": {
      "text/html": [
       "<div>\n",
       "<style scoped>\n",
       "    .dataframe tbody tr th:only-of-type {\n",
       "        vertical-align: middle;\n",
       "    }\n",
       "\n",
       "    .dataframe tbody tr th {\n",
       "        vertical-align: top;\n",
       "    }\n",
       "\n",
       "    .dataframe thead th {\n",
       "        text-align: right;\n",
       "    }\n",
       "</style>\n",
       "<table border=\"1\" class=\"dataframe\">\n",
       "  <thead>\n",
       "    <tr style=\"text-align: right;\">\n",
       "      <th></th>\n",
       "      <th>armainid</th>\n",
       "      <th>arrest_date</th>\n",
       "      <th>arrest_time</th>\n",
       "      <th>address</th>\n",
       "      <th>charge_description</th>\n",
       "      <th>ucr_code</th>\n",
       "      <th>felony_or_misdemeanor</th>\n",
       "      <th>arrestee_s_age</th>\n",
       "      <th>arrestee_s_race</th>\n",
       "      <th>arrestee_s_sex</th>\n",
       "      <th>arrestee_ethnicity</th>\n",
       "    </tr>\n",
       "  </thead>\n",
       "  <tbody>\n",
       "    <tr>\n",
       "      <td>0</td>\n",
       "      <td>31,198</td>\n",
       "      <td>2013-11-11</td>\n",
       "      <td>10:58 PM</td>\n",
       "      <td>100 N COLUMBIA ST CHAPEL HILL, NC 27514</td>\n",
       "      <td>DRUGS-MAINTAIN</td>\n",
       "      <td>1810.0</td>\n",
       "      <td>M</td>\n",
       "      <td>32.0</td>\n",
       "      <td>B</td>\n",
       "      <td>M</td>\n",
       "      <td>NaN</td>\n",
       "    </tr>\n",
       "    <tr>\n",
       "      <td>1</td>\n",
       "      <td>31,201</td>\n",
       "      <td>2013-11-12</td>\n",
       "      <td>2:38 PM</td>\n",
       "      <td>828 MARTIN LUTHER KING JR BLVD CHAPEL HILL, NC...</td>\n",
       "      <td>ASSAULT-SIMPLE</td>\n",
       "      <td>810.0</td>\n",
       "      <td>M</td>\n",
       "      <td>25.0</td>\n",
       "      <td>B</td>\n",
       "      <td>F</td>\n",
       "      <td>NaN</td>\n",
       "    </tr>\n",
       "    <tr>\n",
       "      <td>2</td>\n",
       "      <td>31,209</td>\n",
       "      <td>2013-11-15</td>\n",
       "      <td>3:50 PM</td>\n",
       "      <td>100 W ROSEMARY ST CHAPEL HILL, NC 27516</td>\n",
       "      <td>ASSAULT &amp; BATTERY</td>\n",
       "      <td>810.0</td>\n",
       "      <td>M</td>\n",
       "      <td>27.0</td>\n",
       "      <td>W</td>\n",
       "      <td>M</td>\n",
       "      <td>NaN</td>\n",
       "    </tr>\n",
       "    <tr>\n",
       "      <td>3</td>\n",
       "      <td>31,216</td>\n",
       "      <td>2013-11-20</td>\n",
       "      <td>4:44 AM</td>\n",
       "      <td>MLK/NEW STATESIDE DR CHAPEL HILL, NC 27514</td>\n",
       "      <td>IMPAIRED DRIVING DWI</td>\n",
       "      <td>2100.0</td>\n",
       "      <td>M</td>\n",
       "      <td>24.0</td>\n",
       "      <td>B</td>\n",
       "      <td>M</td>\n",
       "      <td>NaN</td>\n",
       "    </tr>\n",
       "    <tr>\n",
       "      <td>4</td>\n",
       "      <td>31,216</td>\n",
       "      <td>2013-11-20</td>\n",
       "      <td>4:44 AM</td>\n",
       "      <td>MLK/NEW STATESIDE DR CHAPEL HILL, NC 27514</td>\n",
       "      <td>DRIVING W/LIC REVOKED</td>\n",
       "      <td>4010.0</td>\n",
       "      <td>M</td>\n",
       "      <td>24.0</td>\n",
       "      <td>B</td>\n",
       "      <td>M</td>\n",
       "      <td>NaN</td>\n",
       "    </tr>\n",
       "  </tbody>\n",
       "</table>\n",
       "</div>"
      ],
      "text/plain": [
       "  armainid arrest_date arrest_time  \\\n",
       "0   31,198  2013-11-11    10:58 PM   \n",
       "1   31,201  2013-11-12     2:38 PM   \n",
       "2   31,209  2013-11-15     3:50 PM   \n",
       "3   31,216  2013-11-20     4:44 AM   \n",
       "4   31,216  2013-11-20     4:44 AM   \n",
       "\n",
       "                                             address     charge_description  \\\n",
       "0            100 N COLUMBIA ST CHAPEL HILL, NC 27514         DRUGS-MAINTAIN   \n",
       "1  828 MARTIN LUTHER KING JR BLVD CHAPEL HILL, NC...         ASSAULT-SIMPLE   \n",
       "2            100 W ROSEMARY ST CHAPEL HILL, NC 27516      ASSAULT & BATTERY   \n",
       "3         MLK/NEW STATESIDE DR CHAPEL HILL, NC 27514   IMPAIRED DRIVING DWI   \n",
       "4         MLK/NEW STATESIDE DR CHAPEL HILL, NC 27514  DRIVING W/LIC REVOKED   \n",
       "\n",
       "   ucr_code felony_or_misdemeanor  arrestee_s_age arrestee_s_race  \\\n",
       "0    1810.0                     M            32.0               B   \n",
       "1     810.0                     M            25.0               B   \n",
       "2     810.0                     M            27.0               W   \n",
       "3    2100.0                     M            24.0               B   \n",
       "4    4010.0                     M            24.0               B   \n",
       "\n",
       "  arrestee_s_sex arrestee_ethnicity  \n",
       "0              M                NaN  \n",
       "1              F                NaN  \n",
       "2              M                NaN  \n",
       "3              M                NaN  \n",
       "4              M                NaN  "
      ]
     },
     "execution_count": 3,
     "metadata": {},
     "output_type": "execute_result"
    }
   ],
   "source": [
    "pam.head()"
   ]
  },
  {
   "cell_type": "markdown",
   "metadata": {},
   "source": [
    "The pairplot below only shows two features. This is because only these two are numeric values, whereas the rest are objects. As a result, this is not a good way to compare these variables."
   ]
  },
  {
   "cell_type": "code",
   "execution_count": 4,
   "metadata": {},
   "outputs": [
    {
     "name": "stderr",
     "output_type": "stream",
     "text": [
      "C:\\Users\\Connor\\Anaconda3\\lib\\site-packages\\numpy\\lib\\histograms.py:824: RuntimeWarning: invalid value encountered in greater_equal\n",
      "  keep = (tmp_a >= first_edge)\n",
      "C:\\Users\\Connor\\Anaconda3\\lib\\site-packages\\numpy\\lib\\histograms.py:825: RuntimeWarning: invalid value encountered in less_equal\n",
      "  keep &= (tmp_a <= last_edge)\n"
     ]
    },
    {
     "data": {
      "image/png": "[encoded data removed]",
      "text/plain": [
       "<Figure size 648x648 with 6 Axes>"
      ]
     },
     "metadata": {},
     "output_type": "display_data"
    }
   ],
   "source": [
    "sn.set(style = 'darkgrid')\n",
    "\n",
    "p = sn.pairplot(pam)   \n",
    "\n",
    "p.fig.set_size_inches(9, 9)  \n"
   ]
  },
  {
   "cell_type": "markdown",
   "metadata": {},
   "source": [
    "The histogram below shows the comparison between the black attribute for race and the six other race markers. The African American arrest numbers are JUST below that of the other six races combined. This speaks to the bias that police might have while conducting daily patrols. We are hoping to narrow down these biases and see if they are particular or correlated with specific crimes or crime groups."
   ]
  },
  {
   "cell_type": "code",
   "execution_count": 5,
   "metadata": {},
   "outputs": [
    {
     "name": "stderr",
     "output_type": "stream",
     "text": [
      "C:\\Users\\Connor\\Anaconda3\\lib\\site-packages\\statsmodels\\nonparametric\\kde.py:447: RuntimeWarning: invalid value encountered in greater\n",
      "  X = X[np.logical_and(X > clip[0], X < clip[1])] # won't work for two columns.\n",
      "C:\\Users\\Connor\\Anaconda3\\lib\\site-packages\\statsmodels\\nonparametric\\kde.py:447: RuntimeWarning: invalid value encountered in less\n",
      "  X = X[np.logical_and(X > clip[0], X < clip[1])] # won't work for two columns.\n"
     ]
    },
    {
     "data": {
      "image/png": "[encoded data removed]",
      "text/plain": [
       "<Figure size 720x576 with 1 Axes>"
      ]
     },
     "metadata": {},
     "output_type": "display_data"
    }
   ],
   "source": [
    "sn.set(style = 'darkgrid') \n",
    "plt.figure(figsize = (10, 8))\n",
    "\n",
    "sn.distplot(pam[pam.arrestee_s_race=='B'].arrestee_s_age, color='blue', \n",
    "            label='Minorities Arrests', kde=True, bins=14) \n",
    "sn.distplot(pam[pam.arrestee_s_race!='B'].arrestee_s_age, color='red', \n",
    "            label='Non_Minority Arrests', kde=True, bins=14)\n",
    "plt.legend();"
   ]
  },
  {
   "cell_type": "code",
   "execution_count": 6,
   "metadata": {},
   "outputs": [
    {
     "data": {
      "image/png": "[encoded data removed]",
      "text/plain": [
       "<Figure size 720x576 with 1 Axes>"
      ]
     },
     "metadata": {},
     "output_type": "display_data"
    }
   ],
   "source": [
    "sn.set(style = 'darkgrid') \n",
    "plt.figure(figsize = (10, 8))\n",
    "\n",
    "sn.distplot(pam[pam.arrestee_s_race=='B'].arrestee_s_age, color='blue', \n",
    "            label='African American Arrests', kde=True, bins=14) \n",
    "\n",
    "sn.distplot(pam[pam.arrestee_s_race!='B'].arrestee_s_age, color='red', \n",
    "            label='White & Hispanic Arrests', kde=True, bins=14)\n",
    "\n",
    "sn.distplot(pam[pam.arrestee_ethnicity!='H'].arrestee_s_age, color='green', \n",
    "            label='Hispanic Arrests', kde=True, bins=14)\n",
    "\n",
    "plt.legend();"
   ]
  },
  {
   "cell_type": "markdown",
   "metadata": {},
   "source": [
    "These are the attributes for race. A for Asian, B for Black (African American), H for Hispanic, I for Indian (Native American), O for Other, U for Unknown, W for White, and nan for missing data."
   ]
  },
  {
   "cell_type": "code",
   "execution_count": 7,
   "metadata": {},
   "outputs": [
    {
     "data": {
      "text/plain": [
       "{'A', 'B', 'H', 'I', 'O', 'U', 'W', nan}"
      ]
     },
     "execution_count": 7,
     "metadata": {},
     "output_type": "execute_result"
    }
   ],
   "source": [
    "set(pam.arrestee_s_race)"
   ]
  },
  {
   "cell_type": "code",
   "execution_count": 8,
   "metadata": {},
   "outputs": [
    {
     "data": {
      "text/plain": [
       "{'H', nan}"
      ]
     },
     "execution_count": 8,
     "metadata": {},
     "output_type": "execute_result"
    }
   ],
   "source": [
    "set(pam.arrestee_ethnicity)"
   ]
  },
  {
   "cell_type": "markdown",
   "metadata": {},
   "source": [
    "This below is the initial form of our deeper analysis. We are going to grab the counts for each of the races with respect to the three crimes we have chosen. The three crimes, as of our initial pool selections are; IMPAIRED DRIVING - DWI, SECOND DEGREE TRESPASS, and ASSAULT - SIMPLE. We will look at the spread of the total number of these crimes committed across these racial groups, this will give us further info on the policing habits of Chapel Hill North Carolina. This initial attempt did not work, and it is our belief that it did not work initially, due to the presence of the 'nan' term in the variables for race. We are looking to remove that , and recode it as 'U' unknown, and run the test again and see if it works this time. Further research and analysis is to follow."
   ]
  },
  {
   "cell_type": "code",
   "execution_count": 53,
   "metadata": {},
   "outputs": [
    {
     "data": {
      "text/html": [
       "<div>\n",
       "<style scoped>\n",
       "    .dataframe tbody tr th:only-of-type {\n",
       "        vertical-align: middle;\n",
       "    }\n",
       "\n",
       "    .dataframe tbody tr th {\n",
       "        vertical-align: top;\n",
       "    }\n",
       "\n",
       "    .dataframe thead th {\n",
       "        text-align: right;\n",
       "    }\n",
       "</style>\n",
       "<table border=\"1\" class=\"dataframe\">\n",
       "  <thead>\n",
       "    <tr style=\"text-align: right;\">\n",
       "      <th></th>\n",
       "      <th></th>\n",
       "      <th>COUNT</th>\n",
       "    </tr>\n",
       "    <tr>\n",
       "      <th>charge_description</th>\n",
       "      <th>arrestee_s_race</th>\n",
       "      <th></th>\n",
       "    </tr>\n",
       "  </thead>\n",
       "  <tbody>\n",
       "    <tr>\n",
       "      <td>(FTA) COMMUNICATE THREATS</td>\n",
       "      <td>W</td>\n",
       "      <td>1</td>\n",
       "    </tr>\n",
       "    <tr>\n",
       "      <td>(FTA) HIT/RUN LEAVE SCENE OF PROPERTY DAMAGE</td>\n",
       "      <td>B</td>\n",
       "      <td>1</td>\n",
       "    </tr>\n",
       "    <tr>\n",
       "      <td>(FTA) RECKLESS DRIVING</td>\n",
       "      <td>B</td>\n",
       "      <td>1</td>\n",
       "    </tr>\n",
       "    <tr>\n",
       "      <td>(FTA) SPEEDING</td>\n",
       "      <td>B</td>\n",
       "      <td>1</td>\n",
       "    </tr>\n",
       "    <tr>\n",
       "      <td>(OFA) PROBATION VIOLATION</td>\n",
       "      <td>W</td>\n",
       "      <td>1</td>\n",
       "    </tr>\n",
       "  </tbody>\n",
       "</table>\n",
       "</div>"
      ],
      "text/plain": [
       "                                                              COUNT\n",
       "charge_description                           arrestee_s_race       \n",
       "(FTA) COMMUNICATE THREATS                    W                    1\n",
       "(FTA) HIT/RUN LEAVE SCENE OF PROPERTY DAMAGE B                    1\n",
       "(FTA) RECKLESS DRIVING                       B                    1\n",
       "(FTA) SPEEDING                               B                    1\n",
       "(OFA) PROBATION VIOLATION                    W                    1"
      ]
     },
     "execution_count": 53,
     "metadata": {},
     "output_type": "execute_result"
    }
   ],
   "source": [
    "pamC = pa.read_csv('../police-arrests-made.csv', sep = ';')\n",
    "pamC = pamC.loc[:, ['charge_description', 'arrestee_s_race']]  # Keep only the columns we want here\n",
    "pamC.loc[:, 'COUNT'] = 1   # Add a variable for counting unique values\n",
    "pamC = pamC.groupby(['charge_description', 'arrestee_s_race']).sum()   \n",
    " # Sum the values after grouping by County, \n",
    "       # City, and Provider Type\n",
    "    \n",
    "pamC.head()\n",
    "\n",
    "#pamAn = pamC.reset_index().loc[:, ['charge_description', 'arrestee_s_race', 'COUNT']]  \n",
    "\n",
    "## Drop the city and go back to a full data frame.\n",
    "\n",
    "#pamAn = pamAn.groupby(['charge_description', 'arrestee_s_race']).sum()\n",
    "\n",
    "## Redo the gather but now ignoring City\n",
    "\n",
    "#pamAn = pamAn.reset_index()\n",
    "\n",
    "## Set it back to a full data frame.\n",
    "\n",
    "#pamAn = pamAn[pamAn['arrestee_s_race']=='Preschool Program']\n",
    "\n",
    "#plt.figure(figsize = (10, 15))\n",
    "#sn.set(style='darkgrid')\n",
    "#sn.barplot(x='arrestee_s_race', y='COUNT', data=pamAn)\n",
    "#plt.title('Crimes divided by Race Count');"
   ]
  },
  {
   "cell_type": "code",
   "execution_count": 54,
   "metadata": {},
   "outputs": [
    {
     "data": {
      "text/html": [
       "<div>\n",
       "<style scoped>\n",
       "    .dataframe tbody tr th:only-of-type {\n",
       "        vertical-align: middle;\n",
       "    }\n",
       "\n",
       "    .dataframe tbody tr th {\n",
       "        vertical-align: top;\n",
       "    }\n",
       "\n",
       "    .dataframe thead th {\n",
       "        text-align: right;\n",
       "    }\n",
       "</style>\n",
       "<table border=\"1\" class=\"dataframe\">\n",
       "  <thead>\n",
       "    <tr style=\"text-align: right;\">\n",
       "      <th></th>\n",
       "      <th></th>\n",
       "      <th>COUNT</th>\n",
       "    </tr>\n",
       "    <tr>\n",
       "      <th>charge_description</th>\n",
       "      <th>arrestee_s_race</th>\n",
       "      <th></th>\n",
       "    </tr>\n",
       "  </thead>\n",
       "  <tbody>\n",
       "    <tr>\n",
       "      <td>WORTHLESS CHECK</td>\n",
       "      <td>W</td>\n",
       "      <td>19</td>\n",
       "    </tr>\n",
       "    <tr>\n",
       "      <td>WORTHLESS CHECKS</td>\n",
       "      <td>B</td>\n",
       "      <td>1</td>\n",
       "    </tr>\n",
       "    <tr>\n",
       "      <td rowspan=\"2\" valign=\"top\">WRONG WAY - ONE WAY ST</td>\n",
       "      <td>B</td>\n",
       "      <td>1</td>\n",
       "    </tr>\n",
       "    <tr>\n",
       "      <td>W</td>\n",
       "      <td>1</td>\n",
       "    </tr>\n",
       "    <tr>\n",
       "      <td>WRONG WAY ON DUAL LANE HIGHWAY</td>\n",
       "      <td>W</td>\n",
       "      <td>2</td>\n",
       "    </tr>\n",
       "  </tbody>\n",
       "</table>\n",
       "</div>"
      ],
      "text/plain": [
       "                                                COUNT\n",
       "charge_description             arrestee_s_race       \n",
       "WORTHLESS CHECK                W                   19\n",
       "WORTHLESS CHECKS               B                    1\n",
       "WRONG WAY - ONE WAY ST         B                    1\n",
       "                               W                    1\n",
       "WRONG WAY ON DUAL LANE HIGHWAY W                    2"
      ]
     },
     "execution_count": 54,
     "metadata": {},
     "output_type": "execute_result"
    }
   ],
   "source": [
    "pamC.tail()"
   ]
  },
  {
   "cell_type": "code",
   "execution_count": 55,
   "metadata": {},
   "outputs": [
    {
     "data": {
      "text/plain": [
       "(1834, 1)"
      ]
     },
     "execution_count": 55,
     "metadata": {},
     "output_type": "execute_result"
    }
   ],
   "source": [
    "pamC.shape"
   ]
  },
  {
   "cell_type": "code",
   "execution_count": 10,
   "metadata": {},
   "outputs": [
    {
     "data": {
      "text/plain": [
       "<matplotlib.axes._subplots.AxesSubplot at 0x1e005fe21c8>"
      ]
     },
     "execution_count": 10,
     "metadata": {},
     "output_type": "execute_result"
    },
    {
     "data": {
      "image/png": "[encoded data removed]",
      "text/plain": [
       "<Figure size 1080x1080 with 1 Axes>"
      ]
     },
     "metadata": {},
     "output_type": "display_data"
    }
   ],
   "source": [
    "pamAn = pamC.reset_index().loc[:, ['charge_description', 'arrestee_s_race', 'COUNT']]  \n",
    "\n",
    "## Drop the city and go back to a full data frame.\n",
    "\n",
    "pamAn = pamAn.groupby(['charge_description', 'arrestee_s_race']).sum()\n",
    "\n",
    "## Redo the gather but now ignoring City\n",
    "\n",
    "pamAn = pamAn.reset_index()\n",
    "\n",
    "## Set it back to a full data frame.\n",
    "\n",
    "pamAn = pamAn[pamAn['arrestee_s_race']=='B']\n",
    "\n",
    "plt.figure(figsize = (15, 15))\n",
    "#sn.set(style='darkgrid')\n",
    "sn.barplot(x='arrestee_s_race', y='COUNT', data=pamAn)\n",
    "#plt.title('Crimes divided by Race Count');"
   ]
  },
  {
   "cell_type": "code",
   "execution_count": 11,
   "metadata": {},
   "outputs": [],
   "source": [
    "# Impared Driving DWI\n",
    "# Second Degree Trespass\n",
    "# Assault - Simple"
   ]
  },
  {
   "cell_type": "code",
   "execution_count": 59,
   "metadata": {},
   "outputs": [
    {
     "data": {
      "text/plain": [
       "<matplotlib.axes._subplots.AxesSubplot at 0x1e00ade7e48>"
      ]
     },
     "execution_count": 59,
     "metadata": {},
     "output_type": "execute_result"
    },
    {
     "data": {
      "image/png": "[encoded data removed]",
      "text/plain": [
       "<Figure size 432x288 with 1 Axes>"
      ]
     },
     "metadata": {},
     "output_type": "display_data"
    }
   ],
   "source": [
    "sn.barplot(x = 'COUNT', y = 'charge_description', data = pamC.reset_index() )"
   ]
  },
  {
   "cell_type": "code",
   "execution_count": 61,
   "metadata": {},
   "outputs": [
    {
     "data": {
      "text/html": [
       "<div>\n",
       "<style scoped>\n",
       "    .dataframe tbody tr th:only-of-type {\n",
       "        vertical-align: middle;\n",
       "    }\n",
       "\n",
       "    .dataframe tbody tr th {\n",
       "        vertical-align: top;\n",
       "    }\n",
       "\n",
       "    .dataframe thead th {\n",
       "        text-align: right;\n",
       "    }\n",
       "</style>\n",
       "<table border=\"1\" class=\"dataframe\">\n",
       "  <thead>\n",
       "    <tr style=\"text-align: right;\">\n",
       "      <th></th>\n",
       "      <th></th>\n",
       "      <th>COUNT</th>\n",
       "    </tr>\n",
       "    <tr>\n",
       "      <th>charge_description</th>\n",
       "      <th>arrestee_s_race</th>\n",
       "      <th></th>\n",
       "    </tr>\n",
       "  </thead>\n",
       "  <tbody>\n",
       "    <tr>\n",
       "      <td>(FTA) COMMUNICATE THREATS</td>\n",
       "      <td>W</td>\n",
       "      <td>1</td>\n",
       "    </tr>\n",
       "    <tr>\n",
       "      <td>(FTA) HIT/RUN LEAVE SCENE OF PROPERTY DAMAGE</td>\n",
       "      <td>B</td>\n",
       "      <td>1</td>\n",
       "    </tr>\n",
       "    <tr>\n",
       "      <td>(FTA) RECKLESS DRIVING</td>\n",
       "      <td>B</td>\n",
       "      <td>1</td>\n",
       "    </tr>\n",
       "    <tr>\n",
       "      <td>(FTA) SPEEDING</td>\n",
       "      <td>B</td>\n",
       "      <td>1</td>\n",
       "    </tr>\n",
       "    <tr>\n",
       "      <td>(OFA) PROBATION VIOLATION</td>\n",
       "      <td>W</td>\n",
       "      <td>1</td>\n",
       "    </tr>\n",
       "    <tr>\n",
       "      <td>...</td>\n",
       "      <td>...</td>\n",
       "      <td>...</td>\n",
       "    </tr>\n",
       "    <tr>\n",
       "      <td>WORTHLESS CHECK</td>\n",
       "      <td>W</td>\n",
       "      <td>19</td>\n",
       "    </tr>\n",
       "    <tr>\n",
       "      <td>WORTHLESS CHECKS</td>\n",
       "      <td>B</td>\n",
       "      <td>1</td>\n",
       "    </tr>\n",
       "    <tr>\n",
       "      <td rowspan=\"2\" valign=\"top\">WRONG WAY - ONE WAY ST</td>\n",
       "      <td>B</td>\n",
       "      <td>1</td>\n",
       "    </tr>\n",
       "    <tr>\n",
       "      <td>W</td>\n",
       "      <td>1</td>\n",
       "    </tr>\n",
       "    <tr>\n",
       "      <td>WRONG WAY ON DUAL LANE HIGHWAY</td>\n",
       "      <td>W</td>\n",
       "      <td>2</td>\n",
       "    </tr>\n",
       "  </tbody>\n",
       "</table>\n",
       "<p>1834 rows × 1 columns</p>\n",
       "</div>"
      ],
      "text/plain": [
       "                                                              COUNT\n",
       "charge_description                           arrestee_s_race       \n",
       "(FTA) COMMUNICATE THREATS                    W                    1\n",
       "(FTA) HIT/RUN LEAVE SCENE OF PROPERTY DAMAGE B                    1\n",
       "(FTA) RECKLESS DRIVING                       B                    1\n",
       "(FTA) SPEEDING                               B                    1\n",
       "(OFA) PROBATION VIOLATION                    W                    1\n",
       "...                                                             ...\n",
       "WORTHLESS CHECK                              W                   19\n",
       "WORTHLESS CHECKS                             B                    1\n",
       "WRONG WAY - ONE WAY ST                       B                    1\n",
       "                                             W                    1\n",
       "WRONG WAY ON DUAL LANE HIGHWAY               W                    2\n",
       "\n",
       "[1834 rows x 1 columns]"
      ]
     },
     "execution_count": 61,
     "metadata": {},
     "output_type": "execute_result"
    }
   ],
   "source": [
    "pamC"
   ]
  },
  {
   "cell_type": "code",
   "execution_count": 27,
   "metadata": {
    "collapsed": true,
    "jupyter": {
     "outputs_hidden": true
    }
   },
   "outputs": [
    {
     "data": {
      "text/plain": [
       "{110.0,\n",
       " 640.0,\n",
       " nan,\n",
       " 200.0,\n",
       " 300.0,\n",
       " 410.0,\n",
       " 411.0,\n",
       " 510.0,\n",
       " 620.0,\n",
       " 630.0,\n",
       " 670.0,\n",
       " 690.0,\n",
       " 710.0,\n",
       " 810.0,\n",
       " 811.0,\n",
       " 820.0,\n",
       " 900.0,\n",
       " 1015.0,\n",
       " 1027.0,\n",
       " 1110.0,\n",
       " 1120.0,\n",
       " 1140.0,\n",
       " 1150.0,\n",
       " 1170.0,\n",
       " 1180.0,\n",
       " 1190.0,\n",
       " 1210.0,\n",
       " 1290.0,\n",
       " 1310.0,\n",
       " 1320.0,\n",
       " 1330.0,\n",
       " 1400.0,\n",
       " 1530.0,\n",
       " 1550.0,\n",
       " 1590.0,\n",
       " 1710.0,\n",
       " 1720.0,\n",
       " 1730.0,\n",
       " 1770.0,\n",
       " 1780.0,\n",
       " 1810.0,\n",
       " 1820.0,\n",
       " 1834.0,\n",
       " 1890.0,\n",
       " 2020.0,\n",
       " 2030.0,\n",
       " 2090.0,\n",
       " 2100.0,\n",
       " 2212.0,\n",
       " 2214.0,\n",
       " 2222.0,\n",
       " 2223.0,\n",
       " 2230.0,\n",
       " 2240.0,\n",
       " 2290.0,\n",
       " 2410.0,\n",
       " 2430.0,\n",
       " 2440.0,\n",
       " 2450.0,\n",
       " 2490.0,\n",
       " 2520.0,\n",
       " 2570.0,\n",
       " 2590.0,\n",
       " 2620.0,\n",
       " 2630.0,\n",
       " 2640.0,\n",
       " 2650.0,\n",
       " 2660.0,\n",
       " 2670.0,\n",
       " 2680.0,\n",
       " 2690.0,\n",
       " 4010.0,\n",
       " 9910.0}"
      ]
     },
     "execution_count": 27,
     "metadata": {},
     "output_type": "execute_result"
    }
   ],
   "source": [
    "set(pam.ucr_code)"
   ]
  },
  {
   "cell_type": "markdown",
   "metadata": {
    "jupyter": {
     "source_hidden": true
    }
   },
   "source": [
    "Violent Crime Codes:\n",
    "    0110 - Murder-First Degree-Attempt\n",
    "    0640 - B&E-Vehicle\n",
    "    0200 - Rape 1st Degree\n",
    "    0300 - Common Law Robbery\n",
    "    0410 - Assault Inflicting Serious Injury\n",
    "    0411 - Assault LEO & Inflicting Injury\n",
    "    0510 - B&E Misdemeanor\n",
    "    0810 - Assault & Battery\n",
    "    0811 - Assault on Government Official\n",
    "    0820 - Communicate Threats\n",
    "    1530 - Carrying Concealed Weapon Illegally\n",
    "    1550 - Discharging Firearm/ BB Gun\n",
    "    1590 - Possessing Weapon of Mass Destruction\n",
    "    1710 - Peeping\n",
    "    1720 - Crime against Nature\n",
    "    1730 - Indecent Exposure\n",
    "    1770 - Statutory Rape/Sex Offense\n",
    "    1780 - Child Indecent Liberties\n",
    "    2030 - Contributing to the Delinquency of a Minor\n",
    "    2090 - Assault on a Female\n",
    "    2100 - Impaired Driving DWI\n",
    "    2212 - Inderage Possession of Spiritious Liquor\n",
    "    2214 - Open Container\n",
    "    2222 - Underage Possession\n",
    "    2223 - Driver Consuming\n",
    "    2230 - Aid & Abet Underage Alcohol Usage\n",
    "    2240 - Consuming ON OFF Premises\n",
    "    2290 - Consuming on Unauthorized Premises\n",
    "    2410 - Disorderly Conduct\n",
    "    2430 - Fighting\n",
    "    2440 - Failure to Disperse\n",
    "    2450 - Drunk/Dispruptive\n",
    "    2490 - False Imprisonment\n",
    "    2520 - Dissemination of Obscene Material to a Minor (Under 16)\n",
    "    2570 - Exploiting Child\n",
    "    2590 - Performing Harmful or Obscene acts in front of a minor\n",
    "    2620 - Kidnapping\n",
    "    2630 - Resising Arrest\n",
    "    2640 - Violating Domestic Violence Protective Order\n",
    "    2650 - Obstructing LEO Work\n",
    "    2660 - Parole Violation\n",
    "    2670 - 2nd Degree Trespassing\n",
    "    2680 - Public Urination\n",
    "    2690 - Fugitive\n",
    "    4010 - Driving While License Revoked\n",
    "    \n",
    "    \n",
    "Property Crime Codes:\n",
    "    0620 - Larceny from person\n",
    "    0630 - Larceny (Switch Price Tag)\n",
    "    0670 - Break Coin Machine\n",
    "    0690 - Larceny All other\n",
    "    0710 - MV Theft - Automobile\n",
    "    0900 - Arson 1st Degree\n",
    "    1015 - Forgery-Uttering\n",
    "    1027 - Counterfeiting\n",
    "    1110 - Fraud - Worthless Check\n",
    "    1120 - Possession of Fraudulent ID\n",
    "    1140 - Unauthorized use of Conveyance\n",
    "    1150 - Credit Card Fraud\n",
    "    1170 - Identity Theft\n",
    "    1180 - Accessing Computers\n",
    "    1190 - Manufacturing Fraudulent Forms of ID\n",
    "    1210 - Embezzlement\n",
    "    1290 - Larceny by Employees\n",
    "    1310 - Recreational Stolen Goods\n",
    "    1320 - Larceny from Person\n",
    "    1330 - Possession of Stolen Goods\n",
    "    1400 - Damage-Personal Property\n",
    "    2020 - Non-Support Child\n",
    "    9910 - Littering\n",
    "    \n",
    "Narcotic Crime Codes:\n",
    "    1810 - Poss Narcotics\n",
    "    1820 - Drugs-Counterfeit\n",
    "    1834 - Drug Paraphernalia\n",
    "    1890 - Drugs on School Property\n",
    "    "
   ]
  },
  {
   "cell_type": "code",
   "execution_count": 13,
   "metadata": {},
   "outputs": [
    {
     "data": {
      "text/html": [
       "<div>\n",
       "<style scoped>\n",
       "    .dataframe tbody tr th:only-of-type {\n",
       "        vertical-align: middle;\n",
       "    }\n",
       "\n",
       "    .dataframe tbody tr th {\n",
       "        vertical-align: top;\n",
       "    }\n",
       "\n",
       "    .dataframe thead th {\n",
       "        text-align: right;\n",
       "    }\n",
       "</style>\n",
       "<table border=\"1\" class=\"dataframe\">\n",
       "  <thead>\n",
       "    <tr style=\"text-align: right;\">\n",
       "      <th></th>\n",
       "      <th>armainid</th>\n",
       "      <th>arrest_date</th>\n",
       "      <th>arrest_time</th>\n",
       "      <th>address</th>\n",
       "      <th>charge_description</th>\n",
       "      <th>ucr_code</th>\n",
       "      <th>felony_or_misdemeanor</th>\n",
       "      <th>arrestee_s_age</th>\n",
       "      <th>arrestee_s_race</th>\n",
       "      <th>arrestee_s_sex</th>\n",
       "      <th>arrestee_ethnicity</th>\n",
       "    </tr>\n",
       "  </thead>\n",
       "  <tbody>\n",
       "    <tr>\n",
       "      <td>0</td>\n",
       "      <td>31,198</td>\n",
       "      <td>2013-11-11</td>\n",
       "      <td>10:58 PM</td>\n",
       "      <td>100 N COLUMBIA ST CHAPEL HILL, NC 27514</td>\n",
       "      <td>DRUGS-MAINTAIN</td>\n",
       "      <td>Narcotic Crime</td>\n",
       "      <td>M</td>\n",
       "      <td>32.0</td>\n",
       "      <td>B</td>\n",
       "      <td>M</td>\n",
       "      <td>NaN</td>\n",
       "    </tr>\n",
       "    <tr>\n",
       "      <td>1</td>\n",
       "      <td>31,201</td>\n",
       "      <td>2013-11-12</td>\n",
       "      <td>2:38 PM</td>\n",
       "      <td>828 MARTIN LUTHER KING JR BLVD CHAPEL HILL, NC...</td>\n",
       "      <td>ASSAULT-SIMPLE</td>\n",
       "      <td>Violent Crime</td>\n",
       "      <td>M</td>\n",
       "      <td>25.0</td>\n",
       "      <td>B</td>\n",
       "      <td>F</td>\n",
       "      <td>NaN</td>\n",
       "    </tr>\n",
       "    <tr>\n",
       "      <td>2</td>\n",
       "      <td>31,209</td>\n",
       "      <td>2013-11-15</td>\n",
       "      <td>3:50 PM</td>\n",
       "      <td>100 W ROSEMARY ST CHAPEL HILL, NC 27516</td>\n",
       "      <td>ASSAULT &amp; BATTERY</td>\n",
       "      <td>Violent Crime</td>\n",
       "      <td>M</td>\n",
       "      <td>27.0</td>\n",
       "      <td>W</td>\n",
       "      <td>M</td>\n",
       "      <td>NaN</td>\n",
       "    </tr>\n",
       "    <tr>\n",
       "      <td>3</td>\n",
       "      <td>31,216</td>\n",
       "      <td>2013-11-20</td>\n",
       "      <td>4:44 AM</td>\n",
       "      <td>MLK/NEW STATESIDE DR CHAPEL HILL, NC 27514</td>\n",
       "      <td>IMPAIRED DRIVING DWI</td>\n",
       "      <td>Violent Crime</td>\n",
       "      <td>M</td>\n",
       "      <td>24.0</td>\n",
       "      <td>B</td>\n",
       "      <td>M</td>\n",
       "      <td>NaN</td>\n",
       "    </tr>\n",
       "    <tr>\n",
       "      <td>4</td>\n",
       "      <td>31,216</td>\n",
       "      <td>2013-11-20</td>\n",
       "      <td>4:44 AM</td>\n",
       "      <td>MLK/NEW STATESIDE DR CHAPEL HILL, NC 27514</td>\n",
       "      <td>DRIVING W/LIC REVOKED</td>\n",
       "      <td>Violent Crime</td>\n",
       "      <td>M</td>\n",
       "      <td>24.0</td>\n",
       "      <td>B</td>\n",
       "      <td>M</td>\n",
       "      <td>NaN</td>\n",
       "    </tr>\n",
       "    <tr>\n",
       "      <td>...</td>\n",
       "      <td>...</td>\n",
       "      <td>...</td>\n",
       "      <td>...</td>\n",
       "      <td>...</td>\n",
       "      <td>...</td>\n",
       "      <td>...</td>\n",
       "      <td>...</td>\n",
       "      <td>...</td>\n",
       "      <td>...</td>\n",
       "      <td>...</td>\n",
       "      <td>...</td>\n",
       "    </tr>\n",
       "    <tr>\n",
       "      <td>18804</td>\n",
       "      <td>26,456</td>\n",
       "      <td>2011-03-18</td>\n",
       "      <td>7:31 PM</td>\n",
       "      <td>121 E FRANKLIN ST CHAPEL HILL, NC 27514</td>\n",
       "      <td>DRUNK / DISRUPTIVE</td>\n",
       "      <td>Violent Crime</td>\n",
       "      <td>M</td>\n",
       "      <td>50.0</td>\n",
       "      <td>B</td>\n",
       "      <td>M</td>\n",
       "      <td>NaN</td>\n",
       "    </tr>\n",
       "    <tr>\n",
       "      <td>18805</td>\n",
       "      <td>24,370</td>\n",
       "      <td>2010-03-12</td>\n",
       "      <td>4:10 PM</td>\n",
       "      <td>106 N GRAHAM ST CHAPEL HILL, NC 27516</td>\n",
       "      <td>FAIL TO APPEAR/COMPL</td>\n",
       "      <td>Violent Crime</td>\n",
       "      <td>M</td>\n",
       "      <td>41.0</td>\n",
       "      <td>B</td>\n",
       "      <td>M</td>\n",
       "      <td>NaN</td>\n",
       "    </tr>\n",
       "    <tr>\n",
       "      <td>18806</td>\n",
       "      <td>26,497</td>\n",
       "      <td>2011-03-26</td>\n",
       "      <td>11:53 PM</td>\n",
       "      <td>25 BRANDON RD CHAPEL HILL, NC 27517</td>\n",
       "      <td>NDL - SUSPENDED / REVOKED</td>\n",
       "      <td>Violent Crime</td>\n",
       "      <td>M</td>\n",
       "      <td>27.0</td>\n",
       "      <td>W</td>\n",
       "      <td>M</td>\n",
       "      <td>H</td>\n",
       "    </tr>\n",
       "    <tr>\n",
       "      <td>18807</td>\n",
       "      <td>24,402</td>\n",
       "      <td>2010-03-18</td>\n",
       "      <td>9:16 PM</td>\n",
       "      <td>1100 NC HWY 54 BYPASS CHAPEL HILL, NC 27516</td>\n",
       "      <td>ASSAULT ON FEMALE</td>\n",
       "      <td>Violent Crime</td>\n",
       "      <td>M</td>\n",
       "      <td>45.0</td>\n",
       "      <td>W</td>\n",
       "      <td>M</td>\n",
       "      <td>H</td>\n",
       "    </tr>\n",
       "    <tr>\n",
       "      <td>18808</td>\n",
       "      <td>26,509</td>\n",
       "      <td>2011-03-29</td>\n",
       "      <td>9:03 PM</td>\n",
       "      <td>1129 WEAVER DAIRY RD CHAPEL HILL, NC 27514</td>\n",
       "      <td>RESISTING ARREST</td>\n",
       "      <td>Violent Crime</td>\n",
       "      <td>M</td>\n",
       "      <td>51.0</td>\n",
       "      <td>W</td>\n",
       "      <td>M</td>\n",
       "      <td>NaN</td>\n",
       "    </tr>\n",
       "  </tbody>\n",
       "</table>\n",
       "<p>18809 rows × 11 columns</p>\n",
       "</div>"
      ],
      "text/plain": [
       "      armainid arrest_date arrest_time  \\\n",
       "0       31,198  2013-11-11    10:58 PM   \n",
       "1       31,201  2013-11-12     2:38 PM   \n",
       "2       31,209  2013-11-15     3:50 PM   \n",
       "3       31,216  2013-11-20     4:44 AM   \n",
       "4       31,216  2013-11-20     4:44 AM   \n",
       "...        ...         ...         ...   \n",
       "18804   26,456  2011-03-18     7:31 PM   \n",
       "18805   24,370  2010-03-12     4:10 PM   \n",
       "18806   26,497  2011-03-26    11:53 PM   \n",
       "18807   24,402  2010-03-18     9:16 PM   \n",
       "18808   26,509  2011-03-29     9:03 PM   \n",
       "\n",
       "                                                 address  \\\n",
       "0                100 N COLUMBIA ST CHAPEL HILL, NC 27514   \n",
       "1      828 MARTIN LUTHER KING JR BLVD CHAPEL HILL, NC...   \n",
       "2                100 W ROSEMARY ST CHAPEL HILL, NC 27516   \n",
       "3             MLK/NEW STATESIDE DR CHAPEL HILL, NC 27514   \n",
       "4             MLK/NEW STATESIDE DR CHAPEL HILL, NC 27514   \n",
       "...                                                  ...   \n",
       "18804            121 E FRANKLIN ST CHAPEL HILL, NC 27514   \n",
       "18805              106 N GRAHAM ST CHAPEL HILL, NC 27516   \n",
       "18806                25 BRANDON RD CHAPEL HILL, NC 27517   \n",
       "18807        1100 NC HWY 54 BYPASS CHAPEL HILL, NC 27516   \n",
       "18808         1129 WEAVER DAIRY RD CHAPEL HILL, NC 27514   \n",
       "\n",
       "              charge_description        ucr_code felony_or_misdemeanor  \\\n",
       "0                 DRUGS-MAINTAIN  Narcotic Crime                     M   \n",
       "1                 ASSAULT-SIMPLE   Violent Crime                     M   \n",
       "2              ASSAULT & BATTERY   Violent Crime                     M   \n",
       "3           IMPAIRED DRIVING DWI   Violent Crime                     M   \n",
       "4          DRIVING W/LIC REVOKED   Violent Crime                     M   \n",
       "...                          ...             ...                   ...   \n",
       "18804         DRUNK / DISRUPTIVE   Violent Crime                     M   \n",
       "18805       FAIL TO APPEAR/COMPL   Violent Crime                     M   \n",
       "18806  NDL - SUSPENDED / REVOKED   Violent Crime                     M   \n",
       "18807          ASSAULT ON FEMALE   Violent Crime                     M   \n",
       "18808           RESISTING ARREST   Violent Crime                     M   \n",
       "\n",
       "       arrestee_s_age arrestee_s_race arrestee_s_sex arrestee_ethnicity  \n",
       "0                32.0               B              M                NaN  \n",
       "1                25.0               B              F                NaN  \n",
       "2                27.0               W              M                NaN  \n",
       "3                24.0               B              M                NaN  \n",
       "4                24.0               B              M                NaN  \n",
       "...               ...             ...            ...                ...  \n",
       "18804            50.0               B              M                NaN  \n",
       "18805            41.0               B              M                NaN  \n",
       "18806            27.0               W              M                  H  \n",
       "18807            45.0               W              M                  H  \n",
       "18808            51.0               W              M                NaN  \n",
       "\n",
       "[18809 rows x 11 columns]"
      ]
     },
     "execution_count": 13,
     "metadata": {},
     "output_type": "execute_result"
    }
   ],
   "source": [
    "pam = pa.read_csv('../police-arrests-made.csv', sep = ';')\n",
    "\n",
    "pam_dict1 = {x:'Violent Crime' for x in list(set(pam.ucr_code))\n",
    "             if x in [110,640,200,300,410,411,510,810,811,820,1530\n",
    "                      ,1550,1590,1710,1720,1730,1770,1780,2030,2090,2100,2212,\n",
    "                      2214,2222,2223,2230,2240,2290,2410,2430,2440,2450,2490,\n",
    "                      2520,2570,2590,2620,2630,2640,2650,2670,2680,2690,4010]}\n",
    "pam_dict2 = {x:'Property Crime' for x in list(set(pam.ucr_code)) \n",
    "             if x in[620,630,670,690,710,900,1015,1027,1110,1120,1140,1150,1170,1180,1190,1210,1290,1310,1320,\n",
    "                      1330,1400,2020]}\n",
    "pam_dict3 = {x:'Narcotic Crime' for x in list (set(pam.ucr_code))\n",
    "             if x in [1810,1820,1834,1890]}\n",
    "\n",
    "pam_dict1.update(pam_dict2) # merge the two dictionaries\n",
    "\n",
    "pam_dict1.update(pam_dict3) # merge the third dictionary\n",
    "\n",
    "\n",
    "pam_2 = pam.copy()   # pandas.dataframe is a mutable object so we use the .copy() command \n",
    "                         # otherwise changes to pam_2 will change major\n",
    "    \n",
    "pam_2.ucr_code = pam_2.ucr_code.map(pam_dict1)  # use the dictionary we made to recode the values with .map()\n",
    "\n",
    "pam_2 # print the dataframe to check if there is a problem\n"
   ]
  },
  {
   "cell_type": "code",
   "execution_count": 43,
   "metadata": {
    "collapsed": true,
    "jupyter": {
     "outputs_hidden": true,
     "source_hidden": true
    }
   },
   "outputs": [
    {
     "data": {
      "text/plain": [
       "(18809, 11)"
      ]
     },
     "execution_count": 43,
     "metadata": {},
     "output_type": "execute_result"
    }
   ],
   "source": [
    "pam.shape\n"
   ]
  },
  {
   "cell_type": "code",
   "execution_count": 44,
   "metadata": {
    "collapsed": true,
    "jupyter": {
     "outputs_hidden": true,
     "source_hidden": true
    }
   },
   "outputs": [
    {
     "data": {
      "text/html": [
       "<div>\n",
       "<style scoped>\n",
       "    .dataframe tbody tr th:only-of-type {\n",
       "        vertical-align: middle;\n",
       "    }\n",
       "\n",
       "    .dataframe tbody tr th {\n",
       "        vertical-align: top;\n",
       "    }\n",
       "\n",
       "    .dataframe thead th {\n",
       "        text-align: right;\n",
       "    }\n",
       "</style>\n",
       "<table border=\"1\" class=\"dataframe\">\n",
       "  <thead>\n",
       "    <tr style=\"text-align: right;\">\n",
       "      <th></th>\n",
       "      <th>armainid</th>\n",
       "      <th>arrest_date</th>\n",
       "      <th>arrest_time</th>\n",
       "      <th>address</th>\n",
       "      <th>charge_description</th>\n",
       "      <th>ucr_code</th>\n",
       "      <th>felony_or_misdemeanor</th>\n",
       "      <th>arrestee_s_age</th>\n",
       "      <th>arrestee_s_race</th>\n",
       "      <th>arrestee_s_sex</th>\n",
       "      <th>arrestee_ethnicity</th>\n",
       "    </tr>\n",
       "  </thead>\n",
       "  <tbody>\n",
       "    <tr>\n",
       "      <td>18804</td>\n",
       "      <td>26,456</td>\n",
       "      <td>2011-03-18</td>\n",
       "      <td>7:31 PM</td>\n",
       "      <td>121 E FRANKLIN ST CHAPEL HILL, NC 27514</td>\n",
       "      <td>DRUNK / DISRUPTIVE</td>\n",
       "      <td>2450.0</td>\n",
       "      <td>M</td>\n",
       "      <td>50.0</td>\n",
       "      <td>B</td>\n",
       "      <td>M</td>\n",
       "      <td>NaN</td>\n",
       "    </tr>\n",
       "    <tr>\n",
       "      <td>18805</td>\n",
       "      <td>24,370</td>\n",
       "      <td>2010-03-12</td>\n",
       "      <td>4:10 PM</td>\n",
       "      <td>106 N GRAHAM ST CHAPEL HILL, NC 27516</td>\n",
       "      <td>FAIL TO APPEAR/COMPL</td>\n",
       "      <td>2640.0</td>\n",
       "      <td>M</td>\n",
       "      <td>41.0</td>\n",
       "      <td>B</td>\n",
       "      <td>M</td>\n",
       "      <td>NaN</td>\n",
       "    </tr>\n",
       "    <tr>\n",
       "      <td>18806</td>\n",
       "      <td>26,497</td>\n",
       "      <td>2011-03-26</td>\n",
       "      <td>11:53 PM</td>\n",
       "      <td>25 BRANDON RD CHAPEL HILL, NC 27517</td>\n",
       "      <td>NDL - SUSPENDED / REVOKED</td>\n",
       "      <td>4010.0</td>\n",
       "      <td>M</td>\n",
       "      <td>27.0</td>\n",
       "      <td>W</td>\n",
       "      <td>M</td>\n",
       "      <td>H</td>\n",
       "    </tr>\n",
       "    <tr>\n",
       "      <td>18807</td>\n",
       "      <td>24,402</td>\n",
       "      <td>2010-03-18</td>\n",
       "      <td>9:16 PM</td>\n",
       "      <td>1100 NC HWY 54 BYPASS CHAPEL HILL, NC 27516</td>\n",
       "      <td>ASSAULT ON FEMALE</td>\n",
       "      <td>810.0</td>\n",
       "      <td>M</td>\n",
       "      <td>45.0</td>\n",
       "      <td>W</td>\n",
       "      <td>M</td>\n",
       "      <td>H</td>\n",
       "    </tr>\n",
       "    <tr>\n",
       "      <td>18808</td>\n",
       "      <td>26,509</td>\n",
       "      <td>2011-03-29</td>\n",
       "      <td>9:03 PM</td>\n",
       "      <td>1129 WEAVER DAIRY RD CHAPEL HILL, NC 27514</td>\n",
       "      <td>RESISTING ARREST</td>\n",
       "      <td>2650.0</td>\n",
       "      <td>M</td>\n",
       "      <td>51.0</td>\n",
       "      <td>W</td>\n",
       "      <td>M</td>\n",
       "      <td>NaN</td>\n",
       "    </tr>\n",
       "  </tbody>\n",
       "</table>\n",
       "</div>"
      ],
      "text/plain": [
       "      armainid arrest_date arrest_time  \\\n",
       "18804   26,456  2011-03-18     7:31 PM   \n",
       "18805   24,370  2010-03-12     4:10 PM   \n",
       "18806   26,497  2011-03-26    11:53 PM   \n",
       "18807   24,402  2010-03-18     9:16 PM   \n",
       "18808   26,509  2011-03-29     9:03 PM   \n",
       "\n",
       "                                           address         charge_description  \\\n",
       "18804      121 E FRANKLIN ST CHAPEL HILL, NC 27514         DRUNK / DISRUPTIVE   \n",
       "18805        106 N GRAHAM ST CHAPEL HILL, NC 27516       FAIL TO APPEAR/COMPL   \n",
       "18806          25 BRANDON RD CHAPEL HILL, NC 27517  NDL - SUSPENDED / REVOKED   \n",
       "18807  1100 NC HWY 54 BYPASS CHAPEL HILL, NC 27516          ASSAULT ON FEMALE   \n",
       "18808   1129 WEAVER DAIRY RD CHAPEL HILL, NC 27514           RESISTING ARREST   \n",
       "\n",
       "       ucr_code felony_or_misdemeanor  arrestee_s_age arrestee_s_race  \\\n",
       "18804    2450.0                     M            50.0               B   \n",
       "18805    2640.0                     M            41.0               B   \n",
       "18806    4010.0                     M            27.0               W   \n",
       "18807     810.0                     M            45.0               W   \n",
       "18808    2650.0                     M            51.0               W   \n",
       "\n",
       "      arrestee_s_sex arrestee_ethnicity  \n",
       "18804              M                NaN  \n",
       "18805              M                NaN  \n",
       "18806              M                  H  \n",
       "18807              M                  H  \n",
       "18808              M                NaN  "
      ]
     },
     "execution_count": 44,
     "metadata": {},
     "output_type": "execute_result"
    }
   ],
   "source": [
    "pam.tail()"
   ]
  },
  {
   "cell_type": "code",
   "execution_count": 116,
   "metadata": {},
   "outputs": [
    {
     "data": {
      "text/plain": [
       "{'Narcotic Crime', 'Property Crime', 'Violent Crime', nan}"
      ]
     },
     "execution_count": 116,
     "metadata": {},
     "output_type": "execute_result"
    }
   ],
   "source": [
    "set(pam_2.ucr_code)"
   ]
  },
  {
   "cell_type": "code",
   "execution_count": 14,
   "metadata": {},
   "outputs": [
    {
     "data": {
      "text/html": [
       "<div>\n",
       "<style scoped>\n",
       "    .dataframe tbody tr th:only-of-type {\n",
       "        vertical-align: middle;\n",
       "    }\n",
       "\n",
       "    .dataframe tbody tr th {\n",
       "        vertical-align: top;\n",
       "    }\n",
       "\n",
       "    .dataframe thead th {\n",
       "        text-align: right;\n",
       "    }\n",
       "</style>\n",
       "<table border=\"1\" class=\"dataframe\">\n",
       "  <thead>\n",
       "    <tr style=\"text-align: right;\">\n",
       "      <th></th>\n",
       "      <th>armainid</th>\n",
       "      <th>arrest_date</th>\n",
       "      <th>arrest_time</th>\n",
       "      <th>address</th>\n",
       "      <th>charge_description</th>\n",
       "      <th>ucr_code</th>\n",
       "      <th>felony_or_misdemeanor</th>\n",
       "      <th>arrestee_s_age</th>\n",
       "      <th>arrestee_s_race</th>\n",
       "      <th>arrestee_s_sex</th>\n",
       "      <th>arrestee_ethnicity</th>\n",
       "    </tr>\n",
       "  </thead>\n",
       "  <tbody>\n",
       "    <tr>\n",
       "      <td>0</td>\n",
       "      <td>31,198</td>\n",
       "      <td>2013-11-11</td>\n",
       "      <td>10:58 PM</td>\n",
       "      <td>100 N COLUMBIA ST CHAPEL HILL, NC 27514</td>\n",
       "      <td>DRUGS-MAINTAIN</td>\n",
       "      <td>2.0</td>\n",
       "      <td>M</td>\n",
       "      <td>32.0</td>\n",
       "      <td>B</td>\n",
       "      <td>M</td>\n",
       "      <td>NaN</td>\n",
       "    </tr>\n",
       "    <tr>\n",
       "      <td>1</td>\n",
       "      <td>31,201</td>\n",
       "      <td>2013-11-12</td>\n",
       "      <td>2:38 PM</td>\n",
       "      <td>828 MARTIN LUTHER KING JR BLVD CHAPEL HILL, NC...</td>\n",
       "      <td>ASSAULT-SIMPLE</td>\n",
       "      <td>0.0</td>\n",
       "      <td>M</td>\n",
       "      <td>25.0</td>\n",
       "      <td>B</td>\n",
       "      <td>F</td>\n",
       "      <td>NaN</td>\n",
       "    </tr>\n",
       "    <tr>\n",
       "      <td>2</td>\n",
       "      <td>31,209</td>\n",
       "      <td>2013-11-15</td>\n",
       "      <td>3:50 PM</td>\n",
       "      <td>100 W ROSEMARY ST CHAPEL HILL, NC 27516</td>\n",
       "      <td>ASSAULT &amp; BATTERY</td>\n",
       "      <td>0.0</td>\n",
       "      <td>M</td>\n",
       "      <td>27.0</td>\n",
       "      <td>W</td>\n",
       "      <td>M</td>\n",
       "      <td>NaN</td>\n",
       "    </tr>\n",
       "    <tr>\n",
       "      <td>3</td>\n",
       "      <td>31,216</td>\n",
       "      <td>2013-11-20</td>\n",
       "      <td>4:44 AM</td>\n",
       "      <td>MLK/NEW STATESIDE DR CHAPEL HILL, NC 27514</td>\n",
       "      <td>IMPAIRED DRIVING DWI</td>\n",
       "      <td>0.0</td>\n",
       "      <td>M</td>\n",
       "      <td>24.0</td>\n",
       "      <td>B</td>\n",
       "      <td>M</td>\n",
       "      <td>NaN</td>\n",
       "    </tr>\n",
       "    <tr>\n",
       "      <td>4</td>\n",
       "      <td>31,216</td>\n",
       "      <td>2013-11-20</td>\n",
       "      <td>4:44 AM</td>\n",
       "      <td>MLK/NEW STATESIDE DR CHAPEL HILL, NC 27514</td>\n",
       "      <td>DRIVING W/LIC REVOKED</td>\n",
       "      <td>0.0</td>\n",
       "      <td>M</td>\n",
       "      <td>24.0</td>\n",
       "      <td>B</td>\n",
       "      <td>M</td>\n",
       "      <td>NaN</td>\n",
       "    </tr>\n",
       "    <tr>\n",
       "      <td>...</td>\n",
       "      <td>...</td>\n",
       "      <td>...</td>\n",
       "      <td>...</td>\n",
       "      <td>...</td>\n",
       "      <td>...</td>\n",
       "      <td>...</td>\n",
       "      <td>...</td>\n",
       "      <td>...</td>\n",
       "      <td>...</td>\n",
       "      <td>...</td>\n",
       "      <td>...</td>\n",
       "    </tr>\n",
       "    <tr>\n",
       "      <td>18804</td>\n",
       "      <td>26,456</td>\n",
       "      <td>2011-03-18</td>\n",
       "      <td>7:31 PM</td>\n",
       "      <td>121 E FRANKLIN ST CHAPEL HILL, NC 27514</td>\n",
       "      <td>DRUNK / DISRUPTIVE</td>\n",
       "      <td>0.0</td>\n",
       "      <td>M</td>\n",
       "      <td>50.0</td>\n",
       "      <td>B</td>\n",
       "      <td>M</td>\n",
       "      <td>NaN</td>\n",
       "    </tr>\n",
       "    <tr>\n",
       "      <td>18805</td>\n",
       "      <td>24,370</td>\n",
       "      <td>2010-03-12</td>\n",
       "      <td>4:10 PM</td>\n",
       "      <td>106 N GRAHAM ST CHAPEL HILL, NC 27516</td>\n",
       "      <td>FAIL TO APPEAR/COMPL</td>\n",
       "      <td>0.0</td>\n",
       "      <td>M</td>\n",
       "      <td>41.0</td>\n",
       "      <td>B</td>\n",
       "      <td>M</td>\n",
       "      <td>NaN</td>\n",
       "    </tr>\n",
       "    <tr>\n",
       "      <td>18806</td>\n",
       "      <td>26,497</td>\n",
       "      <td>2011-03-26</td>\n",
       "      <td>11:53 PM</td>\n",
       "      <td>25 BRANDON RD CHAPEL HILL, NC 27517</td>\n",
       "      <td>NDL - SUSPENDED / REVOKED</td>\n",
       "      <td>0.0</td>\n",
       "      <td>M</td>\n",
       "      <td>27.0</td>\n",
       "      <td>W</td>\n",
       "      <td>M</td>\n",
       "      <td>H</td>\n",
       "    </tr>\n",
       "    <tr>\n",
       "      <td>18807</td>\n",
       "      <td>24,402</td>\n",
       "      <td>2010-03-18</td>\n",
       "      <td>9:16 PM</td>\n",
       "      <td>1100 NC HWY 54 BYPASS CHAPEL HILL, NC 27516</td>\n",
       "      <td>ASSAULT ON FEMALE</td>\n",
       "      <td>0.0</td>\n",
       "      <td>M</td>\n",
       "      <td>45.0</td>\n",
       "      <td>W</td>\n",
       "      <td>M</td>\n",
       "      <td>H</td>\n",
       "    </tr>\n",
       "    <tr>\n",
       "      <td>18808</td>\n",
       "      <td>26,509</td>\n",
       "      <td>2011-03-29</td>\n",
       "      <td>9:03 PM</td>\n",
       "      <td>1129 WEAVER DAIRY RD CHAPEL HILL, NC 27514</td>\n",
       "      <td>RESISTING ARREST</td>\n",
       "      <td>0.0</td>\n",
       "      <td>M</td>\n",
       "      <td>51.0</td>\n",
       "      <td>W</td>\n",
       "      <td>M</td>\n",
       "      <td>NaN</td>\n",
       "    </tr>\n",
       "  </tbody>\n",
       "</table>\n",
       "<p>18809 rows × 11 columns</p>\n",
       "</div>"
      ],
      "text/plain": [
       "      armainid arrest_date arrest_time  \\\n",
       "0       31,198  2013-11-11    10:58 PM   \n",
       "1       31,201  2013-11-12     2:38 PM   \n",
       "2       31,209  2013-11-15     3:50 PM   \n",
       "3       31,216  2013-11-20     4:44 AM   \n",
       "4       31,216  2013-11-20     4:44 AM   \n",
       "...        ...         ...         ...   \n",
       "18804   26,456  2011-03-18     7:31 PM   \n",
       "18805   24,370  2010-03-12     4:10 PM   \n",
       "18806   26,497  2011-03-26    11:53 PM   \n",
       "18807   24,402  2010-03-18     9:16 PM   \n",
       "18808   26,509  2011-03-29     9:03 PM   \n",
       "\n",
       "                                                 address  \\\n",
       "0                100 N COLUMBIA ST CHAPEL HILL, NC 27514   \n",
       "1      828 MARTIN LUTHER KING JR BLVD CHAPEL HILL, NC...   \n",
       "2                100 W ROSEMARY ST CHAPEL HILL, NC 27516   \n",
       "3             MLK/NEW STATESIDE DR CHAPEL HILL, NC 27514   \n",
       "4             MLK/NEW STATESIDE DR CHAPEL HILL, NC 27514   \n",
       "...                                                  ...   \n",
       "18804            121 E FRANKLIN ST CHAPEL HILL, NC 27514   \n",
       "18805              106 N GRAHAM ST CHAPEL HILL, NC 27516   \n",
       "18806                25 BRANDON RD CHAPEL HILL, NC 27517   \n",
       "18807        1100 NC HWY 54 BYPASS CHAPEL HILL, NC 27516   \n",
       "18808         1129 WEAVER DAIRY RD CHAPEL HILL, NC 27514   \n",
       "\n",
       "              charge_description  ucr_code felony_or_misdemeanor  \\\n",
       "0                 DRUGS-MAINTAIN       2.0                     M   \n",
       "1                 ASSAULT-SIMPLE       0.0                     M   \n",
       "2              ASSAULT & BATTERY       0.0                     M   \n",
       "3           IMPAIRED DRIVING DWI       0.0                     M   \n",
       "4          DRIVING W/LIC REVOKED       0.0                     M   \n",
       "...                          ...       ...                   ...   \n",
       "18804         DRUNK / DISRUPTIVE       0.0                     M   \n",
       "18805       FAIL TO APPEAR/COMPL       0.0                     M   \n",
       "18806  NDL - SUSPENDED / REVOKED       0.0                     M   \n",
       "18807          ASSAULT ON FEMALE       0.0                     M   \n",
       "18808           RESISTING ARREST       0.0                     M   \n",
       "\n",
       "       arrestee_s_age arrestee_s_race arrestee_s_sex arrestee_ethnicity  \n",
       "0                32.0               B              M                NaN  \n",
       "1                25.0               B              F                NaN  \n",
       "2                27.0               W              M                NaN  \n",
       "3                24.0               B              M                NaN  \n",
       "4                24.0               B              M                NaN  \n",
       "...               ...             ...            ...                ...  \n",
       "18804            50.0               B              M                NaN  \n",
       "18805            41.0               B              M                NaN  \n",
       "18806            27.0               W              M                  H  \n",
       "18807            45.0               W              M                  H  \n",
       "18808            51.0               W              M                NaN  \n",
       "\n",
       "[18809 rows x 11 columns]"
      ]
     },
     "execution_count": 14,
     "metadata": {},
     "output_type": "execute_result"
    }
   ],
   "source": [
    "pam = pa.read_csv('../police-arrests-made.csv', sep = ';')\n",
    "\n",
    "pam_2_dict4 = {x: 0 for x in list(set(pam_2.ucr_code))\n",
    "             if x in ['Violent Crime']}\n",
    "pam_2_dict5 = {x: 1 for x in list(set(pam_2.ucr_code)) \n",
    "             if x in['Property Crime']}\n",
    "pam_2_dict6 = {x: 2 for x in list (set(pam_2.ucr_code))\n",
    "             if x in ['Narcotic Crime']}\n",
    "\n",
    "pam_2_dict4.update(pam_2_dict5) # merge the two dictionaries\n",
    "\n",
    "pam_2_dict4.update(pam_2_dict6) # merge the third dictionary\n",
    "\n",
    "\n",
    "pam_3 = pam_2.copy()   # pandas.dataframe is a mutable object so we use the .copy() command \n",
    "                         # otherwise changes to pam_2 will change major\n",
    "    \n",
    "pam_3.ucr_code = pam_3.ucr_code.map(pam_2_dict4)  # use the dictionary we made to recode the values with .map()\n",
    "\n",
    "pam_3 # print the dataframe to check if there is a problem\n"
   ]
  },
  {
   "cell_type": "code",
   "execution_count": 118,
   "metadata": {},
   "outputs": [
    {
     "data": {
      "text/plain": [
       "{'A', 'B', 'H', 'I', 'O', 'U', 'W', nan}"
      ]
     },
     "execution_count": 118,
     "metadata": {},
     "output_type": "execute_result"
    }
   ],
   "source": [
    "set(pam.arrestee_s_race)"
   ]
  },
  {
   "cell_type": "code",
   "execution_count": 37,
   "metadata": {},
   "outputs": [],
   "source": [
    "def onehot(df, feature):\n",
    "    '''A function to do one-hot-encoding of a feature from a dataframe. df = dataframe'''\n",
    "\n",
    "    pamv = list(set(df[feature])) # Make an iterable of the unique values for the feature\n",
    "    \n",
    "    for c in df.index: # cycle through the samples\n",
    "        t = df.loc[c, feature]\n",
    "        \n",
    "        for test in pamv:\n",
    "            if pa.isna(test):  # nan values are sort of a problem and have to be handled separately\n",
    "                if pa.isna(t):\n",
    "                    df.loc[c, '{}_nan'.format(feature)] = 1\n",
    "                else:\n",
    "                    df.loc[c, '{}_nan'.format(feature)] = 0\n",
    "            else:\n",
    "                if t == test:\n",
    "                    df.loc[c, '{}_{}'.format(feature, test)] = 1  # Makes a new feature with name feature_value\n",
    "                                                              # and codes it as a 1 if that was the value\n",
    "                else:\n",
    "                    df.loc[c, '{}_{}'.format(feature, test)] = 0  # and 0 otherwise\n",
    "            \n",
    "    return df.drop(feature, axis=1) # returns a dataframe with the encoded feature removed"
   ]
  },
  {
   "cell_type": "code",
   "execution_count": 38,
   "metadata": {},
   "outputs": [
    {
     "data": {
      "text/html": [
       "<div>\n",
       "<style scoped>\n",
       "    .dataframe tbody tr th:only-of-type {\n",
       "        vertical-align: middle;\n",
       "    }\n",
       "\n",
       "    .dataframe tbody tr th {\n",
       "        vertical-align: top;\n",
       "    }\n",
       "\n",
       "    .dataframe thead th {\n",
       "        text-align: right;\n",
       "    }\n",
       "</style>\n",
       "<table border=\"1\" class=\"dataframe\">\n",
       "  <thead>\n",
       "    <tr style=\"text-align: right;\">\n",
       "      <th></th>\n",
       "      <th>armainid</th>\n",
       "      <th>arrest_date</th>\n",
       "      <th>arrest_time</th>\n",
       "      <th>address</th>\n",
       "      <th>charge_description</th>\n",
       "      <th>ucr_code</th>\n",
       "      <th>felony_or_misdemeanor</th>\n",
       "      <th>arrestee_s_age</th>\n",
       "      <th>arrestee_s_sex</th>\n",
       "      <th>arrestee_ethnicity</th>\n",
       "      <th>arrestee_s_race_nan</th>\n",
       "      <th>arrestee_s_race_W</th>\n",
       "      <th>arrestee_s_race_I</th>\n",
       "      <th>arrestee_s_race_B</th>\n",
       "      <th>arrestee_s_race_H</th>\n",
       "      <th>arrestee_s_race_O</th>\n",
       "      <th>arrestee_s_race_A</th>\n",
       "      <th>arrestee_s_race_U</th>\n",
       "    </tr>\n",
       "  </thead>\n",
       "  <tbody>\n",
       "    <tr>\n",
       "      <td>30</td>\n",
       "      <td>31,697</td>\n",
       "      <td>2014-04-01</td>\n",
       "      <td>8:19 AM</td>\n",
       "      <td>100 E FRANKLIN ST CHAPEL HILL, NC 27514</td>\n",
       "      <td>DRIVING W/LIC REVOKED</td>\n",
       "      <td>0.0</td>\n",
       "      <td>M</td>\n",
       "      <td>26.0</td>\n",
       "      <td>M</td>\n",
       "      <td>NaN</td>\n",
       "      <td>0.0</td>\n",
       "      <td>0.0</td>\n",
       "      <td>0.0</td>\n",
       "      <td>1.0</td>\n",
       "      <td>0.0</td>\n",
       "      <td>0.0</td>\n",
       "      <td>0.0</td>\n",
       "      <td>0.0</td>\n",
       "    </tr>\n",
       "    <tr>\n",
       "      <td>31</td>\n",
       "      <td>31,719</td>\n",
       "      <td>2014-04-05</td>\n",
       "      <td>2:15 AM</td>\n",
       "      <td>PRITCHARD AVE &amp; CARR ST CHAPEL HILL, NC 27516</td>\n",
       "      <td>OPEN CONTAINER</td>\n",
       "      <td>0.0</td>\n",
       "      <td>M</td>\n",
       "      <td>22.0</td>\n",
       "      <td>F</td>\n",
       "      <td>NaN</td>\n",
       "      <td>0.0</td>\n",
       "      <td>1.0</td>\n",
       "      <td>0.0</td>\n",
       "      <td>0.0</td>\n",
       "      <td>0.0</td>\n",
       "      <td>0.0</td>\n",
       "      <td>0.0</td>\n",
       "      <td>0.0</td>\n",
       "    </tr>\n",
       "    <tr>\n",
       "      <td>32</td>\n",
       "      <td>31,730</td>\n",
       "      <td>2014-04-05</td>\n",
       "      <td>2:25 AM</td>\n",
       "      <td>PRITCHARD AVE NEAR CARR ST CHAPEL HILL, NC 27516</td>\n",
       "      <td>OPEN CONTAINER</td>\n",
       "      <td>0.0</td>\n",
       "      <td>M</td>\n",
       "      <td>21.0</td>\n",
       "      <td>F</td>\n",
       "      <td>NaN</td>\n",
       "      <td>0.0</td>\n",
       "      <td>1.0</td>\n",
       "      <td>0.0</td>\n",
       "      <td>0.0</td>\n",
       "      <td>0.0</td>\n",
       "      <td>0.0</td>\n",
       "      <td>0.0</td>\n",
       "      <td>0.0</td>\n",
       "    </tr>\n",
       "    <tr>\n",
       "      <td>33</td>\n",
       "      <td>31,761</td>\n",
       "      <td>2014-04-10</td>\n",
       "      <td>12:20 PM</td>\n",
       "      <td>828 MARTIN LUTHER KING JR BLVD CHAPEL HILL, NC...</td>\n",
       "      <td>LARCENY -  ALL OTHER</td>\n",
       "      <td>1.0</td>\n",
       "      <td>M</td>\n",
       "      <td>26.0</td>\n",
       "      <td>M</td>\n",
       "      <td>NaN</td>\n",
       "      <td>0.0</td>\n",
       "      <td>0.0</td>\n",
       "      <td>0.0</td>\n",
       "      <td>1.0</td>\n",
       "      <td>0.0</td>\n",
       "      <td>0.0</td>\n",
       "      <td>0.0</td>\n",
       "      <td>0.0</td>\n",
       "    </tr>\n",
       "    <tr>\n",
       "      <td>34</td>\n",
       "      <td>31,763</td>\n",
       "      <td>2014-04-10</td>\n",
       "      <td>4:30 PM</td>\n",
       "      <td>FORSYTH AND LEGION RD CHAPEL HILL, NC 27514</td>\n",
       "      <td>PWISD II CS</td>\n",
       "      <td>2.0</td>\n",
       "      <td>F</td>\n",
       "      <td>31.0</td>\n",
       "      <td>M</td>\n",
       "      <td>NaN</td>\n",
       "      <td>0.0</td>\n",
       "      <td>0.0</td>\n",
       "      <td>0.0</td>\n",
       "      <td>1.0</td>\n",
       "      <td>0.0</td>\n",
       "      <td>0.0</td>\n",
       "      <td>0.0</td>\n",
       "      <td>0.0</td>\n",
       "    </tr>\n",
       "    <tr>\n",
       "      <td>35</td>\n",
       "      <td>31,763</td>\n",
       "      <td>2014-04-10</td>\n",
       "      <td>4:30 PM</td>\n",
       "      <td>FORSYTH AND LEGION RD CHAPEL HILL, NC 27514</td>\n",
       "      <td>DRUGS-MISD POSS</td>\n",
       "      <td>2.0</td>\n",
       "      <td>M</td>\n",
       "      <td>31.0</td>\n",
       "      <td>M</td>\n",
       "      <td>NaN</td>\n",
       "      <td>0.0</td>\n",
       "      <td>0.0</td>\n",
       "      <td>0.0</td>\n",
       "      <td>1.0</td>\n",
       "      <td>0.0</td>\n",
       "      <td>0.0</td>\n",
       "      <td>0.0</td>\n",
       "      <td>0.0</td>\n",
       "    </tr>\n",
       "    <tr>\n",
       "      <td>36</td>\n",
       "      <td>31,768</td>\n",
       "      <td>2014-04-10</td>\n",
       "      <td>11:28 PM</td>\n",
       "      <td>400 BLK CHURCH STREET CHAPEL HILL, NC 27516</td>\n",
       "      <td>OPEN CONTAINER</td>\n",
       "      <td>0.0</td>\n",
       "      <td>M</td>\n",
       "      <td>21.0</td>\n",
       "      <td>M</td>\n",
       "      <td>NaN</td>\n",
       "      <td>0.0</td>\n",
       "      <td>1.0</td>\n",
       "      <td>0.0</td>\n",
       "      <td>0.0</td>\n",
       "      <td>0.0</td>\n",
       "      <td>0.0</td>\n",
       "      <td>0.0</td>\n",
       "      <td>0.0</td>\n",
       "    </tr>\n",
       "    <tr>\n",
       "      <td>37</td>\n",
       "      <td>31,835</td>\n",
       "      <td>2014-04-25</td>\n",
       "      <td>11:40 PM</td>\n",
       "      <td>110 W CAMERON AVE/PITTSBORO ST CHAPEL HILL, NC...</td>\n",
       "      <td>UNDERAGE POSSESSION</td>\n",
       "      <td>0.0</td>\n",
       "      <td>M</td>\n",
       "      <td>19.0</td>\n",
       "      <td>F</td>\n",
       "      <td>NaN</td>\n",
       "      <td>0.0</td>\n",
       "      <td>1.0</td>\n",
       "      <td>0.0</td>\n",
       "      <td>0.0</td>\n",
       "      <td>0.0</td>\n",
       "      <td>0.0</td>\n",
       "      <td>0.0</td>\n",
       "      <td>0.0</td>\n",
       "    </tr>\n",
       "    <tr>\n",
       "      <td>38</td>\n",
       "      <td>31,844</td>\n",
       "      <td>2014-04-27</td>\n",
       "      <td>1:40 AM</td>\n",
       "      <td>112 1/2 W. FRANKLIN ST CHAPEL HILL, NC 27516</td>\n",
       "      <td>UNDERAGE POSSESSION</td>\n",
       "      <td>0.0</td>\n",
       "      <td>M</td>\n",
       "      <td>21.0</td>\n",
       "      <td>F</td>\n",
       "      <td>NaN</td>\n",
       "      <td>0.0</td>\n",
       "      <td>1.0</td>\n",
       "      <td>0.0</td>\n",
       "      <td>0.0</td>\n",
       "      <td>0.0</td>\n",
       "      <td>0.0</td>\n",
       "      <td>0.0</td>\n",
       "      <td>0.0</td>\n",
       "    </tr>\n",
       "    <tr>\n",
       "      <td>39</td>\n",
       "      <td>31,845</td>\n",
       "      <td>2014-04-26</td>\n",
       "      <td>11:40 PM</td>\n",
       "      <td>100 BLOCK MALLETTE ST CHAPEL HILL, NC 27516</td>\n",
       "      <td>OPEN CONTAINER</td>\n",
       "      <td>0.0</td>\n",
       "      <td>M</td>\n",
       "      <td>29.0</td>\n",
       "      <td>M</td>\n",
       "      <td>H</td>\n",
       "      <td>0.0</td>\n",
       "      <td>1.0</td>\n",
       "      <td>0.0</td>\n",
       "      <td>0.0</td>\n",
       "      <td>0.0</td>\n",
       "      <td>0.0</td>\n",
       "      <td>0.0</td>\n",
       "      <td>0.0</td>\n",
       "    </tr>\n",
       "  </tbody>\n",
       "</table>\n",
       "</div>"
      ],
      "text/plain": [
       "   armainid arrest_date arrest_time  \\\n",
       "30   31,697  2014-04-01     8:19 AM   \n",
       "31   31,719  2014-04-05     2:15 AM   \n",
       "32   31,730  2014-04-05     2:25 AM   \n",
       "33   31,761  2014-04-10    12:20 PM   \n",
       "34   31,763  2014-04-10     4:30 PM   \n",
       "35   31,763  2014-04-10     4:30 PM   \n",
       "36   31,768  2014-04-10    11:28 PM   \n",
       "37   31,835  2014-04-25    11:40 PM   \n",
       "38   31,844  2014-04-27     1:40 AM   \n",
       "39   31,845  2014-04-26    11:40 PM   \n",
       "\n",
       "                                              address     charge_description  \\\n",
       "30            100 E FRANKLIN ST CHAPEL HILL, NC 27514  DRIVING W/LIC REVOKED   \n",
       "31      PRITCHARD AVE & CARR ST CHAPEL HILL, NC 27516         OPEN CONTAINER   \n",
       "32   PRITCHARD AVE NEAR CARR ST CHAPEL HILL, NC 27516         OPEN CONTAINER   \n",
       "33  828 MARTIN LUTHER KING JR BLVD CHAPEL HILL, NC...   LARCENY -  ALL OTHER   \n",
       "34        FORSYTH AND LEGION RD CHAPEL HILL, NC 27514            PWISD II CS   \n",
       "35        FORSYTH AND LEGION RD CHAPEL HILL, NC 27514        DRUGS-MISD POSS   \n",
       "36        400 BLK CHURCH STREET CHAPEL HILL, NC 27516         OPEN CONTAINER   \n",
       "37  110 W CAMERON AVE/PITTSBORO ST CHAPEL HILL, NC...    UNDERAGE POSSESSION   \n",
       "38       112 1/2 W. FRANKLIN ST CHAPEL HILL, NC 27516    UNDERAGE POSSESSION   \n",
       "39        100 BLOCK MALLETTE ST CHAPEL HILL, NC 27516         OPEN CONTAINER   \n",
       "\n",
       "    ucr_code felony_or_misdemeanor  arrestee_s_age arrestee_s_sex  \\\n",
       "30       0.0                     M            26.0              M   \n",
       "31       0.0                     M            22.0              F   \n",
       "32       0.0                     M            21.0              F   \n",
       "33       1.0                     M            26.0              M   \n",
       "34       2.0                     F            31.0              M   \n",
       "35       2.0                     M            31.0              M   \n",
       "36       0.0                     M            21.0              M   \n",
       "37       0.0                     M            19.0              F   \n",
       "38       0.0                     M            21.0              F   \n",
       "39       0.0                     M            29.0              M   \n",
       "\n",
       "   arrestee_ethnicity  arrestee_s_race_nan  arrestee_s_race_W  \\\n",
       "30                NaN                  0.0                0.0   \n",
       "31                NaN                  0.0                1.0   \n",
       "32                NaN                  0.0                1.0   \n",
       "33                NaN                  0.0                0.0   \n",
       "34                NaN                  0.0                0.0   \n",
       "35                NaN                  0.0                0.0   \n",
       "36                NaN                  0.0                1.0   \n",
       "37                NaN                  0.0                1.0   \n",
       "38                NaN                  0.0                1.0   \n",
       "39                  H                  0.0                1.0   \n",
       "\n",
       "    arrestee_s_race_I  arrestee_s_race_B  arrestee_s_race_H  \\\n",
       "30                0.0                1.0                0.0   \n",
       "31                0.0                0.0                0.0   \n",
       "32                0.0                0.0                0.0   \n",
       "33                0.0                1.0                0.0   \n",
       "34                0.0                1.0                0.0   \n",
       "35                0.0                1.0                0.0   \n",
       "36                0.0                0.0                0.0   \n",
       "37                0.0                0.0                0.0   \n",
       "38                0.0                0.0                0.0   \n",
       "39                0.0                0.0                0.0   \n",
       "\n",
       "    arrestee_s_race_O  arrestee_s_race_A  arrestee_s_race_U  \n",
       "30                0.0                0.0                0.0  \n",
       "31                0.0                0.0                0.0  \n",
       "32                0.0                0.0                0.0  \n",
       "33                0.0                0.0                0.0  \n",
       "34                0.0                0.0                0.0  \n",
       "35                0.0                0.0                0.0  \n",
       "36                0.0                0.0                0.0  \n",
       "37                0.0                0.0                0.0  \n",
       "38                0.0                0.0                0.0  \n",
       "39                0.0                0.0                0.0  "
      ]
     },
     "execution_count": 38,
     "metadata": {},
     "output_type": "execute_result"
    }
   ],
   "source": [
    "pam_hot1 = onehot(pam_3, 'arrestee_s_race')\n",
    "pam_hot1[30:40]"
   ]
  },
  {
   "cell_type": "code",
   "execution_count": 45,
   "metadata": {
    "jupyter": {
     "source_hidden": true
    }
   },
   "outputs": [
    {
     "data": {
      "text/plain": [
       "{0.0, 1.0}"
      ]
     },
     "execution_count": 45,
     "metadata": {},
     "output_type": "execute_result"
    }
   ],
   "source": [
    "#set(pam_hot1.arrestee_s_race_nan)\n",
    "#set(pam_hot1.arrestee_s_race_O)\n",
    "#set(pam_hot1.arrestee_s_race_I)\n",
    "#set(pam_hot1.arrestee_s_race_U)\n",
    "set(pam_hot1.arrestee_s_race_B)\n",
    "#set(pam_hot1.arrestee_s_race_A)\n",
    "#set(pam_hot1.arrestee_s_race_W)\n",
    "#set(pam_hot1.arrestee_s_race_H)"
   ]
  },
  {
   "cell_type": "markdown",
   "metadata": {},
   "source": [
    "TESTS TO BE COMPLETED:\n",
    "\n",
    "~Connor~\n",
    "\n",
    "~Logistic Regression~\n",
    "       \n",
    "~Faith~\n",
    "\n",
    "~k-nearest Neighbors~\n",
    "            \n",
    "~Sandra~\n",
    "\n",
    "~Linear and Quadratic Discriminant Analysis~\n",
    "       \n",
    "       \n",
    "~Sam~\n",
    "\n",
    "~Support Vector Machine~\n",
    "       \n",
    "       \n",
    "Each individual will run the test and then bootstrap or cross validate, then add that to the CV_Group Presentation. It is up to the individual if they want to run the test once, then bootstrap (like the class examples go). Please save all work though, so we have it to add to the document now, or down the road."
   ]
  },
  {
   "cell_type": "code",
   "execution_count": 122,
   "metadata": {},
   "outputs": [
    {
     "data": {
      "text/html": [
       "<div>\n",
       "<style scoped>\n",
       "    .dataframe tbody tr th:only-of-type {\n",
       "        vertical-align: middle;\n",
       "    }\n",
       "\n",
       "    .dataframe tbody tr th {\n",
       "        vertical-align: top;\n",
       "    }\n",
       "\n",
       "    .dataframe thead th {\n",
       "        text-align: right;\n",
       "    }\n",
       "</style>\n",
       "<table border=\"1\" class=\"dataframe\">\n",
       "  <thead>\n",
       "    <tr style=\"text-align: right;\">\n",
       "      <th>ucr_code</th>\n",
       "      <th>0.0</th>\n",
       "      <th>1.0</th>\n",
       "      <th>2.0</th>\n",
       "    </tr>\n",
       "    <tr>\n",
       "      <th>arrestee_s_race</th>\n",
       "      <th></th>\n",
       "      <th></th>\n",
       "      <th></th>\n",
       "    </tr>\n",
       "  </thead>\n",
       "  <tbody>\n",
       "    <tr>\n",
       "      <td>A</td>\n",
       "      <td>359.0</td>\n",
       "      <td>29.0</td>\n",
       "      <td>56.0</td>\n",
       "    </tr>\n",
       "    <tr>\n",
       "      <td>B</td>\n",
       "      <td>6316.0</td>\n",
       "      <td>1268.0</td>\n",
       "      <td>1085.0</td>\n",
       "    </tr>\n",
       "    <tr>\n",
       "      <td>H</td>\n",
       "      <td>81.0</td>\n",
       "      <td>3.0</td>\n",
       "      <td>12.0</td>\n",
       "    </tr>\n",
       "    <tr>\n",
       "      <td>I</td>\n",
       "      <td>38.0</td>\n",
       "      <td>4.0</td>\n",
       "      <td>6.0</td>\n",
       "    </tr>\n",
       "    <tr>\n",
       "      <td>O</td>\n",
       "      <td>10.0</td>\n",
       "      <td>2.0</td>\n",
       "      <td>NaN</td>\n",
       "    </tr>\n",
       "    <tr>\n",
       "      <td>U</td>\n",
       "      <td>1.0</td>\n",
       "      <td>NaN</td>\n",
       "      <td>NaN</td>\n",
       "    </tr>\n",
       "    <tr>\n",
       "      <td>W</td>\n",
       "      <td>7217.0</td>\n",
       "      <td>975.0</td>\n",
       "      <td>1155.0</td>\n",
       "    </tr>\n",
       "  </tbody>\n",
       "</table>\n",
       "</div>"
      ],
      "text/plain": [
       "ucr_code            0.0     1.0     2.0\n",
       "arrestee_s_race                        \n",
       "A                 359.0    29.0    56.0\n",
       "B                6316.0  1268.0  1085.0\n",
       "H                  81.0     3.0    12.0\n",
       "I                  38.0     4.0     6.0\n",
       "O                  10.0     2.0     NaN\n",
       "U                   1.0     NaN     NaN\n",
       "W                7217.0   975.0  1155.0"
      ]
     },
     "execution_count": 122,
     "metadata": {},
     "output_type": "execute_result"
    }
   ],
   "source": [
    "temp = pam_3.groupby('ucr_code').arrestee_s_race.value_counts().unstack(0)\n",
    "temp"
   ]
  },
  {
   "cell_type": "code",
   "execution_count": 123,
   "metadata": {},
   "outputs": [
    {
     "data": {
      "text/html": [
       "<div>\n",
       "<style scoped>\n",
       "    .dataframe tbody tr th:only-of-type {\n",
       "        vertical-align: middle;\n",
       "    }\n",
       "\n",
       "    .dataframe tbody tr th {\n",
       "        vertical-align: top;\n",
       "    }\n",
       "\n",
       "    .dataframe thead th {\n",
       "        text-align: right;\n",
       "    }\n",
       "</style>\n",
       "<table border=\"1\" class=\"dataframe\">\n",
       "  <thead>\n",
       "    <tr style=\"text-align: right;\">\n",
       "      <th></th>\n",
       "      <th></th>\n",
       "      <th>COUNT</th>\n",
       "    </tr>\n",
       "    <tr>\n",
       "      <th>charge_description</th>\n",
       "      <th>arrestee_s_race</th>\n",
       "      <th></th>\n",
       "    </tr>\n",
       "  </thead>\n",
       "  <tbody>\n",
       "    <tr>\n",
       "      <td>(FTA) COMMUNICATE THREATS</td>\n",
       "      <td>W</td>\n",
       "      <td>1</td>\n",
       "    </tr>\n",
       "    <tr>\n",
       "      <td>(FTA) HIT/RUN LEAVE SCENE OF PROPERTY DAMAGE</td>\n",
       "      <td>B</td>\n",
       "      <td>1</td>\n",
       "    </tr>\n",
       "    <tr>\n",
       "      <td>(FTA) RECKLESS DRIVING</td>\n",
       "      <td>B</td>\n",
       "      <td>1</td>\n",
       "    </tr>\n",
       "    <tr>\n",
       "      <td>(FTA) SPEEDING</td>\n",
       "      <td>B</td>\n",
       "      <td>1</td>\n",
       "    </tr>\n",
       "    <tr>\n",
       "      <td>(OFA) PROBATION VIOLATION</td>\n",
       "      <td>W</td>\n",
       "      <td>1</td>\n",
       "    </tr>\n",
       "  </tbody>\n",
       "</table>\n",
       "</div>"
      ],
      "text/plain": [
       "                                                              COUNT\n",
       "charge_description                           arrestee_s_race       \n",
       "(FTA) COMMUNICATE THREATS                    W                    1\n",
       "(FTA) HIT/RUN LEAVE SCENE OF PROPERTY DAMAGE B                    1\n",
       "(FTA) RECKLESS DRIVING                       B                    1\n",
       "(FTA) SPEEDING                               B                    1\n",
       "(OFA) PROBATION VIOLATION                    W                    1"
      ]
     },
     "execution_count": 123,
     "metadata": {},
     "output_type": "execute_result"
    }
   ],
   "source": [
    "pamC = pam_3.loc[:, ['charge_description', 'arrestee_s_race']]  # Keep only the columns we want here\n",
    "pamC.loc[:, 'COUNT'] = 1   # Add a variable for counting unique values\n",
    "pamC = pamC.groupby(['charge_description', 'arrestee_s_race']).sum()   \n",
    " # Sum the values after grouping by County, \n",
    "       # City, and Provider Type\n",
    "    \n",
    "pamC.head()\n",
    "\n",
    "#sn.barplot(x = 'COUNT', y = 'charge_description', data = pam_3.reset_index() )\n"
   ]
  },
  {
   "cell_type": "code",
   "execution_count": 124,
   "metadata": {},
   "outputs": [
    {
     "data": {
      "text/plain": [
       "<matplotlib.axes._subplots.AxesSubplot at 0x1b4934afbc8>"
      ]
     },
     "execution_count": 124,
     "metadata": {},
     "output_type": "execute_result"
    },
    {
     "data": {
      "image/png": "[encoded data removed]",
      "text/plain": [
       "<Figure size 720x432 with 1 Axes>"
      ]
     },
     "metadata": {},
     "output_type": "display_data"
    }
   ],
   "source": [
    "fig, ax = plt.subplots( figsize = (10,6))\n",
    "temp.plot.bar(ax = ax)"
   ]
  },
  {
   "cell_type": "code",
   "execution_count": 17,
   "metadata": {
    "collapsed": true,
    "jupyter": {
     "outputs_hidden": true,
     "source_hidden": true
    }
   },
   "outputs": [
    {
     "data": {
      "text/html": [
       "<div>\n",
       "<style scoped>\n",
       "    .dataframe tbody tr th:only-of-type {\n",
       "        vertical-align: middle;\n",
       "    }\n",
       "\n",
       "    .dataframe tbody tr th {\n",
       "        vertical-align: top;\n",
       "    }\n",
       "\n",
       "    .dataframe thead th {\n",
       "        text-align: right;\n",
       "    }\n",
       "</style>\n",
       "<table border=\"1\" class=\"dataframe\">\n",
       "  <thead>\n",
       "    <tr style=\"text-align: right;\">\n",
       "      <th></th>\n",
       "      <th></th>\n",
       "      <th>address</th>\n",
       "      <th>armainid</th>\n",
       "      <th>arrest_date</th>\n",
       "      <th>arrest_time</th>\n",
       "      <th>arrestee_s_race</th>\n",
       "      <th>arrestee_s_sex</th>\n",
       "      <th>charge_description</th>\n",
       "      <th>felony_or_misdemeanor</th>\n",
       "    </tr>\n",
       "    <tr>\n",
       "      <th>ucr_code</th>\n",
       "      <th>arrestee_s_age</th>\n",
       "      <th></th>\n",
       "      <th></th>\n",
       "      <th></th>\n",
       "      <th></th>\n",
       "      <th></th>\n",
       "      <th></th>\n",
       "      <th></th>\n",
       "      <th></th>\n",
       "    </tr>\n",
       "  </thead>\n",
       "  <tbody>\n",
       "    <tr>\n",
       "      <td rowspan=\"5\" valign=\"top\">Narcotic Crime</td>\n",
       "      <td>15.0</td>\n",
       "      <td>500 WEAVER DAIRY RD CHAPEL HILL, NC 27514500 W...</td>\n",
       "      <td>32,90833,28627,52929,56633,37728,496</td>\n",
       "      <td>2014-11-102015-02-112011-09-282012-11-132015-0...</td>\n",
       "      <td>11:30 AM10:37 AM10:21 AM5:48 PM3:48 PM8:40 AM</td>\n",
       "      <td>BBWWBW</td>\n",
       "      <td>FMMMMF</td>\n",
       "      <td>POSSESSION MARIJUANAPOSS MARIJUANA MISDDRUGS-P...</td>\n",
       "      <td>MMFMMM</td>\n",
       "    </tr>\n",
       "    <tr>\n",
       "      <td>16.0</td>\n",
       "      <td>500 UMSTEAD DR CHAPEL HILL, NC 27516HOMESTEAD ...</td>\n",
       "      <td>32,91328,15724,96930,42329,74825,44632,22527,3...</td>\n",
       "      <td>2014-11-122012-02-282010-06-302013-06-212013-0...</td>\n",
       "      <td>11:30 PM11:25 PM7:45 PM10:30 PM1:10 PM8:35 AM1...</td>\n",
       "      <td>BWWWWWWAWWWWWWWWWWWBWBWWWBWWW</td>\n",
       "      <td>MFFMMMMMMMMMMFMMMMMMMMMMMMMFM</td>\n",
       "      <td>DRUGS-POSS SCHED VIPOSSESSION MARIJUANADRUG PA...</td>\n",
       "      <td>MMMMMMMMMMMFMMMMMMMMMMMMMMMMM</td>\n",
       "    </tr>\n",
       "    <tr>\n",
       "      <td>17.0</td>\n",
       "      <td>500 UMSTEAD DR CHAPEL HILL, NC 27516216 N ROBE...</td>\n",
       "      <td>35,91935,95731,52732,78832,76233,69927,20532,1...</td>\n",
       "      <td>2016-07-112016-07-172014-02-202014-10-182014-1...</td>\n",
       "      <td>11:04 PM9:30 PM11:05 AM12:21 AM11:36 PM1:45 PM...</td>\n",
       "      <td>BWWWWWWWBBWBWWWWWWBBWBBWWWWWBWBWWWWWWWWWBWB</td>\n",
       "      <td>MFMMMMMMMMFMMFMMMMMMMMMMMMFMMFFFMMMMMMFMFMF</td>\n",
       "      <td>P/W/I/S/D MARIJUANADRUG PARAPHERNALIADRUG PARA...</td>\n",
       "      <td>FMMMMMMMMMMMMMMMMMMMMFMMMMMMMMMMMMMMMMMMMMM</td>\n",
       "    </tr>\n",
       "    <tr>\n",
       "      <td>18.0</td>\n",
       "      <td>MLK JR BLVD CHAPEL HILL, NC 27514100 W ROSEMAR...</td>\n",
       "      <td>32,22430,39134,65633,02429,53333,02433,26533,9...</td>\n",
       "      <td>2014-07-152013-06-152015-10-142014-12-142012-1...</td>\n",
       "      <td>1:20 AM5:27 PM2:57 PM10:12 PM12:39 PM10:12 PM6...</td>\n",
       "      <td>WWWBWBBWWBWWWWWBWWWBWWWBWWWWWWWWWWWWBBWBBBBWWB...</td>\n",
       "      <td>MMMMMMMMMMMMMMMMMMMMMMMMFMMMMMMMMMMFMMMMFFMMMM...</td>\n",
       "      <td>POSS MARIJUANA MISDDRUGS-MISD POSSDRUGS-MISD P...</td>\n",
       "      <td>MMMMMMMMMMMMMMMMMMMMFMMMMMMMMMMMMMMMMMMMMMMMMM...</td>\n",
       "    </tr>\n",
       "    <tr>\n",
       "      <td>19.0</td>\n",
       "      <td>100 WOODLEAF DR CHAPEL HILL, NC 27516800 PRITC...</td>\n",
       "      <td>27,37032,98727,00524,55228,27128,55734,64627,8...</td>\n",
       "      <td>2011-09-032014-12-042011-07-032010-04-172012-0...</td>\n",
       "      <td>10:04 PM7:20 AM6:38 AM3:00 AM12:44 AM2:36 PM6:...</td>\n",
       "      <td>WWWWBBBBWWBWWWWWWWWBBWWWAWBWWWWWWBAWWWBWWWWWWW...</td>\n",
       "      <td>MMMFMMMMMMMMMMMMMMFMMFMMMMMMMMMMMMMMMMMMMMMMMF...</td>\n",
       "      <td>POSSESSION MARIJUANADRUGS-MISD POSSDRUG PARAPH...</td>\n",
       "      <td>MMMMMMMMFMMMMMMMMMMMFMMMMMMMFMMMMMMMFFMMMMMMMM...</td>\n",
       "    </tr>\n",
       "  </tbody>\n",
       "</table>\n",
       "</div>"
      ],
      "text/plain": [
       "                                                                         address  \\\n",
       "ucr_code       arrestee_s_age                                                      \n",
       "Narcotic Crime 15.0            500 WEAVER DAIRY RD CHAPEL HILL, NC 27514500 W...   \n",
       "               16.0            500 UMSTEAD DR CHAPEL HILL, NC 27516HOMESTEAD ...   \n",
       "               17.0            500 UMSTEAD DR CHAPEL HILL, NC 27516216 N ROBE...   \n",
       "               18.0            MLK JR BLVD CHAPEL HILL, NC 27514100 W ROSEMAR...   \n",
       "               19.0            100 WOODLEAF DR CHAPEL HILL, NC 27516800 PRITC...   \n",
       "\n",
       "                                                                        armainid  \\\n",
       "ucr_code       arrestee_s_age                                                      \n",
       "Narcotic Crime 15.0                         32,90833,28627,52929,56633,37728,496   \n",
       "               16.0            32,91328,15724,96930,42329,74825,44632,22527,3...   \n",
       "               17.0            35,91935,95731,52732,78832,76233,69927,20532,1...   \n",
       "               18.0            32,22430,39134,65633,02429,53333,02433,26533,9...   \n",
       "               19.0            27,37032,98727,00524,55228,27128,55734,64627,8...   \n",
       "\n",
       "                                                                     arrest_date  \\\n",
       "ucr_code       arrestee_s_age                                                      \n",
       "Narcotic Crime 15.0            2014-11-102015-02-112011-09-282012-11-132015-0...   \n",
       "               16.0            2014-11-122012-02-282010-06-302013-06-212013-0...   \n",
       "               17.0            2016-07-112016-07-172014-02-202014-10-182014-1...   \n",
       "               18.0            2014-07-152013-06-152015-10-142014-12-142012-1...   \n",
       "               19.0            2011-09-032014-12-042011-07-032010-04-172012-0...   \n",
       "\n",
       "                                                                     arrest_time  \\\n",
       "ucr_code       arrestee_s_age                                                      \n",
       "Narcotic Crime 15.0                11:30 AM10:37 AM10:21 AM5:48 PM3:48 PM8:40 AM   \n",
       "               16.0            11:30 PM11:25 PM7:45 PM10:30 PM1:10 PM8:35 AM1...   \n",
       "               17.0            11:04 PM9:30 PM11:05 AM12:21 AM11:36 PM1:45 PM...   \n",
       "               18.0            1:20 AM5:27 PM2:57 PM10:12 PM12:39 PM10:12 PM6...   \n",
       "               19.0            10:04 PM7:20 AM6:38 AM3:00 AM12:44 AM2:36 PM6:...   \n",
       "\n",
       "                                                                 arrestee_s_race  \\\n",
       "ucr_code       arrestee_s_age                                                      \n",
       "Narcotic Crime 15.0                                                       BBWWBW   \n",
       "               16.0                                BWWWWWWAWWWWWWWWWWWBWBWWWBWWW   \n",
       "               17.0                  BWWWWWWWBBWBWWWWWWBBWBBWWWWWBWBWWWWWWWWWBWB   \n",
       "               18.0            WWWBWBBWWBWWWWWBWWWBWWWBWWWWWWWWWWWWBBWBBBBWWB...   \n",
       "               19.0            WWWWBBBBWWBWWWWWWWWBBWWWAWBWWWWWWBAWWWBWWWWWWW...   \n",
       "\n",
       "                                                                  arrestee_s_sex  \\\n",
       "ucr_code       arrestee_s_age                                                      \n",
       "Narcotic Crime 15.0                                                       FMMMMF   \n",
       "               16.0                                MFFMMMMMMMMMMFMMMMMMMMMMMMMFM   \n",
       "               17.0                  MFMMMMMMMMFMMFMMMMMMMMMMMMFMMFFFMMMMMMFMFMF   \n",
       "               18.0            MMMMMMMMMMMMMMMMMMMMMMMMFMMMMMMMMMMFMMMMFFMMMM...   \n",
       "               19.0            MMMFMMMMMMMMMMMMMMFMMFMMMMMMMMMMMMMMMMMMMMMMMF...   \n",
       "\n",
       "                                                              charge_description  \\\n",
       "ucr_code       arrestee_s_age                                                      \n",
       "Narcotic Crime 15.0            POSSESSION MARIJUANAPOSS MARIJUANA MISDDRUGS-P...   \n",
       "               16.0            DRUGS-POSS SCHED VIPOSSESSION MARIJUANADRUG PA...   \n",
       "               17.0            P/W/I/S/D MARIJUANADRUG PARAPHERNALIADRUG PARA...   \n",
       "               18.0            POSS MARIJUANA MISDDRUGS-MISD POSSDRUGS-MISD P...   \n",
       "               19.0            POSSESSION MARIJUANADRUGS-MISD POSSDRUG PARAPH...   \n",
       "\n",
       "                                                           felony_or_misdemeanor  \n",
       "ucr_code       arrestee_s_age                                                     \n",
       "Narcotic Crime 15.0                                                       MMFMMM  \n",
       "               16.0                                MMMMMMMMMMMFMMMMMMMMMMMMMMMMM  \n",
       "               17.0                  FMMMMMMMMMMMMMMMMMMMMFMMMMMMMMMMMMMMMMMMMMM  \n",
       "               18.0            MMMMMMMMMMMMMMMMMMMMFMMMMMMMMMMMMMMMMMMMMMMMMM...  \n",
       "               19.0            MMMMMMMMFMMMMMMMMMMMFMMMMMMMFMMMMMMMFFMMMMMMMM...  "
      ]
     },
     "execution_count": 17,
     "metadata": {},
     "output_type": "execute_result"
    }
   ],
   "source": [
    "pam_2_C = pa.read_csv('../police-arrests-made.csv', sep = ';')\n",
    "pam_2_C = pam_2.loc[:, ['ucr_code', 'arrestee_s_age']]  # Keep only the columns we want here\n",
    "pam_2_C.loc[:, 'COUNT'] = 1   # Add a variable for counting unique values\n",
    "pam_2_C = pam_2.groupby(['ucr_code', 'arrestee_s_age']).sum()   \n",
    " # Sum the values after grouping by County, \n",
    "       # City, and Provider Type\n",
    "    \n",
    "pam_2_C.head()\n"
   ]
  },
  {
   "cell_type": "code",
   "execution_count": 27,
   "metadata": {},
   "outputs": [
    {
     "data": {
      "text/html": [
       "<div>\n",
       "<style scoped>\n",
       "    .dataframe tbody tr th:only-of-type {\n",
       "        vertical-align: middle;\n",
       "    }\n",
       "\n",
       "    .dataframe tbody tr th {\n",
       "        vertical-align: top;\n",
       "    }\n",
       "\n",
       "    .dataframe thead th {\n",
       "        text-align: right;\n",
       "    }\n",
       "</style>\n",
       "<table border=\"1\" class=\"dataframe\">\n",
       "  <thead>\n",
       "    <tr style=\"text-align: right;\">\n",
       "      <th></th>\n",
       "      <th></th>\n",
       "      <th>COUNT</th>\n",
       "    </tr>\n",
       "    <tr>\n",
       "      <th>ucr_code</th>\n",
       "      <th>arrestee_s_race</th>\n",
       "      <th></th>\n",
       "    </tr>\n",
       "  </thead>\n",
       "  <tbody>\n",
       "    <tr>\n",
       "      <td rowspan=\"5\" valign=\"top\">Narcotic Crime</td>\n",
       "      <td>A</td>\n",
       "      <td>56</td>\n",
       "    </tr>\n",
       "    <tr>\n",
       "      <td>B</td>\n",
       "      <td>1085</td>\n",
       "    </tr>\n",
       "    <tr>\n",
       "      <td>H</td>\n",
       "      <td>12</td>\n",
       "    </tr>\n",
       "    <tr>\n",
       "      <td>I</td>\n",
       "      <td>6</td>\n",
       "    </tr>\n",
       "    <tr>\n",
       "      <td>W</td>\n",
       "      <td>1155</td>\n",
       "    </tr>\n",
       "    <tr>\n",
       "      <td rowspan=\"6\" valign=\"top\">Property Crime</td>\n",
       "      <td>A</td>\n",
       "      <td>29</td>\n",
       "    </tr>\n",
       "    <tr>\n",
       "      <td>B</td>\n",
       "      <td>1268</td>\n",
       "    </tr>\n",
       "    <tr>\n",
       "      <td>H</td>\n",
       "      <td>3</td>\n",
       "    </tr>\n",
       "    <tr>\n",
       "      <td>I</td>\n",
       "      <td>4</td>\n",
       "    </tr>\n",
       "    <tr>\n",
       "      <td>O</td>\n",
       "      <td>2</td>\n",
       "    </tr>\n",
       "    <tr>\n",
       "      <td>W</td>\n",
       "      <td>975</td>\n",
       "    </tr>\n",
       "    <tr>\n",
       "      <td rowspan=\"7\" valign=\"top\">Violent Crime</td>\n",
       "      <td>A</td>\n",
       "      <td>359</td>\n",
       "    </tr>\n",
       "    <tr>\n",
       "      <td>B</td>\n",
       "      <td>6316</td>\n",
       "    </tr>\n",
       "    <tr>\n",
       "      <td>H</td>\n",
       "      <td>81</td>\n",
       "    </tr>\n",
       "    <tr>\n",
       "      <td>I</td>\n",
       "      <td>38</td>\n",
       "    </tr>\n",
       "    <tr>\n",
       "      <td>O</td>\n",
       "      <td>10</td>\n",
       "    </tr>\n",
       "    <tr>\n",
       "      <td>U</td>\n",
       "      <td>1</td>\n",
       "    </tr>\n",
       "    <tr>\n",
       "      <td>W</td>\n",
       "      <td>7217</td>\n",
       "    </tr>\n",
       "  </tbody>\n",
       "</table>\n",
       "</div>"
      ],
      "text/plain": [
       "                                COUNT\n",
       "ucr_code       arrestee_s_race       \n",
       "Narcotic Crime A                   56\n",
       "               B                 1085\n",
       "               H                   12\n",
       "               I                    6\n",
       "               W                 1155\n",
       "Property Crime A                   29\n",
       "               B                 1268\n",
       "               H                    3\n",
       "               I                    4\n",
       "               O                    2\n",
       "               W                  975\n",
       "Violent Crime  A                  359\n",
       "               B                 6316\n",
       "               H                   81\n",
       "               I                   38\n",
       "               O                   10\n",
       "               U                    1\n",
       "               W                 7217"
      ]
     },
     "execution_count": 27,
     "metadata": {},
     "output_type": "execute_result"
    }
   ],
   "source": [
    "pam_2_Count = pam_2.loc[:, ['ucr_code', 'arrestee_s_race']]  # Keep only the columns we want here\n",
    "pam_2_Count.loc[:, 'COUNT'] = 1   # Add a variable for counting unique values\n",
    "pam_2_Count = pam_2_Count.groupby(['ucr_code', 'arrestee_s_race']).sum()   \n",
    " # Sum the values after grouping by County, \n",
    "       # City, and Provider Type\n",
    "    \n",
    "pam_2_Count\n",
    "\n",
    "#sn.barplot(x = 'COUNT', y = 'charge_description', data = pam_3.reset_index() )\n"
   ]
  },
  {
   "cell_type": "code",
   "execution_count": 34,
   "metadata": {},
   "outputs": [
    {
     "data": {
      "text/plain": [
       "<matplotlib.axes._subplots.AxesSubplot at 0x1e00a2fc808>"
      ]
     },
     "execution_count": 34,
     "metadata": {},
     "output_type": "execute_result"
    },
    {
     "data": {
      "image/png": "[encoded data removed]",
      "text/plain": [
       "<Figure size 432x288 with 1 Axes>"
      ]
     },
     "metadata": {},
     "output_type": "display_data"
    }
   ],
   "source": [
    "sn.barplot(x = 'COUNT', y = 'arrestee_s_race', data = pam_2_Count.reset_index() )"
   ]
  },
  {
   "cell_type": "code",
   "execution_count": 41,
   "metadata": {},
   "outputs": [
    {
     "data": {
      "text/html": [
       "<div>\n",
       "<style scoped>\n",
       "    .dataframe tbody tr th:only-of-type {\n",
       "        vertical-align: middle;\n",
       "    }\n",
       "\n",
       "    .dataframe tbody tr th {\n",
       "        vertical-align: top;\n",
       "    }\n",
       "\n",
       "    .dataframe thead th {\n",
       "        text-align: right;\n",
       "    }\n",
       "</style>\n",
       "<table border=\"1\" class=\"dataframe\">\n",
       "  <thead>\n",
       "    <tr style=\"text-align: right;\">\n",
       "      <th></th>\n",
       "      <th></th>\n",
       "      <th>COUNT</th>\n",
       "    </tr>\n",
       "    <tr>\n",
       "      <th>ucr_code</th>\n",
       "      <th>arrestee_s_race_B</th>\n",
       "      <th></th>\n",
       "    </tr>\n",
       "  </thead>\n",
       "  <tbody>\n",
       "    <tr>\n",
       "      <td rowspan=\"2\" valign=\"top\">0.0</td>\n",
       "      <td>0.0</td>\n",
       "      <td>7706</td>\n",
       "    </tr>\n",
       "    <tr>\n",
       "      <td>1.0</td>\n",
       "      <td>6316</td>\n",
       "    </tr>\n",
       "    <tr>\n",
       "      <td rowspan=\"2\" valign=\"top\">1.0</td>\n",
       "      <td>0.0</td>\n",
       "      <td>1013</td>\n",
       "    </tr>\n",
       "    <tr>\n",
       "      <td>1.0</td>\n",
       "      <td>1268</td>\n",
       "    </tr>\n",
       "    <tr>\n",
       "      <td rowspan=\"2\" valign=\"top\">2.0</td>\n",
       "      <td>0.0</td>\n",
       "      <td>1229</td>\n",
       "    </tr>\n",
       "    <tr>\n",
       "      <td>1.0</td>\n",
       "      <td>1085</td>\n",
       "    </tr>\n",
       "  </tbody>\n",
       "</table>\n",
       "</div>"
      ],
      "text/plain": [
       "                            COUNT\n",
       "ucr_code arrestee_s_race_B       \n",
       "0.0      0.0                 7706\n",
       "         1.0                 6316\n",
       "1.0      0.0                 1013\n",
       "         1.0                 1268\n",
       "2.0      0.0                 1229\n",
       "         1.0                 1085"
      ]
     },
     "execution_count": 41,
     "metadata": {},
     "output_type": "execute_result"
    }
   ],
   "source": [
    "pam_hot1_Black = pam_hot1.loc[:, ['ucr_code', 'arrestee_s_race_B']]  # Keep only the columns we want here\n",
    "pam_hot1_Black.loc[:, 'COUNT'] = 1   # Add a variable for counting unique values\n",
    "pam_hot1_Black = pam_hot1_Black.groupby(['ucr_code', 'arrestee_s_race_B']).sum()   \n",
    " # Sum the values after grouping by County, \n",
    "       # City, and Provider Type\n",
    "    \n",
    "pam_hot1_Black\n",
    "\n",
    "#sn.barplot(x = 'COUNT', y = 'charge_description', data = pam_3.reset_index() )\n"
   ]
  },
  {
   "cell_type": "code",
   "execution_count": 48,
   "metadata": {},
   "outputs": [
    {
     "data": {
      "text/html": [
       "<div>\n",
       "<style scoped>\n",
       "    .dataframe tbody tr th:only-of-type {\n",
       "        vertical-align: middle;\n",
       "    }\n",
       "\n",
       "    .dataframe tbody tr th {\n",
       "        vertical-align: top;\n",
       "    }\n",
       "\n",
       "    .dataframe thead th {\n",
       "        text-align: right;\n",
       "    }\n",
       "</style>\n",
       "<table border=\"1\" class=\"dataframe\">\n",
       "  <thead>\n",
       "    <tr style=\"text-align: right;\">\n",
       "      <th></th>\n",
       "      <th></th>\n",
       "      <th>COUNT</th>\n",
       "    </tr>\n",
       "    <tr>\n",
       "      <th>ucr_code</th>\n",
       "      <th>arrestee_s_race_W</th>\n",
       "      <th></th>\n",
       "    </tr>\n",
       "  </thead>\n",
       "  <tbody>\n",
       "    <tr>\n",
       "      <td rowspan=\"2\" valign=\"top\">0.0</td>\n",
       "      <td>0.0</td>\n",
       "      <td>6805</td>\n",
       "    </tr>\n",
       "    <tr>\n",
       "      <td>1.0</td>\n",
       "      <td>7217</td>\n",
       "    </tr>\n",
       "    <tr>\n",
       "      <td rowspan=\"2\" valign=\"top\">1.0</td>\n",
       "      <td>0.0</td>\n",
       "      <td>1306</td>\n",
       "    </tr>\n",
       "    <tr>\n",
       "      <td>1.0</td>\n",
       "      <td>975</td>\n",
       "    </tr>\n",
       "    <tr>\n",
       "      <td rowspan=\"2\" valign=\"top\">2.0</td>\n",
       "      <td>0.0</td>\n",
       "      <td>1159</td>\n",
       "    </tr>\n",
       "    <tr>\n",
       "      <td>1.0</td>\n",
       "      <td>1155</td>\n",
       "    </tr>\n",
       "  </tbody>\n",
       "</table>\n",
       "</div>"
      ],
      "text/plain": [
       "                            COUNT\n",
       "ucr_code arrestee_s_race_W       \n",
       "0.0      0.0                 6805\n",
       "         1.0                 7217\n",
       "1.0      0.0                 1306\n",
       "         1.0                  975\n",
       "2.0      0.0                 1159\n",
       "         1.0                 1155"
      ]
     },
     "execution_count": 48,
     "metadata": {},
     "output_type": "execute_result"
    }
   ],
   "source": [
    "pam_hot1_White = pam_hot1.loc[:, ['ucr_code', 'arrestee_s_race_W']]  # Keep only the columns we want here\n",
    "pam_hot1_White.loc[:, 'COUNT'] = 1   # Add a variable for counting unique values\n",
    "pam_hot1_White = pam_hot1_White.groupby(['ucr_code', 'arrestee_s_race_W']).sum()   \n",
    " # Sum the values after grouping by County, \n",
    "       # City, and Provider Type\n",
    "    \n",
    "pam_hot1_White\n",
    "\n",
    "#sn.barplot(x = 'COUNT', y = 'charge_description', data = pam_3.reset_index() )\n"
   ]
  },
  {
   "cell_type": "code",
   "execution_count": 56,
   "metadata": {},
   "outputs": [
    {
     "data": {
      "text/plain": [
       "<matplotlib.axes._subplots.AxesSubplot at 0x1e00add8c48>"
      ]
     },
     "execution_count": 56,
     "metadata": {},
     "output_type": "execute_result"
    },
    {
     "data": {
      "image/png": "[encoded data removed]",
      "text/plain": [
       "<Figure size 432x288 with 1 Axes>"
      ]
     },
     "metadata": {},
     "output_type": "display_data"
    }
   ],
   "source": [
    "sn.barplot(x = 'COUNT', y = 'ucr_code', data = pam_hot1_Black.reset_index() )"
   ]
  },
  {
   "cell_type": "code",
   "execution_count": 57,
   "metadata": {},
   "outputs": [
    {
     "data": {
      "text/plain": [
       "<matplotlib.axes._subplots.AxesSubplot at 0x1e00ad86788>"
      ]
     },
     "execution_count": 57,
     "metadata": {},
     "output_type": "execute_result"
    },
    {
     "data": {
      "image/png": "[encoded data removed]",
      "text/plain": [
       "<Figure size 432x288 with 1 Axes>"
      ]
     },
     "metadata": {},
     "output_type": "display_data"
    }
   ],
   "source": [
    "sn.barplot(x = 'COUNT', y = 'ucr_code', data = pam_hot1_White.reset_index() )"
   ]
  },
  {
   "cell_type": "markdown",
   "metadata": {},
   "source": [
    "# Logistic Regression\n",
    "\n",
    "Connor Nelson"
   ]
  },
  {
   "cell_type": "code",
   "execution_count": 125,
   "metadata": {},
   "outputs": [],
   "source": [
    "# Using the usual packages, plus scikitlearns LinearRegression tool; and numpy.random.\n",
    "\n",
    "import pandas as pa\n",
    "import numpy as np\n",
    "import numpy.random as rn\n",
    "import seaborn as sn\n",
    "import matplotlib.pyplot as plt\n",
    "from sklearn.linear_model import LinearRegression"
   ]
  },
  {
   "cell_type": "code",
   "execution_count": 256,
   "metadata": {},
   "outputs": [],
   "source": [
    "# Import LogisticRegression\n",
    "from sklearn.linear_model import LogisticRegression"
   ]
  },
  {
   "cell_type": "code",
   "execution_count": 257,
   "metadata": {},
   "outputs": [
    {
     "name": "stderr",
     "output_type": "stream",
     "text": [
      "C:\\Users\\Connor\\Anaconda3\\lib\\site-packages\\sklearn\\linear_model\\logistic.py:469: FutureWarning: Default multi_class will be changed to 'auto' in 0.22. Specify the multi_class option to silence this warning.\n",
      "  \"this warning.\", FutureWarning)\n"
     ]
    }
   ],
   "source": [
    "# Make an instance of the model and fit it to the training data\n",
    "lgreg = LogisticRegression(solver='lbfgs')\n",
    "lgreg.fit(X_train, y_train);"
   ]
  },
  {
   "cell_type": "code",
   "execution_count": 258,
   "metadata": {},
   "outputs": [],
   "source": [
    "pam_hot1 = pam_hot1.dropna(subset=['arrestee_s_age', 'ucr_code'])"
   ]
  },
  {
   "cell_type": "code",
   "execution_count": 259,
   "metadata": {},
   "outputs": [],
   "source": [
    "pam_hot1['arrestee_s_age']=pam_hot1['arrestee_s_age'].astype('float')\n",
    "pam_hot1['arrestee_s_race_A']=pam_hot1['arrestee_s_race_A'].astype('float')\n",
    "pam_hot1['arrestee_s_race_B']=pam_hot1['arrestee_s_race_B'].astype('float')\n",
    "pam_hot1['arrestee_s_race_O']=pam_hot1['arrestee_s_race_O'].astype('float')\n",
    "pam_hot1['arrestee_s_race_H']=pam_hot1['arrestee_s_race_H'].astype('float')\n",
    "pam_hot1['arrestee_s_race_I']=pam_hot1['arrestee_s_race_I'].astype('float')\n",
    "pam_hot1['arrestee_s_race_W']=pam_hot1['arrestee_s_race_W'].astype('float')\n",
    "pam_hot1['arrestee_s_race_U']=pam_hot1['arrestee_s_race_U'].astype('float')\n",
    "pam_hot1['arrestee_s_race_nan']=pam_hot1['arrestee_s_race_nan'].astype('float')"
   ]
  },
  {
   "cell_type": "code",
   "execution_count": 269,
   "metadata": {},
   "outputs": [],
   "source": [
    "#X =  np.array(pam_hot1[['arrestee_s_age','arrestee_s_race_A','arrestee_s_race_B','arrestee_s_race_O','arrestee_s_race_H','arrestee_s_race_I','arrestee_s_race_W','arrestee_s_race_U','arrestee_s_race_nan']])\n",
    "#y =  np.array(pam_hot1['ucr_code']) \n",
    "\n",
    "X =  np.atleast_2d(np.array(pam_hot1[['arrestee_s_age']]))\n",
    "#X =  np.atleast_2d(np.array(pam_hot1[['arrestee_s_race_B']]))\n",
    "y =  np.array(pam_hot1['ucr_code']) "
   ]
  },
  {
   "cell_type": "code",
   "execution_count": 270,
   "metadata": {},
   "outputs": [],
   "source": [
    "# We shuffle the data using a random permutation\n",
    "\n",
    "n = X.shape[0]\n",
    "test = int(0.20*n)            # We will use a test set made up of 20% of the data from our sample\n",
    "perm = rn.permutation(n)   \n",
    "X = X[perm]\n",
    "y = y[perm]\n",
    "X_test = X[:test]       # Then create the test\n",
    "y_test = y[:test]\n",
    "X_train = X[test:]     # and train sets\n",
    "y_train = y[test:]"
   ]
  },
  {
   "cell_type": "code",
   "execution_count": 271,
   "metadata": {
    "collapsed": true,
    "jupyter": {
     "outputs_hidden": true
    }
   },
   "outputs": [
    {
     "name": "stderr",
     "output_type": "stream",
     "text": [
      "C:\\Users\\Connor\\Anaconda3\\lib\\site-packages\\sklearn\\linear_model\\logistic.py:469: FutureWarning: Default multi_class will be changed to 'auto' in 0.22. Specify the multi_class option to silence this warning.\n",
      "  \"this warning.\", FutureWarning)\n"
     ]
    }
   ],
   "source": [
    "# Make an instance of the model and fit it to the training data\n",
    "lgreg = LogisticRegression(solver='lbfgs')\n",
    "lgreg.fit(X_train, y_train);\n"
   ]
  },
  {
   "cell_type": "code",
   "execution_count": 272,
   "metadata": {
    "collapsed": true,
    "jupyter": {
     "outputs_hidden": true,
     "source_hidden": true
    }
   },
   "outputs": [
    {
     "ename": "ValueError",
     "evalue": "too many values to unpack (expected 2)",
     "output_type": "error",
     "traceback": [
      "\u001b[1;31m---------------------------------------------------------------------------\u001b[0m",
      "\u001b[1;31mValueError\u001b[0m                                Traceback (most recent call last)",
      "\u001b[1;32m<ipython-input-272-59e592fbce9f>\u001b[0m in \u001b[0;36m<module>\u001b[1;34m\u001b[0m\n\u001b[1;32m----> 1\u001b[1;33m \u001b[0mb\u001b[0m\u001b[1;33m,\u001b[0m \u001b[0mm\u001b[0m \u001b[1;33m=\u001b[0m \u001b[1;33m*\u001b[0m\u001b[0mlgreg\u001b[0m\u001b[1;33m.\u001b[0m\u001b[0mintercept_\u001b[0m\u001b[1;33m,\u001b[0m \u001b[1;33m*\u001b[0m\u001b[0mlgreg\u001b[0m\u001b[1;33m.\u001b[0m\u001b[0mcoef_\u001b[0m\u001b[1;33m[\u001b[0m\u001b[1;36m0\u001b[0m\u001b[1;33m]\u001b[0m\u001b[1;33m\u001b[0m\u001b[1;33m\u001b[0m\u001b[0m\n\u001b[0m\u001b[0;32m      2\u001b[0m \u001b[0mb\u001b[0m\u001b[1;33m,\u001b[0m \u001b[0mm\u001b[0m\u001b[1;33m\u001b[0m\u001b[1;33m\u001b[0m\u001b[0m\n",
      "\u001b[1;31mValueError\u001b[0m: too many values to unpack (expected 2)"
     ]
    }
   ],
   "source": [
    "b, m = *lgreg.intercept_, *lgreg.coef_[0]\n",
    "b, m"
   ]
  },
  {
   "cell_type": "code",
   "execution_count": 267,
   "metadata": {},
   "outputs": [
    {
     "data": {
      "text/plain": [
       "(0.5820484251301441, -0.006482451876342063)"
      ]
     },
     "execution_count": 267,
     "metadata": {},
     "output_type": "execute_result"
    }
   ],
   "source": [
    "reg = LinearRegression().fit(X_train, y_train)\n",
    "\n",
    "b, m = reg.intercept_, *reg.coef_\n",
    "b, m"
   ]
  },
  {
   "cell_type": "code",
   "execution_count": 250,
   "metadata": {},
   "outputs": [
    {
     "data": {
      "text/plain": [
       "(0.5823717464673106, -0.006420187404437142)"
      ]
     },
     "execution_count": 250,
     "metadata": {},
     "output_type": "execute_result"
    }
   ],
   "source": [
    "reg = LinearRegression().fit(X_train, y_train)\n",
    "\n",
    "b, m = reg.intercept_, *reg.coef_\n",
    "b, m"
   ]
  },
  {
   "cell_type": "code",
   "execution_count": 251,
   "metadata": {},
   "outputs": [
    {
     "data": {
      "text/plain": [
       "(0.5823717464673106, -0.006420187404437142)"
      ]
     },
     "execution_count": 251,
     "metadata": {},
     "output_type": "execute_result"
    }
   ],
   "source": [
    "reg = LinearRegression().fit(X_train, y_train)\n",
    "\n",
    "b, m = reg.intercept_, *reg.coef_\n",
    "b, m"
   ]
  },
  {
   "cell_type": "markdown",
   "metadata": {},
   "source": [
    "## Bootstrapping for LG"
   ]
  },
  {
   "cell_type": "code",
   "execution_count": 252,
   "metadata": {},
   "outputs": [],
   "source": [
    "num = 40 # number of bootstraps to use\n",
    "Xboot = [0]*num\n",
    "yboot = [0]*num\n",
    "\n",
    "n = X.shape[0]\n",
    "for k in range(num):\n",
    "    sample = np.random.randint(0, n, n)  # Note here starting with a random permutation is not necessary\n",
    "    Xboot[k] = X[sample, :]\n",
    "    yboot[k] = y[sample]\n"
   ]
  },
  {
   "cell_type": "code",
   "execution_count": 254,
   "metadata": {},
   "outputs": [
    {
     "data": {
      "text/html": [
       "<div>\n",
       "<style scoped>\n",
       "    .dataframe tbody tr th:only-of-type {\n",
       "        vertical-align: middle;\n",
       "    }\n",
       "\n",
       "    .dataframe tbody tr th {\n",
       "        vertical-align: top;\n",
       "    }\n",
       "\n",
       "    .dataframe thead th {\n",
       "        text-align: right;\n",
       "    }\n",
       "</style>\n",
       "<table border=\"1\" class=\"dataframe\">\n",
       "  <thead>\n",
       "    <tr style=\"text-align: right;\">\n",
       "      <th></th>\n",
       "      <th>train_1</th>\n",
       "      <th>test_1</th>\n",
       "      <th>train_2</th>\n",
       "      <th>test_2</th>\n",
       "    </tr>\n",
       "  </thead>\n",
       "  <tbody>\n",
       "    <tr>\n",
       "      <td>32</td>\n",
       "      <td>0.011622</td>\n",
       "      <td>0.014719</td>\n",
       "      <td>0.011622</td>\n",
       "      <td>0.014719</td>\n",
       "    </tr>\n",
       "    <tr>\n",
       "      <td>33</td>\n",
       "      <td>0.016543</td>\n",
       "      <td>0.015613</td>\n",
       "      <td>0.016543</td>\n",
       "      <td>0.015613</td>\n",
       "    </tr>\n",
       "    <tr>\n",
       "      <td>34</td>\n",
       "      <td>0.013843</td>\n",
       "      <td>0.015982</td>\n",
       "      <td>0.013843</td>\n",
       "      <td>0.015982</td>\n",
       "    </tr>\n",
       "    <tr>\n",
       "      <td>35</td>\n",
       "      <td>0.014175</td>\n",
       "      <td>0.013855</td>\n",
       "      <td>0.014175</td>\n",
       "      <td>0.013855</td>\n",
       "    </tr>\n",
       "    <tr>\n",
       "      <td>36</td>\n",
       "      <td>0.014300</td>\n",
       "      <td>0.014322</td>\n",
       "      <td>0.014300</td>\n",
       "      <td>0.014322</td>\n",
       "    </tr>\n",
       "    <tr>\n",
       "      <td>37</td>\n",
       "      <td>0.016670</td>\n",
       "      <td>0.016477</td>\n",
       "      <td>0.016670</td>\n",
       "      <td>0.016477</td>\n",
       "    </tr>\n",
       "    <tr>\n",
       "      <td>38</td>\n",
       "      <td>0.016739</td>\n",
       "      <td>0.017918</td>\n",
       "      <td>0.016739</td>\n",
       "      <td>0.017918</td>\n",
       "    </tr>\n",
       "    <tr>\n",
       "      <td>39</td>\n",
       "      <td>0.014978</td>\n",
       "      <td>0.017746</td>\n",
       "      <td>0.014978</td>\n",
       "      <td>0.017746</td>\n",
       "    </tr>\n",
       "    <tr>\n",
       "      <td>Mean</td>\n",
       "      <td>0.015282</td>\n",
       "      <td>0.015511</td>\n",
       "      <td>0.015282</td>\n",
       "      <td>0.015511</td>\n",
       "    </tr>\n",
       "    <tr>\n",
       "      <td>Standard Deviation</td>\n",
       "      <td>0.000495</td>\n",
       "      <td>0.003209</td>\n",
       "      <td>0.000495</td>\n",
       "      <td>0.003209</td>\n",
       "    </tr>\n",
       "  </tbody>\n",
       "</table>\n",
       "</div>"
      ],
      "text/plain": [
       "                     train_1    test_1   train_2    test_2\n",
       "32                  0.011622  0.014719  0.011622  0.014719\n",
       "33                  0.016543  0.015613  0.016543  0.015613\n",
       "34                  0.013843  0.015982  0.013843  0.015982\n",
       "35                  0.014175  0.013855  0.014175  0.013855\n",
       "36                  0.014300  0.014322  0.014300  0.014322\n",
       "37                  0.016670  0.016477  0.016670  0.016477\n",
       "38                  0.016739  0.017918  0.016739  0.017918\n",
       "39                  0.014978  0.017746  0.014978  0.017746\n",
       "Mean                0.015282  0.015511  0.015282  0.015511\n",
       "Standard Deviation  0.000495  0.003209  0.000495  0.003209"
      ]
     },
     "execution_count": 254,
     "metadata": {},
     "output_type": "execute_result"
    }
   ],
   "source": [
    "test = int(0.20*n)\n",
    "R2 = pa.DataFrame( np.array([ [0]*num]*4).transpose(), columns = ['train_1', 'test_1', 'train_2', 'test_2'])\n",
    "\n",
    "for k in range(num):\n",
    "    X_test = Xboot[k][:test]\n",
    "    y_test = yboot[k][:test]\n",
    "    X_train = Xboot[k][test:]\n",
    "    y_train = yboot[k][test:]\n",
    "    reg = LinearRegression().fit(X_train, y_train)\n",
    "    reg2 = LinearRegression().fit(X_train[:, 0:6], y_train)\n",
    "    \n",
    "    R2.loc[k, 'train_1'] = reg.score(X_train, y_train)\n",
    "    R2.loc[k, 'test_1'] = reg.score(X_test, y_test)\n",
    "    R2.loc[k, 'train_2'] = reg2.score(X_train[:, 0:6], y_train)\n",
    "    R2.loc[k, 'test_2'] = reg2.score(X_test[:, 0:6], y_test)\n",
    "    \n",
    "R2mean = [0]*4\n",
    "R2std = [0]*4\n",
    "for c in range(4):\n",
    "    R2mean[c] = np.mean(R2.iloc[0:5, c])\n",
    "    R2std[c] = np.std(R2.iloc[0:5, c])\n",
    "    \n",
    "R2 = R2.append( pa.Series(R2mean, index=R2.columns), ignore_index=True )\n",
    "R2 = R2.append( pa.Series(R2std, index=R2.columns), ignore_index=True)\n",
    "R2.index = list(range(num)) + ['Mean', 'Standard Deviation']\n",
    "R2.tail(10)"
   ]
  },
  {
   "cell_type": "code",
   "execution_count": 255,
   "metadata": {},
   "outputs": [
    {
     "data": {
      "image/png": "[encoded data removed]",
      "text/plain": [
       "<Figure size 432x288 with 1 Axes>"
      ]
     },
     "metadata": {},
     "output_type": "display_data"
    }
   ],
   "source": [
    "testing_error = Error_mean[1::2]  # Grabing every other item from the Error means\n",
    "kk = range(1, maxk+1)\n",
    "plt.plot(kk, testing_error, 'b-');"
   ]
  },
  {
   "cell_type": "markdown",
   "metadata": {},
   "source": [
    "# K-Nearest Neighbors\n",
    "Faith Camp"
   ]
  },
  {
   "cell_type": "code",
   "execution_count": 216,
   "metadata": {},
   "outputs": [],
   "source": [
    "import numpy.random as rn"
   ]
  },
  {
   "cell_type": "code",
   "execution_count": 217,
   "metadata": {},
   "outputs": [],
   "source": [
    "pam_hot1 = pam_hot1.dropna(subset=['arrestee_s_age', 'ucr_code'])"
   ]
  },
  {
   "cell_type": "code",
   "execution_count": 218,
   "metadata": {},
   "outputs": [],
   "source": [
    "pam_hot1['arrestee_s_age']=pam_hot1['arrestee_s_age'].astype('float')\n",
    "pam_hot1['arrestee_s_race_A']=pam_hot1['arrestee_s_race_A'].astype('float')\n",
    "pam_hot1['arrestee_s_race_B']=pam_hot1['arrestee_s_race_B'].astype('float')\n",
    "pam_hot1['arrestee_s_race_O']=pam_hot1['arrestee_s_race_O'].astype('float')\n",
    "pam_hot1['arrestee_s_race_H']=pam_hot1['arrestee_s_race_H'].astype('float')\n",
    "pam_hot1['arrestee_s_race_I']=pam_hot1['arrestee_s_race_I'].astype('float')\n",
    "pam_hot1['arrestee_s_race_W']=pam_hot1['arrestee_s_race_W'].astype('float')\n",
    "pam_hot1['arrestee_s_race_U']=pam_hot1['arrestee_s_race_U'].astype('float')\n",
    "pam_hot1['arrestee_s_race_nan']=pam_hot1['arrestee_s_race_nan'].astype('float')"
   ]
  },
  {
   "cell_type": "code",
   "execution_count": 219,
   "metadata": {},
   "outputs": [],
   "source": [
    "\n",
    "X =  np.array(pam_hot1[['arrestee_s_age','arrestee_s_race_A','arrestee_s_race_B','arrestee_s_race_O','arrestee_s_race_H','arrestee_s_race_I','arrestee_s_race_W','arrestee_s_race_U','arrestee_s_race_nan']])\n",
    "y =  np.array(pam_hot1['ucr_code']) "
   ]
  },
  {
   "cell_type": "code",
   "execution_count": 220,
   "metadata": {},
   "outputs": [],
   "source": [
    "n = X.shape[0]\n",
    "test = int(0.20*n)            # We will use a test set made up of 20% of the data from our sample\n",
    "perm = rn.permutation(n)   \n",
    "X = X[perm]\n",
    "y = y[perm]\n",
    "X_test = X[:test]       # Then create the test\n",
    "y_test = y[:test]\n",
    "X_train = X[test:]     # and train sets\n",
    "y_train = y[test:]"
   ]
  },
  {
   "cell_type": "code",
   "execution_count": 221,
   "metadata": {},
   "outputs": [],
   "source": [
    "from sklearn.neighbors import KNeighborsClassifier"
   ]
  },
  {
   "cell_type": "code",
   "execution_count": 222,
   "metadata": {},
   "outputs": [
    {
     "data": {
      "text/plain": [
       "0.5714973188505431"
      ]
     },
     "execution_count": 222,
     "metadata": {},
     "output_type": "execute_result"
    }
   ],
   "source": [
    "clf1 = KNeighborsClassifier(n_neighbors=1) # Define the model\n",
    "clf1.fit(X_train, y_train); # Train the model\n",
    "clf1.score(X_train,y_train)\n"
   ]
  },
  {
   "cell_type": "code",
   "execution_count": 223,
   "metadata": {},
   "outputs": [
    {
     "data": {
      "text/plain": [
       "0.5547304730473047"
      ]
     },
     "execution_count": 223,
     "metadata": {},
     "output_type": "execute_result"
    }
   ],
   "source": [
    "clf1.score(X_test,y_test)"
   ]
  },
  {
   "cell_type": "markdown",
   "metadata": {},
   "source": [
    "#### Error Screen\n",
    "Below the coding is advanced and needs extra work but above with the clf1 score for the training and testing I can see my error this way."
   ]
  },
  {
   "cell_type": "code",
   "execution_count": 147,
   "metadata": {},
   "outputs": [],
   "source": [
    "def plot_cat_model(clf, X_train, y_train, X_test, y_test,):\n",
    "\n",
    "    h = 0.1 # Mesh size  \n",
    "    # Plot the decision boundary. For that, we will assign a color to each\n",
    "    # point in the mesh [x_min, m_max]x[y_min, y_max].\n",
    "    x_min, x_max = X_train[:, 0].min() - 1, X_train[:, 0].max() + 1\n",
    "    y_min, y_max = X_train[:, 1].min() - 1, 10000\n",
    "    xx, yy = np.meshgrid(np.arange(x_min, x_max, h),\n",
    "        np.arange(y_min, y_max, h))\n",
    "    Z = clf.predict(np.c_[xx.ravel(), yy.ravel()])\n",
    "\n",
    "    # Put the result into a color plot\n",
    "    Z = Z.reshape(xx.shape)\n",
    "\n",
    "    plt.figure(figsize=(8, 6))\n",
    "    cmap_light = pltco.ListedColormap(['#FFAAAA', '#AAFFAA'])\n",
    "    cmap_bold = pltco.ListedColormap(['#FF0000', '#00FF00'])\n",
    "    plt.pcolormesh(xx, yy, Z, cmap=cmap_light);\n",
    "\n",
    "    plt.scatter(X_train[:, 0], X_train[:, 1], c=y_train, cmap=cmap_bold,marker='o')\n",
    "    plt.scatter(X_test[:, 0], X_test[:, 1], c=y_test, cmap=cmap_bold, marker='+');\n",
    "    \n",
    "    print('Training Error: {}'.format(clf.score(X_train, y_train)))\n",
    "    print('Testing Error: {}'.format(clf.score(X_test, y_test)))"
   ]
  },
  {
   "cell_type": "code",
   "execution_count": 148,
   "metadata": {
    "collapsed": true,
    "jupyter": {
     "outputs_hidden": true
    }
   },
   "outputs": [
    {
     "ename": "ValueError",
     "evalue": "query data dimension must match training data dimension",
     "output_type": "error",
     "traceback": [
      "\u001b[1;31m---------------------------------------------------------------------------\u001b[0m",
      "\u001b[1;31mValueError\u001b[0m                                Traceback (most recent call last)",
      "\u001b[1;32m<ipython-input-148-56ca8af1f115>\u001b[0m in \u001b[0;36m<module>\u001b[1;34m\u001b[0m\n\u001b[1;32m----> 1\u001b[1;33m \u001b[0mplot_cat_model\u001b[0m\u001b[1;33m(\u001b[0m\u001b[0mclf1\u001b[0m\u001b[1;33m,\u001b[0m \u001b[0mX_train\u001b[0m\u001b[1;33m,\u001b[0m \u001b[0my_train\u001b[0m\u001b[1;33m,\u001b[0m \u001b[0mX_test\u001b[0m\u001b[1;33m,\u001b[0m \u001b[0my_test\u001b[0m\u001b[1;33m)\u001b[0m\u001b[1;33m\u001b[0m\u001b[1;33m\u001b[0m\u001b[0m\n\u001b[0m\u001b[0;32m      2\u001b[0m \u001b[0mplt\u001b[0m\u001b[1;33m.\u001b[0m\u001b[0msavefig\u001b[0m\u001b[1;33m(\u001b[0m\u001b[1;34m'11.2.png'\u001b[0m\u001b[1;33m)\u001b[0m\u001b[1;33m\u001b[0m\u001b[1;33m\u001b[0m\u001b[0m\n",
      "\u001b[1;32m<ipython-input-147-7ddfeb1a199b>\u001b[0m in \u001b[0;36mplot_cat_model\u001b[1;34m(clf, X_train, y_train, X_test, y_test)\u001b[0m\n\u001b[0;32m      8\u001b[0m     xx, yy = np.meshgrid(np.arange(x_min, x_max, h),\n\u001b[0;32m      9\u001b[0m         np.arange(y_min, y_max, h))\n\u001b[1;32m---> 10\u001b[1;33m     \u001b[0mZ\u001b[0m \u001b[1;33m=\u001b[0m \u001b[0mclf\u001b[0m\u001b[1;33m.\u001b[0m\u001b[0mpredict\u001b[0m\u001b[1;33m(\u001b[0m\u001b[0mnp\u001b[0m\u001b[1;33m.\u001b[0m\u001b[0mc_\u001b[0m\u001b[1;33m[\u001b[0m\u001b[0mxx\u001b[0m\u001b[1;33m.\u001b[0m\u001b[0mravel\u001b[0m\u001b[1;33m(\u001b[0m\u001b[1;33m)\u001b[0m\u001b[1;33m,\u001b[0m \u001b[0myy\u001b[0m\u001b[1;33m.\u001b[0m\u001b[0mravel\u001b[0m\u001b[1;33m(\u001b[0m\u001b[1;33m)\u001b[0m\u001b[1;33m]\u001b[0m\u001b[1;33m)\u001b[0m\u001b[1;33m\u001b[0m\u001b[1;33m\u001b[0m\u001b[0m\n\u001b[0m\u001b[0;32m     11\u001b[0m \u001b[1;33m\u001b[0m\u001b[0m\n\u001b[0;32m     12\u001b[0m     \u001b[1;31m# Put the result into a color plot\u001b[0m\u001b[1;33m\u001b[0m\u001b[1;33m\u001b[0m\u001b[1;33m\u001b[0m\u001b[0m\n",
      "\u001b[1;32m~\\Anaconda3\\lib\\site-packages\\sklearn\\neighbors\\classification.py\u001b[0m in \u001b[0;36mpredict\u001b[1;34m(self, X)\u001b[0m\n\u001b[0;32m    147\u001b[0m         \u001b[0mX\u001b[0m \u001b[1;33m=\u001b[0m \u001b[0mcheck_array\u001b[0m\u001b[1;33m(\u001b[0m\u001b[0mX\u001b[0m\u001b[1;33m,\u001b[0m \u001b[0maccept_sparse\u001b[0m\u001b[1;33m=\u001b[0m\u001b[1;34m'csr'\u001b[0m\u001b[1;33m)\u001b[0m\u001b[1;33m\u001b[0m\u001b[1;33m\u001b[0m\u001b[0m\n\u001b[0;32m    148\u001b[0m \u001b[1;33m\u001b[0m\u001b[0m\n\u001b[1;32m--> 149\u001b[1;33m         \u001b[0mneigh_dist\u001b[0m\u001b[1;33m,\u001b[0m \u001b[0mneigh_ind\u001b[0m \u001b[1;33m=\u001b[0m \u001b[0mself\u001b[0m\u001b[1;33m.\u001b[0m\u001b[0mkneighbors\u001b[0m\u001b[1;33m(\u001b[0m\u001b[0mX\u001b[0m\u001b[1;33m)\u001b[0m\u001b[1;33m\u001b[0m\u001b[1;33m\u001b[0m\u001b[0m\n\u001b[0m\u001b[0;32m    150\u001b[0m         \u001b[0mclasses_\u001b[0m \u001b[1;33m=\u001b[0m \u001b[0mself\u001b[0m\u001b[1;33m.\u001b[0m\u001b[0mclasses_\u001b[0m\u001b[1;33m\u001b[0m\u001b[1;33m\u001b[0m\u001b[0m\n\u001b[0;32m    151\u001b[0m         \u001b[0m_y\u001b[0m \u001b[1;33m=\u001b[0m \u001b[0mself\u001b[0m\u001b[1;33m.\u001b[0m\u001b[0m_y\u001b[0m\u001b[1;33m\u001b[0m\u001b[1;33m\u001b[0m\u001b[0m\n",
      "\u001b[1;32m~\\Anaconda3\\lib\\site-packages\\sklearn\\neighbors\\base.py\u001b[0m in \u001b[0;36mkneighbors\u001b[1;34m(self, X, n_neighbors, return_distance)\u001b[0m\n\u001b[0;32m    452\u001b[0m                 delayed_query(\n\u001b[0;32m    453\u001b[0m                     self._tree, X[s], n_neighbors, return_distance)\n\u001b[1;32m--> 454\u001b[1;33m                 \u001b[1;32mfor\u001b[0m \u001b[0ms\u001b[0m \u001b[1;32min\u001b[0m \u001b[0mgen_even_slices\u001b[0m\u001b[1;33m(\u001b[0m\u001b[0mX\u001b[0m\u001b[1;33m.\u001b[0m\u001b[0mshape\u001b[0m\u001b[1;33m[\u001b[0m\u001b[1;36m0\u001b[0m\u001b[1;33m]\u001b[0m\u001b[1;33m,\u001b[0m \u001b[0mn_jobs\u001b[0m\u001b[1;33m)\u001b[0m\u001b[1;33m\u001b[0m\u001b[1;33m\u001b[0m\u001b[0m\n\u001b[0m\u001b[0;32m    455\u001b[0m             )\n\u001b[0;32m    456\u001b[0m         \u001b[1;32melse\u001b[0m\u001b[1;33m:\u001b[0m\u001b[1;33m\u001b[0m\u001b[1;33m\u001b[0m\u001b[0m\n",
      "\u001b[1;32m~\\Anaconda3\\lib\\site-packages\\joblib\\parallel.py\u001b[0m in \u001b[0;36m__call__\u001b[1;34m(self, iterable)\u001b[0m\n\u001b[0;32m    919\u001b[0m             \u001b[1;31m# remaining jobs.\u001b[0m\u001b[1;33m\u001b[0m\u001b[1;33m\u001b[0m\u001b[1;33m\u001b[0m\u001b[0m\n\u001b[0;32m    920\u001b[0m             \u001b[0mself\u001b[0m\u001b[1;33m.\u001b[0m\u001b[0m_iterating\u001b[0m \u001b[1;33m=\u001b[0m \u001b[1;32mFalse\u001b[0m\u001b[1;33m\u001b[0m\u001b[1;33m\u001b[0m\u001b[0m\n\u001b[1;32m--> 921\u001b[1;33m             \u001b[1;32mif\u001b[0m \u001b[0mself\u001b[0m\u001b[1;33m.\u001b[0m\u001b[0mdispatch_one_batch\u001b[0m\u001b[1;33m(\u001b[0m\u001b[0miterator\u001b[0m\u001b[1;33m)\u001b[0m\u001b[1;33m:\u001b[0m\u001b[1;33m\u001b[0m\u001b[1;33m\u001b[0m\u001b[0m\n\u001b[0m\u001b[0;32m    922\u001b[0m                 \u001b[0mself\u001b[0m\u001b[1;33m.\u001b[0m\u001b[0m_iterating\u001b[0m \u001b[1;33m=\u001b[0m \u001b[0mself\u001b[0m\u001b[1;33m.\u001b[0m\u001b[0m_original_iterator\u001b[0m \u001b[1;32mis\u001b[0m \u001b[1;32mnot\u001b[0m \u001b[1;32mNone\u001b[0m\u001b[1;33m\u001b[0m\u001b[1;33m\u001b[0m\u001b[0m\n\u001b[0;32m    923\u001b[0m \u001b[1;33m\u001b[0m\u001b[0m\n",
      "\u001b[1;32m~\\Anaconda3\\lib\\site-packages\\joblib\\parallel.py\u001b[0m in \u001b[0;36mdispatch_one_batch\u001b[1;34m(self, iterator)\u001b[0m\n\u001b[0;32m    757\u001b[0m                 \u001b[1;32mreturn\u001b[0m \u001b[1;32mFalse\u001b[0m\u001b[1;33m\u001b[0m\u001b[1;33m\u001b[0m\u001b[0m\n\u001b[0;32m    758\u001b[0m             \u001b[1;32melse\u001b[0m\u001b[1;33m:\u001b[0m\u001b[1;33m\u001b[0m\u001b[1;33m\u001b[0m\u001b[0m\n\u001b[1;32m--> 759\u001b[1;33m                 \u001b[0mself\u001b[0m\u001b[1;33m.\u001b[0m\u001b[0m_dispatch\u001b[0m\u001b[1;33m(\u001b[0m\u001b[0mtasks\u001b[0m\u001b[1;33m)\u001b[0m\u001b[1;33m\u001b[0m\u001b[1;33m\u001b[0m\u001b[0m\n\u001b[0m\u001b[0;32m    760\u001b[0m                 \u001b[1;32mreturn\u001b[0m \u001b[1;32mTrue\u001b[0m\u001b[1;33m\u001b[0m\u001b[1;33m\u001b[0m\u001b[0m\n\u001b[0;32m    761\u001b[0m \u001b[1;33m\u001b[0m\u001b[0m\n",
      "\u001b[1;32m~\\Anaconda3\\lib\\site-packages\\joblib\\parallel.py\u001b[0m in \u001b[0;36m_dispatch\u001b[1;34m(self, batch)\u001b[0m\n\u001b[0;32m    714\u001b[0m         \u001b[1;32mwith\u001b[0m \u001b[0mself\u001b[0m\u001b[1;33m.\u001b[0m\u001b[0m_lock\u001b[0m\u001b[1;33m:\u001b[0m\u001b[1;33m\u001b[0m\u001b[1;33m\u001b[0m\u001b[0m\n\u001b[0;32m    715\u001b[0m             \u001b[0mjob_idx\u001b[0m \u001b[1;33m=\u001b[0m \u001b[0mlen\u001b[0m\u001b[1;33m(\u001b[0m\u001b[0mself\u001b[0m\u001b[1;33m.\u001b[0m\u001b[0m_jobs\u001b[0m\u001b[1;33m)\u001b[0m\u001b[1;33m\u001b[0m\u001b[1;33m\u001b[0m\u001b[0m\n\u001b[1;32m--> 716\u001b[1;33m             \u001b[0mjob\u001b[0m \u001b[1;33m=\u001b[0m \u001b[0mself\u001b[0m\u001b[1;33m.\u001b[0m\u001b[0m_backend\u001b[0m\u001b[1;33m.\u001b[0m\u001b[0mapply_async\u001b[0m\u001b[1;33m(\u001b[0m\u001b[0mbatch\u001b[0m\u001b[1;33m,\u001b[0m \u001b[0mcallback\u001b[0m\u001b[1;33m=\u001b[0m\u001b[0mcb\u001b[0m\u001b[1;33m)\u001b[0m\u001b[1;33m\u001b[0m\u001b[1;33m\u001b[0m\u001b[0m\n\u001b[0m\u001b[0;32m    717\u001b[0m             \u001b[1;31m# A job can complete so quickly than its callback is\u001b[0m\u001b[1;33m\u001b[0m\u001b[1;33m\u001b[0m\u001b[1;33m\u001b[0m\u001b[0m\n\u001b[0;32m    718\u001b[0m             \u001b[1;31m# called before we get here, causing self._jobs to\u001b[0m\u001b[1;33m\u001b[0m\u001b[1;33m\u001b[0m\u001b[1;33m\u001b[0m\u001b[0m\n",
      "\u001b[1;32m~\\Anaconda3\\lib\\site-packages\\joblib\\_parallel_backends.py\u001b[0m in \u001b[0;36mapply_async\u001b[1;34m(self, func, callback)\u001b[0m\n\u001b[0;32m    180\u001b[0m     \u001b[1;32mdef\u001b[0m \u001b[0mapply_async\u001b[0m\u001b[1;33m(\u001b[0m\u001b[0mself\u001b[0m\u001b[1;33m,\u001b[0m \u001b[0mfunc\u001b[0m\u001b[1;33m,\u001b[0m \u001b[0mcallback\u001b[0m\u001b[1;33m=\u001b[0m\u001b[1;32mNone\u001b[0m\u001b[1;33m)\u001b[0m\u001b[1;33m:\u001b[0m\u001b[1;33m\u001b[0m\u001b[1;33m\u001b[0m\u001b[0m\n\u001b[0;32m    181\u001b[0m         \u001b[1;34m\"\"\"Schedule a func to be run\"\"\"\u001b[0m\u001b[1;33m\u001b[0m\u001b[1;33m\u001b[0m\u001b[0m\n\u001b[1;32m--> 182\u001b[1;33m         \u001b[0mresult\u001b[0m \u001b[1;33m=\u001b[0m \u001b[0mImmediateResult\u001b[0m\u001b[1;33m(\u001b[0m\u001b[0mfunc\u001b[0m\u001b[1;33m)\u001b[0m\u001b[1;33m\u001b[0m\u001b[1;33m\u001b[0m\u001b[0m\n\u001b[0m\u001b[0;32m    183\u001b[0m         \u001b[1;32mif\u001b[0m \u001b[0mcallback\u001b[0m\u001b[1;33m:\u001b[0m\u001b[1;33m\u001b[0m\u001b[1;33m\u001b[0m\u001b[0m\n\u001b[0;32m    184\u001b[0m             \u001b[0mcallback\u001b[0m\u001b[1;33m(\u001b[0m\u001b[0mresult\u001b[0m\u001b[1;33m)\u001b[0m\u001b[1;33m\u001b[0m\u001b[1;33m\u001b[0m\u001b[0m\n",
      "\u001b[1;32m~\\Anaconda3\\lib\\site-packages\\joblib\\_parallel_backends.py\u001b[0m in \u001b[0;36m__init__\u001b[1;34m(self, batch)\u001b[0m\n\u001b[0;32m    547\u001b[0m         \u001b[1;31m# Don't delay the application, to avoid keeping the input\u001b[0m\u001b[1;33m\u001b[0m\u001b[1;33m\u001b[0m\u001b[1;33m\u001b[0m\u001b[0m\n\u001b[0;32m    548\u001b[0m         \u001b[1;31m# arguments in memory\u001b[0m\u001b[1;33m\u001b[0m\u001b[1;33m\u001b[0m\u001b[1;33m\u001b[0m\u001b[0m\n\u001b[1;32m--> 549\u001b[1;33m         \u001b[0mself\u001b[0m\u001b[1;33m.\u001b[0m\u001b[0mresults\u001b[0m \u001b[1;33m=\u001b[0m \u001b[0mbatch\u001b[0m\u001b[1;33m(\u001b[0m\u001b[1;33m)\u001b[0m\u001b[1;33m\u001b[0m\u001b[1;33m\u001b[0m\u001b[0m\n\u001b[0m\u001b[0;32m    550\u001b[0m \u001b[1;33m\u001b[0m\u001b[0m\n\u001b[0;32m    551\u001b[0m     \u001b[1;32mdef\u001b[0m \u001b[0mget\u001b[0m\u001b[1;33m(\u001b[0m\u001b[0mself\u001b[0m\u001b[1;33m)\u001b[0m\u001b[1;33m:\u001b[0m\u001b[1;33m\u001b[0m\u001b[1;33m\u001b[0m\u001b[0m\n",
      "\u001b[1;32m~\\Anaconda3\\lib\\site-packages\\joblib\\parallel.py\u001b[0m in \u001b[0;36m__call__\u001b[1;34m(self)\u001b[0m\n\u001b[0;32m    223\u001b[0m         \u001b[1;32mwith\u001b[0m \u001b[0mparallel_backend\u001b[0m\u001b[1;33m(\u001b[0m\u001b[0mself\u001b[0m\u001b[1;33m.\u001b[0m\u001b[0m_backend\u001b[0m\u001b[1;33m,\u001b[0m \u001b[0mn_jobs\u001b[0m\u001b[1;33m=\u001b[0m\u001b[0mself\u001b[0m\u001b[1;33m.\u001b[0m\u001b[0m_n_jobs\u001b[0m\u001b[1;33m)\u001b[0m\u001b[1;33m:\u001b[0m\u001b[1;33m\u001b[0m\u001b[1;33m\u001b[0m\u001b[0m\n\u001b[0;32m    224\u001b[0m             return [func(*args, **kwargs)\n\u001b[1;32m--> 225\u001b[1;33m                     for func, args, kwargs in self.items]\n\u001b[0m\u001b[0;32m    226\u001b[0m \u001b[1;33m\u001b[0m\u001b[0m\n\u001b[0;32m    227\u001b[0m     \u001b[1;32mdef\u001b[0m \u001b[0m__len__\u001b[0m\u001b[1;33m(\u001b[0m\u001b[0mself\u001b[0m\u001b[1;33m)\u001b[0m\u001b[1;33m:\u001b[0m\u001b[1;33m\u001b[0m\u001b[1;33m\u001b[0m\u001b[0m\n",
      "\u001b[1;32m~\\Anaconda3\\lib\\site-packages\\joblib\\parallel.py\u001b[0m in \u001b[0;36m<listcomp>\u001b[1;34m(.0)\u001b[0m\n\u001b[0;32m    223\u001b[0m         \u001b[1;32mwith\u001b[0m \u001b[0mparallel_backend\u001b[0m\u001b[1;33m(\u001b[0m\u001b[0mself\u001b[0m\u001b[1;33m.\u001b[0m\u001b[0m_backend\u001b[0m\u001b[1;33m,\u001b[0m \u001b[0mn_jobs\u001b[0m\u001b[1;33m=\u001b[0m\u001b[0mself\u001b[0m\u001b[1;33m.\u001b[0m\u001b[0m_n_jobs\u001b[0m\u001b[1;33m)\u001b[0m\u001b[1;33m:\u001b[0m\u001b[1;33m\u001b[0m\u001b[1;33m\u001b[0m\u001b[0m\n\u001b[0;32m    224\u001b[0m             return [func(*args, **kwargs)\n\u001b[1;32m--> 225\u001b[1;33m                     for func, args, kwargs in self.items]\n\u001b[0m\u001b[0;32m    226\u001b[0m \u001b[1;33m\u001b[0m\u001b[0m\n\u001b[0;32m    227\u001b[0m     \u001b[1;32mdef\u001b[0m \u001b[0m__len__\u001b[0m\u001b[1;33m(\u001b[0m\u001b[0mself\u001b[0m\u001b[1;33m)\u001b[0m\u001b[1;33m:\u001b[0m\u001b[1;33m\u001b[0m\u001b[1;33m\u001b[0m\u001b[0m\n",
      "\u001b[1;32m~\\Anaconda3\\lib\\site-packages\\sklearn\\neighbors\\base.py\u001b[0m in \u001b[0;36m_tree_query_parallel_helper\u001b[1;34m(tree, data, n_neighbors, return_distance)\u001b[0m\n\u001b[0;32m    289\u001b[0m     \u001b[0munder\u001b[0m \u001b[0mPyPy\u001b[0m\u001b[1;33m.\u001b[0m\u001b[1;33m\u001b[0m\u001b[1;33m\u001b[0m\u001b[0m\n\u001b[0;32m    290\u001b[0m     \"\"\"\n\u001b[1;32m--> 291\u001b[1;33m     \u001b[1;32mreturn\u001b[0m \u001b[0mtree\u001b[0m\u001b[1;33m.\u001b[0m\u001b[0mquery\u001b[0m\u001b[1;33m(\u001b[0m\u001b[0mdata\u001b[0m\u001b[1;33m,\u001b[0m \u001b[0mn_neighbors\u001b[0m\u001b[1;33m,\u001b[0m \u001b[0mreturn_distance\u001b[0m\u001b[1;33m)\u001b[0m\u001b[1;33m\u001b[0m\u001b[1;33m\u001b[0m\u001b[0m\n\u001b[0m\u001b[0;32m    292\u001b[0m \u001b[1;33m\u001b[0m\u001b[0m\n\u001b[0;32m    293\u001b[0m \u001b[1;33m\u001b[0m\u001b[0m\n",
      "\u001b[1;32msklearn\\neighbors\\binary_tree.pxi\u001b[0m in \u001b[0;36msklearn.neighbors.kd_tree.BinaryTree.query\u001b[1;34m()\u001b[0m\n",
      "\u001b[1;31mValueError\u001b[0m: query data dimension must match training data dimension"
     ]
    }
   ],
   "source": [
    "plot_cat_model(clf1, X_train, y_train, X_test, y_test)\n",
    "plt.savefig('11.2.png')"
   ]
  },
  {
   "cell_type": "code",
   "execution_count": null,
   "metadata": {},
   "outputs": [],
   "source": [
    "clf2 = KNeighborsClassifier(n_neighbors=2) # Define the model\n",
    "clf2.fit(X_train, y_train)\n",
    "plot_cat_model(clf2, X_train, y_train, X_test, y_test)\n",
    "plt.savefig('11.3.png')"
   ]
  },
  {
   "cell_type": "markdown",
   "metadata": {},
   "source": [
    "#### Now Bootstraping\n",
    "Now we test the accuracy of the K-Nearest Neighbors using the bootstrap method."
   ]
  },
  {
   "cell_type": "code",
   "execution_count": 224,
   "metadata": {},
   "outputs": [],
   "source": [
    "num = 60 # number of bootstraps to use\n",
    "Xboot = [0]*num\n",
    "yboot = [0]*num\n",
    "\n",
    "n = X.shape[0]\n",
    "for s in range(num):\n",
    "    sample = np.random.randint(0, n, n)  # Note here starting with a random permutation is not necessary\n",
    "    Xboot[s] = X[sample, :]\n",
    "    yboot[s] = y[sample]"
   ]
  },
  {
   "cell_type": "code",
   "execution_count": 155,
   "metadata": {
    "collapsed": true,
    "jupyter": {
     "outputs_hidden": true
    }
   },
   "outputs": [
    {
     "ename": "KeyboardInterrupt",
     "evalue": "",
     "output_type": "error",
     "traceback": [
      "\u001b[1;31m---------------------------------------------------------------------------\u001b[0m",
      "\u001b[1;31mKeyboardInterrupt\u001b[0m                         Traceback (most recent call last)",
      "\u001b[1;32m<ipython-input-155-637946bce12f>\u001b[0m in \u001b[0;36m<module>\u001b[1;34m\u001b[0m\n\u001b[0;32m     16\u001b[0m         \u001b[0mclf\u001b[0m \u001b[1;33m=\u001b[0m \u001b[0mKNeighborsClassifier\u001b[0m\u001b[1;33m(\u001b[0m\u001b[0mn_neighbors\u001b[0m\u001b[1;33m=\u001b[0m\u001b[0mk\u001b[0m\u001b[1;33m+\u001b[0m\u001b[1;36m1\u001b[0m\u001b[1;33m)\u001b[0m \u001b[1;31m# Define the model\u001b[0m\u001b[1;33m\u001b[0m\u001b[1;33m\u001b[0m\u001b[0m\n\u001b[0;32m     17\u001b[0m         \u001b[0mclf\u001b[0m\u001b[1;33m.\u001b[0m\u001b[0mfit\u001b[0m\u001b[1;33m(\u001b[0m\u001b[0mX_train\u001b[0m\u001b[1;33m,\u001b[0m \u001b[0my_train\u001b[0m\u001b[1;33m)\u001b[0m \u001b[1;31m# Train the model\u001b[0m\u001b[1;33m\u001b[0m\u001b[1;33m\u001b[0m\u001b[0m\n\u001b[1;32m---> 18\u001b[1;33m         \u001b[0mError\u001b[0m\u001b[1;33m.\u001b[0m\u001b[0miloc\u001b[0m\u001b[1;33m[\u001b[0m\u001b[0ms\u001b[0m\u001b[1;33m,\u001b[0m \u001b[1;36m2\u001b[0m\u001b[1;33m*\u001b[0m\u001b[0mk\u001b[0m\u001b[1;33m]\u001b[0m \u001b[1;33m=\u001b[0m \u001b[0mclf\u001b[0m\u001b[1;33m.\u001b[0m\u001b[0mscore\u001b[0m\u001b[1;33m(\u001b[0m\u001b[0mX_train\u001b[0m\u001b[1;33m,\u001b[0m \u001b[0my_train\u001b[0m\u001b[1;33m)\u001b[0m\u001b[1;33m\u001b[0m\u001b[1;33m\u001b[0m\u001b[0m\n\u001b[0m\u001b[0;32m     19\u001b[0m         \u001b[0mError\u001b[0m\u001b[1;33m.\u001b[0m\u001b[0miloc\u001b[0m\u001b[1;33m[\u001b[0m\u001b[0ms\u001b[0m\u001b[1;33m,\u001b[0m \u001b[1;36m2\u001b[0m\u001b[1;33m*\u001b[0m\u001b[0mk\u001b[0m\u001b[1;33m+\u001b[0m\u001b[1;36m1\u001b[0m\u001b[1;33m]\u001b[0m \u001b[1;33m=\u001b[0m \u001b[0mclf\u001b[0m\u001b[1;33m.\u001b[0m\u001b[0mscore\u001b[0m\u001b[1;33m(\u001b[0m\u001b[0mX_test\u001b[0m\u001b[1;33m,\u001b[0m \u001b[0my_test\u001b[0m\u001b[1;33m)\u001b[0m\u001b[1;33m\u001b[0m\u001b[1;33m\u001b[0m\u001b[0m\n\u001b[0;32m     20\u001b[0m \u001b[1;33m\u001b[0m\u001b[0m\n",
      "\u001b[1;32m~\\Anaconda3\\lib\\site-packages\\sklearn\\base.py\u001b[0m in \u001b[0;36mscore\u001b[1;34m(self, X, y, sample_weight)\u001b[0m\n\u001b[0;32m    355\u001b[0m         \"\"\"\n\u001b[0;32m    356\u001b[0m         \u001b[1;32mfrom\u001b[0m \u001b[1;33m.\u001b[0m\u001b[0mmetrics\u001b[0m \u001b[1;32mimport\u001b[0m \u001b[0maccuracy_score\u001b[0m\u001b[1;33m\u001b[0m\u001b[1;33m\u001b[0m\u001b[0m\n\u001b[1;32m--> 357\u001b[1;33m         \u001b[1;32mreturn\u001b[0m \u001b[0maccuracy_score\u001b[0m\u001b[1;33m(\u001b[0m\u001b[0my\u001b[0m\u001b[1;33m,\u001b[0m \u001b[0mself\u001b[0m\u001b[1;33m.\u001b[0m\u001b[0mpredict\u001b[0m\u001b[1;33m(\u001b[0m\u001b[0mX\u001b[0m\u001b[1;33m)\u001b[0m\u001b[1;33m,\u001b[0m \u001b[0msample_weight\u001b[0m\u001b[1;33m=\u001b[0m\u001b[0msample_weight\u001b[0m\u001b[1;33m)\u001b[0m\u001b[1;33m\u001b[0m\u001b[1;33m\u001b[0m\u001b[0m\n\u001b[0m\u001b[0;32m    358\u001b[0m \u001b[1;33m\u001b[0m\u001b[0m\n\u001b[0;32m    359\u001b[0m \u001b[1;33m\u001b[0m\u001b[0m\n",
      "\u001b[1;32m~\\Anaconda3\\lib\\site-packages\\sklearn\\neighbors\\classification.py\u001b[0m in \u001b[0;36mpredict\u001b[1;34m(self, X)\u001b[0m\n\u001b[0;32m    161\u001b[0m         \u001b[1;32mfor\u001b[0m \u001b[0mk\u001b[0m\u001b[1;33m,\u001b[0m \u001b[0mclasses_k\u001b[0m \u001b[1;32min\u001b[0m \u001b[0menumerate\u001b[0m\u001b[1;33m(\u001b[0m\u001b[0mclasses_\u001b[0m\u001b[1;33m)\u001b[0m\u001b[1;33m:\u001b[0m\u001b[1;33m\u001b[0m\u001b[1;33m\u001b[0m\u001b[0m\n\u001b[0;32m    162\u001b[0m             \u001b[1;32mif\u001b[0m \u001b[0mweights\u001b[0m \u001b[1;32mis\u001b[0m \u001b[1;32mNone\u001b[0m\u001b[1;33m:\u001b[0m\u001b[1;33m\u001b[0m\u001b[1;33m\u001b[0m\u001b[0m\n\u001b[1;32m--> 163\u001b[1;33m                 \u001b[0mmode\u001b[0m\u001b[1;33m,\u001b[0m \u001b[0m_\u001b[0m \u001b[1;33m=\u001b[0m \u001b[0mstats\u001b[0m\u001b[1;33m.\u001b[0m\u001b[0mmode\u001b[0m\u001b[1;33m(\u001b[0m\u001b[0m_y\u001b[0m\u001b[1;33m[\u001b[0m\u001b[0mneigh_ind\u001b[0m\u001b[1;33m,\u001b[0m \u001b[0mk\u001b[0m\u001b[1;33m]\u001b[0m\u001b[1;33m,\u001b[0m \u001b[0maxis\u001b[0m\u001b[1;33m=\u001b[0m\u001b[1;36m1\u001b[0m\u001b[1;33m)\u001b[0m\u001b[1;33m\u001b[0m\u001b[1;33m\u001b[0m\u001b[0m\n\u001b[0m\u001b[0;32m    164\u001b[0m             \u001b[1;32melse\u001b[0m\u001b[1;33m:\u001b[0m\u001b[1;33m\u001b[0m\u001b[1;33m\u001b[0m\u001b[0m\n\u001b[0;32m    165\u001b[0m                 \u001b[0mmode\u001b[0m\u001b[1;33m,\u001b[0m \u001b[0m_\u001b[0m \u001b[1;33m=\u001b[0m \u001b[0mweighted_mode\u001b[0m\u001b[1;33m(\u001b[0m\u001b[0m_y\u001b[0m\u001b[1;33m[\u001b[0m\u001b[0mneigh_ind\u001b[0m\u001b[1;33m,\u001b[0m \u001b[0mk\u001b[0m\u001b[1;33m]\u001b[0m\u001b[1;33m,\u001b[0m \u001b[0mweights\u001b[0m\u001b[1;33m,\u001b[0m \u001b[0maxis\u001b[0m\u001b[1;33m=\u001b[0m\u001b[1;36m1\u001b[0m\u001b[1;33m)\u001b[0m\u001b[1;33m\u001b[0m\u001b[1;33m\u001b[0m\u001b[0m\n",
      "\u001b[1;32m~\\Anaconda3\\lib\\site-packages\\scipy\\stats\\stats.py\u001b[0m in \u001b[0;36mmode\u001b[1;34m(a, axis, nan_policy)\u001b[0m\n\u001b[0;32m    487\u001b[0m     \u001b[0mcounts\u001b[0m \u001b[1;33m=\u001b[0m \u001b[0mnp\u001b[0m\u001b[1;33m.\u001b[0m\u001b[0mzeros\u001b[0m\u001b[1;33m(\u001b[0m\u001b[0ma_view\u001b[0m\u001b[1;33m.\u001b[0m\u001b[0mshape\u001b[0m\u001b[1;33m[\u001b[0m\u001b[1;33m:\u001b[0m\u001b[1;33m-\u001b[0m\u001b[1;36m1\u001b[0m\u001b[1;33m]\u001b[0m\u001b[1;33m,\u001b[0m \u001b[0mdtype\u001b[0m\u001b[1;33m=\u001b[0m\u001b[0mnp\u001b[0m\u001b[1;33m.\u001b[0m\u001b[0mint\u001b[0m\u001b[1;33m)\u001b[0m\u001b[1;33m\u001b[0m\u001b[1;33m\u001b[0m\u001b[0m\n\u001b[0;32m    488\u001b[0m     \u001b[1;32mfor\u001b[0m \u001b[0mind\u001b[0m \u001b[1;32min\u001b[0m \u001b[0minds\u001b[0m\u001b[1;33m:\u001b[0m\u001b[1;33m\u001b[0m\u001b[1;33m\u001b[0m\u001b[0m\n\u001b[1;32m--> 489\u001b[1;33m         \u001b[0mmodes\u001b[0m\u001b[1;33m[\u001b[0m\u001b[0mind\u001b[0m\u001b[1;33m]\u001b[0m\u001b[1;33m,\u001b[0m \u001b[0mcounts\u001b[0m\u001b[1;33m[\u001b[0m\u001b[0mind\u001b[0m\u001b[1;33m]\u001b[0m \u001b[1;33m=\u001b[0m \u001b[0m_mode1D\u001b[0m\u001b[1;33m(\u001b[0m\u001b[0ma_view\u001b[0m\u001b[1;33m[\u001b[0m\u001b[0mind\u001b[0m\u001b[1;33m]\u001b[0m\u001b[1;33m)\u001b[0m\u001b[1;33m\u001b[0m\u001b[1;33m\u001b[0m\u001b[0m\n\u001b[0m\u001b[0;32m    490\u001b[0m     \u001b[0mnewshape\u001b[0m \u001b[1;33m=\u001b[0m \u001b[0mlist\u001b[0m\u001b[1;33m(\u001b[0m\u001b[0ma\u001b[0m\u001b[1;33m.\u001b[0m\u001b[0mshape\u001b[0m\u001b[1;33m)\u001b[0m\u001b[1;33m\u001b[0m\u001b[1;33m\u001b[0m\u001b[0m\n\u001b[0;32m    491\u001b[0m     \u001b[0mnewshape\u001b[0m\u001b[1;33m[\u001b[0m\u001b[0maxis\u001b[0m\u001b[1;33m]\u001b[0m \u001b[1;33m=\u001b[0m \u001b[1;36m1\u001b[0m\u001b[1;33m\u001b[0m\u001b[1;33m\u001b[0m\u001b[0m\n",
      "\u001b[1;32m~\\Anaconda3\\lib\\site-packages\\scipy\\stats\\stats.py\u001b[0m in \u001b[0;36m_mode1D\u001b[1;34m(a)\u001b[0m\n\u001b[0;32m    474\u001b[0m \u001b[1;33m\u001b[0m\u001b[0m\n\u001b[0;32m    475\u001b[0m     \u001b[1;32mdef\u001b[0m \u001b[0m_mode1D\u001b[0m\u001b[1;33m(\u001b[0m\u001b[0ma\u001b[0m\u001b[1;33m)\u001b[0m\u001b[1;33m:\u001b[0m\u001b[1;33m\u001b[0m\u001b[1;33m\u001b[0m\u001b[0m\n\u001b[1;32m--> 476\u001b[1;33m         \u001b[0mvals\u001b[0m\u001b[1;33m,\u001b[0m \u001b[0mcnts\u001b[0m \u001b[1;33m=\u001b[0m \u001b[0mnp\u001b[0m\u001b[1;33m.\u001b[0m\u001b[0munique\u001b[0m\u001b[1;33m(\u001b[0m\u001b[0ma\u001b[0m\u001b[1;33m,\u001b[0m \u001b[0mreturn_counts\u001b[0m\u001b[1;33m=\u001b[0m\u001b[1;32mTrue\u001b[0m\u001b[1;33m)\u001b[0m\u001b[1;33m\u001b[0m\u001b[1;33m\u001b[0m\u001b[0m\n\u001b[0m\u001b[0;32m    477\u001b[0m         \u001b[1;32mreturn\u001b[0m \u001b[0mvals\u001b[0m\u001b[1;33m[\u001b[0m\u001b[0mcnts\u001b[0m\u001b[1;33m.\u001b[0m\u001b[0margmax\u001b[0m\u001b[1;33m(\u001b[0m\u001b[1;33m)\u001b[0m\u001b[1;33m]\u001b[0m\u001b[1;33m,\u001b[0m \u001b[0mcnts\u001b[0m\u001b[1;33m.\u001b[0m\u001b[0mmax\u001b[0m\u001b[1;33m(\u001b[0m\u001b[1;33m)\u001b[0m\u001b[1;33m\u001b[0m\u001b[1;33m\u001b[0m\u001b[0m\n\u001b[0;32m    478\u001b[0m \u001b[1;33m\u001b[0m\u001b[0m\n",
      "\u001b[1;32m~\\Anaconda3\\lib\\site-packages\\numpy\\lib\\arraysetops.py\u001b[0m in \u001b[0;36munique\u001b[1;34m(ar, return_index, return_inverse, return_counts, axis)\u001b[0m\n\u001b[0;32m    262\u001b[0m     \u001b[0mar\u001b[0m \u001b[1;33m=\u001b[0m \u001b[0mnp\u001b[0m\u001b[1;33m.\u001b[0m\u001b[0masanyarray\u001b[0m\u001b[1;33m(\u001b[0m\u001b[0mar\u001b[0m\u001b[1;33m)\u001b[0m\u001b[1;33m\u001b[0m\u001b[1;33m\u001b[0m\u001b[0m\n\u001b[0;32m    263\u001b[0m     \u001b[1;32mif\u001b[0m \u001b[0maxis\u001b[0m \u001b[1;32mis\u001b[0m \u001b[1;32mNone\u001b[0m\u001b[1;33m:\u001b[0m\u001b[1;33m\u001b[0m\u001b[1;33m\u001b[0m\u001b[0m\n\u001b[1;32m--> 264\u001b[1;33m         \u001b[0mret\u001b[0m \u001b[1;33m=\u001b[0m \u001b[0m_unique1d\u001b[0m\u001b[1;33m(\u001b[0m\u001b[0mar\u001b[0m\u001b[1;33m,\u001b[0m \u001b[0mreturn_index\u001b[0m\u001b[1;33m,\u001b[0m \u001b[0mreturn_inverse\u001b[0m\u001b[1;33m,\u001b[0m \u001b[0mreturn_counts\u001b[0m\u001b[1;33m)\u001b[0m\u001b[1;33m\u001b[0m\u001b[1;33m\u001b[0m\u001b[0m\n\u001b[0m\u001b[0;32m    265\u001b[0m         \u001b[1;32mreturn\u001b[0m \u001b[0m_unpack_tuple\u001b[0m\u001b[1;33m(\u001b[0m\u001b[0mret\u001b[0m\u001b[1;33m)\u001b[0m\u001b[1;33m\u001b[0m\u001b[1;33m\u001b[0m\u001b[0m\n\u001b[0;32m    266\u001b[0m \u001b[1;33m\u001b[0m\u001b[0m\n",
      "\u001b[1;32m~\\Anaconda3\\lib\\site-packages\\numpy\\lib\\arraysetops.py\u001b[0m in \u001b[0;36m_unique1d\u001b[1;34m(ar, return_index, return_inverse, return_counts)\u001b[0m\n\u001b[0;32m    314\u001b[0m     \u001b[0mmask\u001b[0m \u001b[1;33m=\u001b[0m \u001b[0mnp\u001b[0m\u001b[1;33m.\u001b[0m\u001b[0mempty\u001b[0m\u001b[1;33m(\u001b[0m\u001b[0maux\u001b[0m\u001b[1;33m.\u001b[0m\u001b[0mshape\u001b[0m\u001b[1;33m,\u001b[0m \u001b[0mdtype\u001b[0m\u001b[1;33m=\u001b[0m\u001b[0mnp\u001b[0m\u001b[1;33m.\u001b[0m\u001b[0mbool_\u001b[0m\u001b[1;33m)\u001b[0m\u001b[1;33m\u001b[0m\u001b[1;33m\u001b[0m\u001b[0m\n\u001b[0;32m    315\u001b[0m     \u001b[0mmask\u001b[0m\u001b[1;33m[\u001b[0m\u001b[1;33m:\u001b[0m\u001b[1;36m1\u001b[0m\u001b[1;33m]\u001b[0m \u001b[1;33m=\u001b[0m \u001b[1;32mTrue\u001b[0m\u001b[1;33m\u001b[0m\u001b[1;33m\u001b[0m\u001b[0m\n\u001b[1;32m--> 316\u001b[1;33m     \u001b[0mmask\u001b[0m\u001b[1;33m[\u001b[0m\u001b[1;36m1\u001b[0m\u001b[1;33m:\u001b[0m\u001b[1;33m]\u001b[0m \u001b[1;33m=\u001b[0m \u001b[0maux\u001b[0m\u001b[1;33m[\u001b[0m\u001b[1;36m1\u001b[0m\u001b[1;33m:\u001b[0m\u001b[1;33m]\u001b[0m \u001b[1;33m!=\u001b[0m \u001b[0maux\u001b[0m\u001b[1;33m[\u001b[0m\u001b[1;33m:\u001b[0m\u001b[1;33m-\u001b[0m\u001b[1;36m1\u001b[0m\u001b[1;33m]\u001b[0m\u001b[1;33m\u001b[0m\u001b[1;33m\u001b[0m\u001b[0m\n\u001b[0m\u001b[0;32m    317\u001b[0m \u001b[1;33m\u001b[0m\u001b[0m\n\u001b[0;32m    318\u001b[0m     \u001b[0mret\u001b[0m \u001b[1;33m=\u001b[0m \u001b[1;33m(\u001b[0m\u001b[0maux\u001b[0m\u001b[1;33m[\u001b[0m\u001b[0mmask\u001b[0m\u001b[1;33m]\u001b[0m\u001b[1;33m,\u001b[0m\u001b[1;33m)\u001b[0m\u001b[1;33m\u001b[0m\u001b[1;33m\u001b[0m\u001b[0m\n",
      "\u001b[1;31mKeyboardInterrupt\u001b[0m: "
     ]
    }
   ],
   "source": [
    "test = int(0.20*n)\n",
    "maxk = 20\n",
    "\n",
    "labels = [ ['train_{}'.format(x), 'test_{}'.format(x)] for x in range(1, maxk+1)]\n",
    "labels = [x for sublist in labels for x in sublist]\n",
    "\n",
    "Error = pa.DataFrame(  np.array([0]*num*2*maxk).reshape(num, 2*maxk), columns = labels)\n",
    "\n",
    "for s in range(num):\n",
    "    X_test = Xboot[s][:test]\n",
    "    y_test = yboot[s][:test]\n",
    "    X_train = Xboot[s][test:]\n",
    "    y_train = yboot[s][test:]\n",
    "    \n",
    "    for k in range(maxk):\n",
    "        clf = KNeighborsClassifier(n_neighbors=k+1) # Define the model\n",
    "        clf.fit(X_train, y_train) # Train the model\n",
    "        Error.iloc[s, 2*k] = clf.score(X_train, y_train) \n",
    "        Error.iloc[s, 2*k+1] = clf.score(X_test, y_test)\n",
    "      \n",
    "Error_mean = [0]*2*maxk\n",
    "Error_std = [0]*2*maxk\n",
    "for c in range(2*maxk):\n",
    "    Error_mean[c] = np.mean(Error.iloc[:num, c])\n",
    "    Error_std[c] = np.std(Error.iloc[:num, c])\n",
    "    \n",
    "Error = Error.append( pa.Series(Error_mean, index=Error.columns), ignore_index=True)\n",
    "Error = Error.append( pa.Series(Error_std, index=Error.columns), ignore_index=True)\n",
    "Error.index = list(range(num)) + ['Mean', 'Standard Deviation']\n",
    "Error.tail()"
   ]
  },
  {
   "cell_type": "code",
   "execution_count": 156,
   "metadata": {},
   "outputs": [
    {
     "data": {
      "image/png": "[encoded data removed]",
      "text/plain": [
       "<Figure size 432x288 with 1 Axes>"
      ]
     },
     "metadata": {},
     "output_type": "display_data"
    }
   ],
   "source": [
    "testing_error = Error_mean[1::2]  # Grabing every other item from the Error means\n",
    "kk = range(1, maxk+1)\n",
    "plt.plot(kk, testing_error, 'b-');\n",
    "plt.savefig('11.6.png')"
   ]
  },
  {
   "cell_type": "code",
   "execution_count": 157,
   "metadata": {},
   "outputs": [],
   "source": [
    "import matplotlib.colors as pltco # A package to help with coloring plots"
   ]
  },
  {
   "cell_type": "code",
   "execution_count": 158,
   "metadata": {},
   "outputs": [
    {
     "data": {
      "image/png": "[encoded data removed]",
      "text/plain": [
       "<Figure size 576x504 with 1 Axes>"
      ]
     },
     "metadata": {},
     "output_type": "display_data"
    }
   ],
   "source": [
    "plt.figure(figsize=(8, 7))\n",
    "sn.scatterplot(x='arrestee_s_race', y='ucr_code', hue='ucr_code', data=pam_3)\n",
    "plt.savefig('11.1.png')"
   ]
  },
  {
   "cell_type": "markdown",
   "metadata": {},
   "source": [
    "# LINEAR AND QUADRATIC DISCRIMINANT ANALYSIS: \n",
    "\n",
    "Sandra Keta"
   ]
  },
  {
   "cell_type": "code",
   "execution_count": 159,
   "metadata": {},
   "outputs": [],
   "source": [
    "import matplotlib.colors as pltco\n",
    "import numpy.random as rn\n",
    "from sklearn.discriminant_analysis import LinearDiscriminantAnalysis"
   ]
  },
  {
   "cell_type": "code",
   "execution_count": null,
   "metadata": {},
   "outputs": [],
   "source": []
  },
  {
   "cell_type": "code",
   "execution_count": 160,
   "metadata": {},
   "outputs": [],
   "source": [
    "pam_3 = pam_3.dropna(subset=['arrestee_s_age', 'ucr_code'])"
   ]
  },
  {
   "cell_type": "code",
   "execution_count": 161,
   "metadata": {},
   "outputs": [],
   "source": [
    "X = np.atleast_2d(np.array(pam_3['arrestee_s_age'])).transpose()\n",
    "y = np.array(pam_3['ucr_code'])"
   ]
  },
  {
   "cell_type": "code",
   "execution_count": 162,
   "metadata": {},
   "outputs": [],
   "source": [
    "n = X.shape[0]\n",
    "test = int(0.20*n)            \n",
    "perm = rn.permutation(n)   \n",
    "X = X[perm]\n",
    "y = y[perm]\n",
    "X_test = X[:test]       \n",
    "y_test = y[:test]\n",
    "X_train = X[test:]     \n",
    "y_train = y[test:]"
   ]
  },
  {
   "cell_type": "code",
   "execution_count": 163,
   "metadata": {},
   "outputs": [
    {
     "name": "stdout",
     "output_type": "stream",
     "text": [
      "Training Error: 0.758077822081672\n",
      "Testing Error: 0.7497249724972497\n"
     ]
    }
   ],
   "source": [
    "clf = LinearDiscriminantAnalysis()\n",
    "clf.fit(X_train, y_train);\n",
    "print('Training Error: {}'.format(clf.score(X_train, y_train)))\n",
    "print('Testing Error: {}'.format(clf.score(X_test, y_test)))"
   ]
  },
  {
   "cell_type": "markdown",
   "metadata": {},
   "source": [
    "Now, checking the performance with bootstraps: "
   ]
  },
  {
   "cell_type": "code",
   "execution_count": 164,
   "metadata": {},
   "outputs": [],
   "source": [
    "num = 60 \n",
    "Xboot = [0]*num\n",
    "yboot = [0]*num"
   ]
  },
  {
   "cell_type": "code",
   "execution_count": 165,
   "metadata": {},
   "outputs": [],
   "source": [
    "n = X.shape[0]\n",
    "for s in range(num):\n",
    "    sample = np.random.randint(0, n, n)  \n",
    "    Xboot[s] = X[sample, :]\n",
    "    yboot[s] = y[sample]"
   ]
  },
  {
   "cell_type": "code",
   "execution_count": 166,
   "metadata": {},
   "outputs": [],
   "source": [
    "test = int(0.20*n)\n",
    "maxk = 20\n",
    "labels = [ ['train_{}'.format(x), 'test_{}'.format(x)] for x in range(1, maxk+1)]\n",
    "labels = [x for sublist in labels for x in sublist]"
   ]
  },
  {
   "cell_type": "code",
   "execution_count": 167,
   "metadata": {},
   "outputs": [
    {
     "data": {
      "text/html": [
       "<div>\n",
       "<style scoped>\n",
       "    .dataframe tbody tr th:only-of-type {\n",
       "        vertical-align: middle;\n",
       "    }\n",
       "\n",
       "    .dataframe tbody tr th {\n",
       "        vertical-align: top;\n",
       "    }\n",
       "\n",
       "    .dataframe thead th {\n",
       "        text-align: right;\n",
       "    }\n",
       "</style>\n",
       "<table border=\"1\" class=\"dataframe\">\n",
       "  <thead>\n",
       "    <tr style=\"text-align: right;\">\n",
       "      <th></th>\n",
       "      <th>train_1</th>\n",
       "      <th>test_1</th>\n",
       "      <th>train_2</th>\n",
       "      <th>test_2</th>\n",
       "      <th>train_3</th>\n",
       "      <th>test_3</th>\n",
       "      <th>train_4</th>\n",
       "      <th>test_4</th>\n",
       "      <th>train_5</th>\n",
       "      <th>test_5</th>\n",
       "      <th>...</th>\n",
       "      <th>train_16</th>\n",
       "      <th>test_16</th>\n",
       "      <th>train_17</th>\n",
       "      <th>test_17</th>\n",
       "      <th>train_18</th>\n",
       "      <th>test_18</th>\n",
       "      <th>train_19</th>\n",
       "      <th>test_19</th>\n",
       "      <th>train_20</th>\n",
       "      <th>test_20</th>\n",
       "    </tr>\n",
       "  </thead>\n",
       "  <tbody>\n",
       "    <tr>\n",
       "      <td>57</td>\n",
       "      <td>0.749278</td>\n",
       "      <td>0.753575</td>\n",
       "      <td>0.749278</td>\n",
       "      <td>0.753575</td>\n",
       "      <td>0.749278</td>\n",
       "      <td>0.753575</td>\n",
       "      <td>0.749278</td>\n",
       "      <td>0.753575</td>\n",
       "      <td>0.749278</td>\n",
       "      <td>0.753575</td>\n",
       "      <td>...</td>\n",
       "      <td>0.749278</td>\n",
       "      <td>0.753575</td>\n",
       "      <td>0.749278</td>\n",
       "      <td>0.753575</td>\n",
       "      <td>0.749278</td>\n",
       "      <td>0.753575</td>\n",
       "      <td>0.749278</td>\n",
       "      <td>0.753575</td>\n",
       "      <td>0.749278</td>\n",
       "      <td>0.753575</td>\n",
       "    </tr>\n",
       "    <tr>\n",
       "      <td>58</td>\n",
       "      <td>0.756290</td>\n",
       "      <td>0.743949</td>\n",
       "      <td>0.756290</td>\n",
       "      <td>0.743949</td>\n",
       "      <td>0.756290</td>\n",
       "      <td>0.743949</td>\n",
       "      <td>0.756290</td>\n",
       "      <td>0.743949</td>\n",
       "      <td>0.756290</td>\n",
       "      <td>0.743949</td>\n",
       "      <td>...</td>\n",
       "      <td>0.756290</td>\n",
       "      <td>0.743949</td>\n",
       "      <td>0.756290</td>\n",
       "      <td>0.743949</td>\n",
       "      <td>0.756290</td>\n",
       "      <td>0.743949</td>\n",
       "      <td>0.756290</td>\n",
       "      <td>0.743949</td>\n",
       "      <td>0.756290</td>\n",
       "      <td>0.743949</td>\n",
       "    </tr>\n",
       "    <tr>\n",
       "      <td>59</td>\n",
       "      <td>0.754572</td>\n",
       "      <td>0.756876</td>\n",
       "      <td>0.754572</td>\n",
       "      <td>0.756876</td>\n",
       "      <td>0.754572</td>\n",
       "      <td>0.756876</td>\n",
       "      <td>0.754572</td>\n",
       "      <td>0.756876</td>\n",
       "      <td>0.754572</td>\n",
       "      <td>0.756876</td>\n",
       "      <td>...</td>\n",
       "      <td>0.754572</td>\n",
       "      <td>0.756876</td>\n",
       "      <td>0.754572</td>\n",
       "      <td>0.756876</td>\n",
       "      <td>0.754572</td>\n",
       "      <td>0.756876</td>\n",
       "      <td>0.754572</td>\n",
       "      <td>0.756876</td>\n",
       "      <td>0.754572</td>\n",
       "      <td>0.756876</td>\n",
       "    </tr>\n",
       "    <tr>\n",
       "      <td>Mean</td>\n",
       "      <td>0.756538</td>\n",
       "      <td>0.756688</td>\n",
       "      <td>0.756538</td>\n",
       "      <td>0.756688</td>\n",
       "      <td>0.756538</td>\n",
       "      <td>0.756688</td>\n",
       "      <td>0.756538</td>\n",
       "      <td>0.756688</td>\n",
       "      <td>0.756538</td>\n",
       "      <td>0.756688</td>\n",
       "      <td>...</td>\n",
       "      <td>0.756538</td>\n",
       "      <td>0.756688</td>\n",
       "      <td>0.756538</td>\n",
       "      <td>0.756688</td>\n",
       "      <td>0.756538</td>\n",
       "      <td>0.756688</td>\n",
       "      <td>0.756538</td>\n",
       "      <td>0.756688</td>\n",
       "      <td>0.756538</td>\n",
       "      <td>0.756688</td>\n",
       "    </tr>\n",
       "    <tr>\n",
       "      <td>Standard Deviation</td>\n",
       "      <td>0.003430</td>\n",
       "      <td>0.007557</td>\n",
       "      <td>0.003430</td>\n",
       "      <td>0.007557</td>\n",
       "      <td>0.003430</td>\n",
       "      <td>0.007557</td>\n",
       "      <td>0.003430</td>\n",
       "      <td>0.007557</td>\n",
       "      <td>0.003430</td>\n",
       "      <td>0.007557</td>\n",
       "      <td>...</td>\n",
       "      <td>0.003430</td>\n",
       "      <td>0.007557</td>\n",
       "      <td>0.003430</td>\n",
       "      <td>0.007557</td>\n",
       "      <td>0.003430</td>\n",
       "      <td>0.007557</td>\n",
       "      <td>0.003430</td>\n",
       "      <td>0.007557</td>\n",
       "      <td>0.003430</td>\n",
       "      <td>0.007557</td>\n",
       "    </tr>\n",
       "  </tbody>\n",
       "</table>\n",
       "<p>5 rows × 40 columns</p>\n",
       "</div>"
      ],
      "text/plain": [
       "                     train_1    test_1   train_2    test_2   train_3  \\\n",
       "57                  0.749278  0.753575  0.749278  0.753575  0.749278   \n",
       "58                  0.756290  0.743949  0.756290  0.743949  0.756290   \n",
       "59                  0.754572  0.756876  0.754572  0.756876  0.754572   \n",
       "Mean                0.756538  0.756688  0.756538  0.756688  0.756538   \n",
       "Standard Deviation  0.003430  0.007557  0.003430  0.007557  0.003430   \n",
       "\n",
       "                      test_3   train_4    test_4   train_5    test_5  ...  \\\n",
       "57                  0.753575  0.749278  0.753575  0.749278  0.753575  ...   \n",
       "58                  0.743949  0.756290  0.743949  0.756290  0.743949  ...   \n",
       "59                  0.756876  0.754572  0.756876  0.754572  0.756876  ...   \n",
       "Mean                0.756688  0.756538  0.756688  0.756538  0.756688  ...   \n",
       "Standard Deviation  0.007557  0.003430  0.007557  0.003430  0.007557  ...   \n",
       "\n",
       "                    train_16   test_16  train_17   test_17  train_18  \\\n",
       "57                  0.749278  0.753575  0.749278  0.753575  0.749278   \n",
       "58                  0.756290  0.743949  0.756290  0.743949  0.756290   \n",
       "59                  0.754572  0.756876  0.754572  0.756876  0.754572   \n",
       "Mean                0.756538  0.756688  0.756538  0.756688  0.756538   \n",
       "Standard Deviation  0.003430  0.007557  0.003430  0.007557  0.003430   \n",
       "\n",
       "                     test_18  train_19   test_19  train_20   test_20  \n",
       "57                  0.753575  0.749278  0.753575  0.749278  0.753575  \n",
       "58                  0.743949  0.756290  0.743949  0.756290  0.743949  \n",
       "59                  0.756876  0.754572  0.756876  0.754572  0.756876  \n",
       "Mean                0.756688  0.756538  0.756688  0.756538  0.756688  \n",
       "Standard Deviation  0.007557  0.003430  0.007557  0.003430  0.007557  \n",
       "\n",
       "[5 rows x 40 columns]"
      ]
     },
     "execution_count": 167,
     "metadata": {},
     "output_type": "execute_result"
    }
   ],
   "source": [
    "Error = pa.DataFrame(  np.array([0]*num*2*maxk).reshape(num, 2*maxk), columns = labels)\n",
    "\n",
    "for s in range(num):\n",
    "    X_test = Xboot[s][:test]\n",
    "    y_test = yboot[s][:test]\n",
    "    X_train = Xboot[s][test:]\n",
    "    y_train = yboot[s][test:]\n",
    "    \n",
    "    for k in range(maxk):\n",
    "        clf = LinearDiscriminantAnalysis()\n",
    "        clf.fit(X_train, y_train)\n",
    "        Error.iloc[s, 2*k] = clf.score(X_train, y_train) \n",
    "        Error.iloc[s, 2*k+1] = clf.score(X_test, y_test)\n",
    "      \n",
    "Error_mean = [0]*2*maxk\n",
    "Error_std = [0]*2*maxk\n",
    "for c in range(2*maxk):\n",
    "    Error_mean[c] = np.mean(Error.iloc[:num, c])\n",
    "    Error_std[c] = np.std(Error.iloc[:num, c])\n",
    "    \n",
    "Error = Error.append( pa.Series(Error_mean, index=Error.columns), ignore_index=True)\n",
    "Error = Error.append( pa.Series(Error_std, index=Error.columns), ignore_index=True)\n",
    "Error.index = list(range(num)) + ['Mean', 'Standard Deviation']\n",
    "Error.tail()"
   ]
  },
  {
   "cell_type": "code",
   "execution_count": 168,
   "metadata": {},
   "outputs": [],
   "source": [
    "from sklearn.discriminant_analysis import QuadraticDiscriminantAnalysis"
   ]
  },
  {
   "cell_type": "code",
   "execution_count": 169,
   "metadata": {},
   "outputs": [
    {
     "name": "stdout",
     "output_type": "stream",
     "text": [
      "Training Error: 0.7545717035611165\n",
      "Testing Error: 0.7568756875687569\n"
     ]
    }
   ],
   "source": [
    "clf2 = QuadraticDiscriminantAnalysis()\n",
    "clf2.fit(X_train, y_train)\n",
    "print('Training Error: {}'.format(clf.score(X_train, y_train)))\n",
    "print('Testing Error: {}'.format(clf.score(X_test, y_test)))"
   ]
  },
  {
   "cell_type": "code",
   "execution_count": 170,
   "metadata": {},
   "outputs": [],
   "source": [
    "num = 60 \n",
    "Xboot = [0]*num\n",
    "yboot = [0]*num"
   ]
  },
  {
   "cell_type": "code",
   "execution_count": 171,
   "metadata": {},
   "outputs": [],
   "source": [
    "n = X.shape[0]\n",
    "for s in range(num):\n",
    "    sample = np.random.randint(0, n, n)  \n",
    "    Xboot[s] = X[sample, :]\n",
    "    yboot[s] = y[sample]"
   ]
  },
  {
   "cell_type": "code",
   "execution_count": 172,
   "metadata": {},
   "outputs": [
    {
     "data": {
      "text/html": [
       "<div>\n",
       "<style scoped>\n",
       "    .dataframe tbody tr th:only-of-type {\n",
       "        vertical-align: middle;\n",
       "    }\n",
       "\n",
       "    .dataframe tbody tr th {\n",
       "        vertical-align: top;\n",
       "    }\n",
       "\n",
       "    .dataframe thead th {\n",
       "        text-align: right;\n",
       "    }\n",
       "</style>\n",
       "<table border=\"1\" class=\"dataframe\">\n",
       "  <thead>\n",
       "    <tr style=\"text-align: right;\">\n",
       "      <th></th>\n",
       "      <th>train_1</th>\n",
       "      <th>test_1</th>\n",
       "      <th>train_2</th>\n",
       "      <th>test_2</th>\n",
       "      <th>train_3</th>\n",
       "      <th>test_3</th>\n",
       "      <th>train_4</th>\n",
       "      <th>test_4</th>\n",
       "      <th>train_5</th>\n",
       "      <th>test_5</th>\n",
       "      <th>...</th>\n",
       "      <th>train_16</th>\n",
       "      <th>test_16</th>\n",
       "      <th>train_17</th>\n",
       "      <th>test_17</th>\n",
       "      <th>train_18</th>\n",
       "      <th>test_18</th>\n",
       "      <th>train_19</th>\n",
       "      <th>test_19</th>\n",
       "      <th>train_20</th>\n",
       "      <th>test_20</th>\n",
       "    </tr>\n",
       "  </thead>\n",
       "  <tbody>\n",
       "    <tr>\n",
       "      <td>57</td>\n",
       "      <td>0.753197</td>\n",
       "      <td>0.769802</td>\n",
       "      <td>0.753197</td>\n",
       "      <td>0.769802</td>\n",
       "      <td>0.753197</td>\n",
       "      <td>0.769802</td>\n",
       "      <td>0.753197</td>\n",
       "      <td>0.769802</td>\n",
       "      <td>0.753197</td>\n",
       "      <td>0.769802</td>\n",
       "      <td>...</td>\n",
       "      <td>0.753197</td>\n",
       "      <td>0.769802</td>\n",
       "      <td>0.753197</td>\n",
       "      <td>0.769802</td>\n",
       "      <td>0.753197</td>\n",
       "      <td>0.769802</td>\n",
       "      <td>0.753197</td>\n",
       "      <td>0.769802</td>\n",
       "      <td>0.753197</td>\n",
       "      <td>0.769802</td>\n",
       "    </tr>\n",
       "    <tr>\n",
       "      <td>58</td>\n",
       "      <td>0.758078</td>\n",
       "      <td>0.750000</td>\n",
       "      <td>0.758078</td>\n",
       "      <td>0.750000</td>\n",
       "      <td>0.758078</td>\n",
       "      <td>0.750000</td>\n",
       "      <td>0.758078</td>\n",
       "      <td>0.750000</td>\n",
       "      <td>0.758078</td>\n",
       "      <td>0.750000</td>\n",
       "      <td>...</td>\n",
       "      <td>0.758078</td>\n",
       "      <td>0.750000</td>\n",
       "      <td>0.758078</td>\n",
       "      <td>0.750000</td>\n",
       "      <td>0.758078</td>\n",
       "      <td>0.750000</td>\n",
       "      <td>0.758078</td>\n",
       "      <td>0.750000</td>\n",
       "      <td>0.758078</td>\n",
       "      <td>0.750000</td>\n",
       "    </tr>\n",
       "    <tr>\n",
       "      <td>59</td>\n",
       "      <td>0.756290</td>\n",
       "      <td>0.747800</td>\n",
       "      <td>0.756290</td>\n",
       "      <td>0.747800</td>\n",
       "      <td>0.756290</td>\n",
       "      <td>0.747800</td>\n",
       "      <td>0.756290</td>\n",
       "      <td>0.747800</td>\n",
       "      <td>0.756290</td>\n",
       "      <td>0.747800</td>\n",
       "      <td>...</td>\n",
       "      <td>0.756290</td>\n",
       "      <td>0.747800</td>\n",
       "      <td>0.756290</td>\n",
       "      <td>0.747800</td>\n",
       "      <td>0.756290</td>\n",
       "      <td>0.747800</td>\n",
       "      <td>0.756290</td>\n",
       "      <td>0.747800</td>\n",
       "      <td>0.756290</td>\n",
       "      <td>0.747800</td>\n",
       "    </tr>\n",
       "    <tr>\n",
       "      <td>Mean</td>\n",
       "      <td>0.757338</td>\n",
       "      <td>0.756876</td>\n",
       "      <td>0.757338</td>\n",
       "      <td>0.756876</td>\n",
       "      <td>0.757338</td>\n",
       "      <td>0.756876</td>\n",
       "      <td>0.757338</td>\n",
       "      <td>0.756876</td>\n",
       "      <td>0.757338</td>\n",
       "      <td>0.756876</td>\n",
       "      <td>...</td>\n",
       "      <td>0.757338</td>\n",
       "      <td>0.756876</td>\n",
       "      <td>0.757338</td>\n",
       "      <td>0.756876</td>\n",
       "      <td>0.757338</td>\n",
       "      <td>0.756876</td>\n",
       "      <td>0.757338</td>\n",
       "      <td>0.756876</td>\n",
       "      <td>0.757338</td>\n",
       "      <td>0.756876</td>\n",
       "    </tr>\n",
       "    <tr>\n",
       "      <td>Standard Deviation</td>\n",
       "      <td>0.003653</td>\n",
       "      <td>0.006761</td>\n",
       "      <td>0.003653</td>\n",
       "      <td>0.006761</td>\n",
       "      <td>0.003653</td>\n",
       "      <td>0.006761</td>\n",
       "      <td>0.003653</td>\n",
       "      <td>0.006761</td>\n",
       "      <td>0.003653</td>\n",
       "      <td>0.006761</td>\n",
       "      <td>...</td>\n",
       "      <td>0.003653</td>\n",
       "      <td>0.006761</td>\n",
       "      <td>0.003653</td>\n",
       "      <td>0.006761</td>\n",
       "      <td>0.003653</td>\n",
       "      <td>0.006761</td>\n",
       "      <td>0.003653</td>\n",
       "      <td>0.006761</td>\n",
       "      <td>0.003653</td>\n",
       "      <td>0.006761</td>\n",
       "    </tr>\n",
       "  </tbody>\n",
       "</table>\n",
       "<p>5 rows × 40 columns</p>\n",
       "</div>"
      ],
      "text/plain": [
       "                     train_1    test_1   train_2    test_2   train_3  \\\n",
       "57                  0.753197  0.769802  0.753197  0.769802  0.753197   \n",
       "58                  0.758078  0.750000  0.758078  0.750000  0.758078   \n",
       "59                  0.756290  0.747800  0.756290  0.747800  0.756290   \n",
       "Mean                0.757338  0.756876  0.757338  0.756876  0.757338   \n",
       "Standard Deviation  0.003653  0.006761  0.003653  0.006761  0.003653   \n",
       "\n",
       "                      test_3   train_4    test_4   train_5    test_5  ...  \\\n",
       "57                  0.769802  0.753197  0.769802  0.753197  0.769802  ...   \n",
       "58                  0.750000  0.758078  0.750000  0.758078  0.750000  ...   \n",
       "59                  0.747800  0.756290  0.747800  0.756290  0.747800  ...   \n",
       "Mean                0.756876  0.757338  0.756876  0.757338  0.756876  ...   \n",
       "Standard Deviation  0.006761  0.003653  0.006761  0.003653  0.006761  ...   \n",
       "\n",
       "                    train_16   test_16  train_17   test_17  train_18  \\\n",
       "57                  0.753197  0.769802  0.753197  0.769802  0.753197   \n",
       "58                  0.758078  0.750000  0.758078  0.750000  0.758078   \n",
       "59                  0.756290  0.747800  0.756290  0.747800  0.756290   \n",
       "Mean                0.757338  0.756876  0.757338  0.756876  0.757338   \n",
       "Standard Deviation  0.003653  0.006761  0.003653  0.006761  0.003653   \n",
       "\n",
       "                     test_18  train_19   test_19  train_20   test_20  \n",
       "57                  0.769802  0.753197  0.769802  0.753197  0.769802  \n",
       "58                  0.750000  0.758078  0.750000  0.758078  0.750000  \n",
       "59                  0.747800  0.756290  0.747800  0.756290  0.747800  \n",
       "Mean                0.756876  0.757338  0.756876  0.757338  0.756876  \n",
       "Standard Deviation  0.006761  0.003653  0.006761  0.003653  0.006761  \n",
       "\n",
       "[5 rows x 40 columns]"
      ]
     },
     "execution_count": 172,
     "metadata": {},
     "output_type": "execute_result"
    }
   ],
   "source": [
    "Error = pa.DataFrame(  np.array([0]*num*2*maxk).reshape(num, 2*maxk), columns = labels)\n",
    "\n",
    "for s in range(num):\n",
    "    X_test = Xboot[s][:test]\n",
    "    y_test = yboot[s][:test]\n",
    "    X_train = Xboot[s][test:]\n",
    "    y_train = yboot[s][test:]\n",
    "    \n",
    "    for k in range(maxk):\n",
    "        clf = QuadraticDiscriminantAnalysis()\n",
    "        clf.fit(X_train, y_train)\n",
    "        Error.iloc[s, 2*k] = clf.score(X_train, y_train) \n",
    "        Error.iloc[s, 2*k+1] = clf.score(X_test, y_test)\n",
    "      \n",
    "Error_mean = [0]*2*maxk\n",
    "Error_std = [0]*2*maxk\n",
    "for c in range(2*maxk):\n",
    "    Error_mean[c] = np.mean(Error.iloc[:num, c])\n",
    "    Error_std[c] = np.std(Error.iloc[:num, c])\n",
    "    \n",
    "Error = Error.append( pa.Series(Error_mean, index=Error.columns), ignore_index=True)\n",
    "Error = Error.append( pa.Series(Error_std, index=Error.columns), ignore_index=True)\n",
    "Error.index = list(range(num)) + ['Mean', 'Standard Deviation']\n",
    "Error.tail()"
   ]
  },
  {
   "cell_type": "markdown",
   "metadata": {},
   "source": [
    "# Support Vector Machine Analysis\n",
    "\n",
    "Samantha Wells"
   ]
  },
  {
   "cell_type": "code",
   "execution_count": null,
   "metadata": {},
   "outputs": [],
   "source": []
  },
  {
   "cell_type": "code",
   "execution_count": 173,
   "metadata": {},
   "outputs": [],
   "source": [
    "pam_hot1 = pam_hot1.dropna(subset=['arrestee_s_age' , 'ucr_code'])\n",
    "X = np.array(pam_hot1[['arrestee_s_race_nan', 'arrestee_s_race_B' , 'arrestee_s_race_I' , 'arrestee_s_race_O' ,\n",
    "                       'arrestee_s_race_U' , 'arrestee_s_race_H' , 'arrestee_s_race_A' , 'arrestee_s_race_W']])\n",
    "y = np.array(pam_hot1['ucr_code'] )"
   ]
  },
  {
   "cell_type": "code",
   "execution_count": 174,
   "metadata": {},
   "outputs": [
    {
     "data": {
      "image/png": "[encoded data removed]",
      "text/plain": [
       "<Figure size 720x576 with 1 Axes>"
      ]
     },
     "metadata": {},
     "output_type": "display_data"
    }
   ],
   "source": [
    "plt.figure(figsize=(10, 8))\n",
    "plt.plot(X[y==0, 0], X[y==0, 1], 'r.')\n",
    "plt.plot(X[y==1, 0], X[y==1, 1], 'g.')\n",
    "plt.plot(X[y==2, 0], X[y==2, 1], 'b.');\n",
    "plt.savefig('13.15.png')"
   ]
  },
  {
   "cell_type": "code",
   "execution_count": 175,
   "metadata": {},
   "outputs": [],
   "source": [
    "# A bit of code for plotting the decision boundaries in a categorical problem with two predictors and two values for the result\n",
    "# Also prints out the training and testing errors\n",
    "import numpy.random as rn\n",
    "def plot_cat_model_3(clf, X_train, y_train, X_test, y_test):\n",
    "\n",
    "    h = 0.1 # Mesh size  \n",
    "    # Plot the decision boundary. For that, we will assign a color to each\n",
    "    # point in the mesh [x_min, m_max]x[y_min, y_max].\n",
    "    x_min, x_max = X_train[:, 0].min() - 1, X_train[:, 0].max() + 1\n",
    "    y_min, y_max = X_train[:, 1].min() - 2, X_train[:, 1].max() + 2\n",
    "    xx, yy = np.meshgrid(np.arange(x_min, x_max, h),\n",
    "        np.arange(y_min, y_max, h))\n",
    "    Z = clf.predict(np.c_[xx.ravel(), yy.ravel()])\n",
    "\n",
    "    # Put the result into a color plot\n",
    "    Z = Z.reshape(xx.shape)\n",
    "\n",
    "    plt.figure(figsize=(8, 6))\n",
    "    cmap_light = pltco.ListedColormap(['#FFAAAA', '#AAFFAA', '#AAAAFF'])\n",
    "    cmap_bold = pltco.ListedColormap(['#FF0000', '#00FF00', '#0000FF'])\n",
    "    plt.pcolormesh(xx, yy, Z, cmap=cmap_light);\n",
    "\n",
    "    plt.scatter(X_train[:, 0], X_train[:, 1], c=y_train, cmap=cmap_bold,marker='o')\n",
    "    plt.scatter(X_test[:, 0], X_test[:, 1], c=y_test, cmap=cmap_bold, marker='+');\n",
    "    \n",
    "    print('Training Error: {}'.format(clf.score(X_train, y_train)))\n",
    "    print('Testing Error: {}'.format(clf.score(X_test, y_test)))\n",
    "    \n",
    "# Updating the plotting function for three categories"
   ]
  },
  {
   "cell_type": "code",
   "execution_count": 176,
   "metadata": {},
   "outputs": [],
   "source": [
    "# We shuffle the data using a random permutation\n",
    "\n",
    "n = X.shape[0]\n",
    "test = int(0.20*n)            # We will use a test set made up of 20% of the data from our sample\n",
    "perm = rn.permutation(n)   \n",
    "X = X[perm]\n",
    "y = y[perm]\n",
    "X_test = X[:test]       # Then create the test\n",
    "y_test = y[:test]\n",
    "X_train = X[test:]     # and train sets\n",
    "y_train = y[test:]"
   ]
  },
  {
   "cell_type": "code",
   "execution_count": 177,
   "metadata": {},
   "outputs": [],
   "source": [
    "from sklearn.svm import SVC"
   ]
  },
  {
   "cell_type": "code",
   "execution_count": 178,
   "metadata": {},
   "outputs": [
    {
     "name": "stdout",
     "output_type": "stream",
     "text": [
      "Training Error: 0.7582153169256153\n",
      "Testing Error: 0.7491749174917491\n"
     ]
    }
   ],
   "source": [
    "sv = SVC(C=1, gamma='scale', kernel='linear')\n",
    "sv.fit(X_train, y_train)\n",
    "print('Training Error: {}'.format(sv.score(X_train, y_train)))\n",
    "print('Testing Error: {}'.format(sv.score(X_test, y_test)))"
   ]
  },
  {
   "cell_type": "code",
   "execution_count": 179,
   "metadata": {},
   "outputs": [],
   "source": [
    "X = np.array(pam_3[['arrestee_s_race','arrestee_s_age']])\n",
    "y = np.array(pam_3['ucr_code'] )"
   ]
  },
  {
   "cell_type": "code",
   "execution_count": 180,
   "metadata": {},
   "outputs": [
    {
     "data": {
      "image/png": "[encoded data removed]",
      "text/plain": [
       "<Figure size 720x576 with 1 Axes>"
      ]
     },
     "metadata": {},
     "output_type": "display_data"
    }
   ],
   "source": [
    "plt.figure(figsize=(10, 8))\n",
    "plt.plot(X[y==0, 0], X[y==0, 1], 'r.')\n",
    "plt.plot(X[y==1, 0], X[y==1, 1], 'g.')\n",
    "plt.plot(X[y==2, 0], X[y==2, 1], 'b.');\n",
    "plt.savefig('13.15.png')"
   ]
  },
  {
   "cell_type": "code",
   "execution_count": 181,
   "metadata": {},
   "outputs": [],
   "source": [
    "# A bit of code for plotting the decision boundaries in a categorical problem with two predictors and two values for the result\n",
    "# Also prints out the training and testing errors\n",
    "import numpy.random as rn\n",
    "def plot_cat_model_3(clf, X_train, y_train, X_test, y_test):\n",
    "\n",
    "    h = 0.1 # Mesh size  \n",
    "    # Plot the decision boundary. For that, we will assign a color to each\n",
    "    # point in the mesh [x_min, m_max]x[y_min, y_max].\n",
    "    x_min, x_max = X_train[:, 0].min() - 1, X_train[:, 0].max() + 1\n",
    "    y_min, y_max = X_train[:, 1].min() - 2, X_train[:, 1].max() + 2\n",
    "    xx, yy = np.meshgrid(np.arange(x_min, x_max, h),\n",
    "        np.arange(y_min, y_max, h))\n",
    "    Z = clf.predict(np.c_[xx.ravel(), yy.ravel()])\n",
    "\n",
    "    # Put the result into a color plot\n",
    "    Z = Z.reshape(xx.shape)\n",
    "\n",
    "    plt.figure(figsize=(8, 6))\n",
    "    cmap_light = pltco.ListedColormap(['#FFAAAA', '#AAFFAA', '#AAAAFF'])\n",
    "    cmap_bold = pltco.ListedColormap(['#FF0000', '#00FF00', '#0000FF'])\n",
    "    plt.pcolormesh(xx, yy, Z, cmap=cmap_light);\n",
    "\n",
    "    plt.scatter(X_train[:, 0], X_train[:, 1], c=y_train, cmap=cmap_bold,marker='o')\n",
    "    plt.scatter(X_test[:, 0], X_test[:, 1], c=y_test, cmap=cmap_bold, marker='+');\n",
    "    \n",
    "    print('Training Error: {}'.format(clf.score(X_train, y_train)))\n",
    "    print('Testing Error: {}'.format(clf.score(X_test, y_test)))\n",
    "    \n",
    "# Updating the plotting function for three categories"
   ]
  },
  {
   "cell_type": "code",
   "execution_count": 185,
   "metadata": {},
   "outputs": [],
   "source": [
    "# We shuffle the data using a random permutation\n",
    "\n",
    "n = X.shape[0]\n",
    "test = int(0.20*n)            # We will use a test set made up of 20% of the data from our sample\n",
    "perm = rn.permutation(n)   \n",
    "X = X[perm]\n",
    "y = y[perm]\n",
    "X_test = X[:test]       # Then create the test\n",
    "y_test = y[:test]\n",
    "X_train = X[test:]     # and train sets\n",
    "y_train = y[test:]"
   ]
  },
  {
   "cell_type": "code",
   "execution_count": 186,
   "metadata": {},
   "outputs": [],
   "source": [
    "from sklearn.svm import SVC"
   ]
  },
  {
   "cell_type": "code",
   "execution_count": 187,
   "metadata": {},
   "outputs": [
    {
     "ename": "ValueError",
     "evalue": "could not convert string to float: 'B'",
     "output_type": "error",
     "traceback": [
      "\u001b[1;31m---------------------------------------------------------------------------\u001b[0m",
      "\u001b[1;31mValueError\u001b[0m                                Traceback (most recent call last)",
      "\u001b[1;32m<ipython-input-187-ca5c6e65cb98>\u001b[0m in \u001b[0;36m<module>\u001b[1;34m\u001b[0m\n\u001b[0;32m      1\u001b[0m \u001b[0msv\u001b[0m \u001b[1;33m=\u001b[0m \u001b[0mSVC\u001b[0m\u001b[1;33m(\u001b[0m\u001b[0mC\u001b[0m\u001b[1;33m=\u001b[0m\u001b[1;36m1\u001b[0m\u001b[1;33m,\u001b[0m \u001b[0mgamma\u001b[0m\u001b[1;33m=\u001b[0m\u001b[1;34m'scale'\u001b[0m\u001b[1;33m,\u001b[0m \u001b[0mkernel\u001b[0m\u001b[1;33m=\u001b[0m\u001b[1;34m'linear'\u001b[0m\u001b[1;33m)\u001b[0m\u001b[1;33m\u001b[0m\u001b[1;33m\u001b[0m\u001b[0m\n\u001b[1;32m----> 2\u001b[1;33m \u001b[0msv\u001b[0m\u001b[1;33m.\u001b[0m\u001b[0mfit\u001b[0m\u001b[1;33m(\u001b[0m\u001b[0mX_train\u001b[0m\u001b[1;33m,\u001b[0m \u001b[0my_train\u001b[0m\u001b[1;33m)\u001b[0m\u001b[1;33m\u001b[0m\u001b[1;33m\u001b[0m\u001b[0m\n\u001b[0m\u001b[0;32m      3\u001b[0m \u001b[0mprint\u001b[0m\u001b[1;33m(\u001b[0m\u001b[1;34m'Training Error: {}'\u001b[0m\u001b[1;33m.\u001b[0m\u001b[0mformat\u001b[0m\u001b[1;33m(\u001b[0m\u001b[0msv\u001b[0m\u001b[1;33m.\u001b[0m\u001b[0mscore\u001b[0m\u001b[1;33m(\u001b[0m\u001b[0mX_train\u001b[0m\u001b[1;33m,\u001b[0m \u001b[0my_train\u001b[0m\u001b[1;33m)\u001b[0m\u001b[1;33m)\u001b[0m\u001b[1;33m)\u001b[0m\u001b[1;33m\u001b[0m\u001b[1;33m\u001b[0m\u001b[0m\n\u001b[0;32m      4\u001b[0m \u001b[0mprint\u001b[0m\u001b[1;33m(\u001b[0m\u001b[1;34m'Testing Error: {}'\u001b[0m\u001b[1;33m.\u001b[0m\u001b[0mformat\u001b[0m\u001b[1;33m(\u001b[0m\u001b[0msv\u001b[0m\u001b[1;33m.\u001b[0m\u001b[0mscore\u001b[0m\u001b[1;33m(\u001b[0m\u001b[0mX_test\u001b[0m\u001b[1;33m,\u001b[0m \u001b[0my_test\u001b[0m\u001b[1;33m)\u001b[0m\u001b[1;33m)\u001b[0m\u001b[1;33m)\u001b[0m\u001b[1;33m\u001b[0m\u001b[1;33m\u001b[0m\u001b[0m\n",
      "\u001b[1;32m~\\Anaconda3\\lib\\site-packages\\sklearn\\svm\\base.py\u001b[0m in \u001b[0;36mfit\u001b[1;34m(self, X, y, sample_weight)\u001b[0m\n\u001b[0;32m    144\u001b[0m         X, y = check_X_y(X, y, dtype=np.float64,\n\u001b[0;32m    145\u001b[0m                          \u001b[0morder\u001b[0m\u001b[1;33m=\u001b[0m\u001b[1;34m'C'\u001b[0m\u001b[1;33m,\u001b[0m \u001b[0maccept_sparse\u001b[0m\u001b[1;33m=\u001b[0m\u001b[1;34m'csr'\u001b[0m\u001b[1;33m,\u001b[0m\u001b[1;33m\u001b[0m\u001b[1;33m\u001b[0m\u001b[0m\n\u001b[1;32m--> 146\u001b[1;33m                          accept_large_sparse=False)\n\u001b[0m\u001b[0;32m    147\u001b[0m         \u001b[0my\u001b[0m \u001b[1;33m=\u001b[0m \u001b[0mself\u001b[0m\u001b[1;33m.\u001b[0m\u001b[0m_validate_targets\u001b[0m\u001b[1;33m(\u001b[0m\u001b[0my\u001b[0m\u001b[1;33m)\u001b[0m\u001b[1;33m\u001b[0m\u001b[1;33m\u001b[0m\u001b[0m\n\u001b[0;32m    148\u001b[0m \u001b[1;33m\u001b[0m\u001b[0m\n",
      "\u001b[1;32m~\\Anaconda3\\lib\\site-packages\\sklearn\\utils\\validation.py\u001b[0m in \u001b[0;36mcheck_X_y\u001b[1;34m(X, y, accept_sparse, accept_large_sparse, dtype, order, copy, force_all_finite, ensure_2d, allow_nd, multi_output, ensure_min_samples, ensure_min_features, y_numeric, warn_on_dtype, estimator)\u001b[0m\n\u001b[0;32m    717\u001b[0m                     \u001b[0mensure_min_features\u001b[0m\u001b[1;33m=\u001b[0m\u001b[0mensure_min_features\u001b[0m\u001b[1;33m,\u001b[0m\u001b[1;33m\u001b[0m\u001b[1;33m\u001b[0m\u001b[0m\n\u001b[0;32m    718\u001b[0m                     \u001b[0mwarn_on_dtype\u001b[0m\u001b[1;33m=\u001b[0m\u001b[0mwarn_on_dtype\u001b[0m\u001b[1;33m,\u001b[0m\u001b[1;33m\u001b[0m\u001b[1;33m\u001b[0m\u001b[0m\n\u001b[1;32m--> 719\u001b[1;33m                     estimator=estimator)\n\u001b[0m\u001b[0;32m    720\u001b[0m     \u001b[1;32mif\u001b[0m \u001b[0mmulti_output\u001b[0m\u001b[1;33m:\u001b[0m\u001b[1;33m\u001b[0m\u001b[1;33m\u001b[0m\u001b[0m\n\u001b[0;32m    721\u001b[0m         y = check_array(y, 'csr', force_all_finite=True, ensure_2d=False,\n",
      "\u001b[1;32m~\\Anaconda3\\lib\\site-packages\\sklearn\\utils\\validation.py\u001b[0m in \u001b[0;36mcheck_array\u001b[1;34m(array, accept_sparse, accept_large_sparse, dtype, order, copy, force_all_finite, ensure_2d, allow_nd, ensure_min_samples, ensure_min_features, warn_on_dtype, estimator)\u001b[0m\n\u001b[0;32m    494\u001b[0m             \u001b[1;32mtry\u001b[0m\u001b[1;33m:\u001b[0m\u001b[1;33m\u001b[0m\u001b[1;33m\u001b[0m\u001b[0m\n\u001b[0;32m    495\u001b[0m                 \u001b[0mwarnings\u001b[0m\u001b[1;33m.\u001b[0m\u001b[0msimplefilter\u001b[0m\u001b[1;33m(\u001b[0m\u001b[1;34m'error'\u001b[0m\u001b[1;33m,\u001b[0m \u001b[0mComplexWarning\u001b[0m\u001b[1;33m)\u001b[0m\u001b[1;33m\u001b[0m\u001b[1;33m\u001b[0m\u001b[0m\n\u001b[1;32m--> 496\u001b[1;33m                 \u001b[0marray\u001b[0m \u001b[1;33m=\u001b[0m \u001b[0mnp\u001b[0m\u001b[1;33m.\u001b[0m\u001b[0masarray\u001b[0m\u001b[1;33m(\u001b[0m\u001b[0marray\u001b[0m\u001b[1;33m,\u001b[0m \u001b[0mdtype\u001b[0m\u001b[1;33m=\u001b[0m\u001b[0mdtype\u001b[0m\u001b[1;33m,\u001b[0m \u001b[0morder\u001b[0m\u001b[1;33m=\u001b[0m\u001b[0morder\u001b[0m\u001b[1;33m)\u001b[0m\u001b[1;33m\u001b[0m\u001b[1;33m\u001b[0m\u001b[0m\n\u001b[0m\u001b[0;32m    497\u001b[0m             \u001b[1;32mexcept\u001b[0m \u001b[0mComplexWarning\u001b[0m\u001b[1;33m:\u001b[0m\u001b[1;33m\u001b[0m\u001b[1;33m\u001b[0m\u001b[0m\n\u001b[0;32m    498\u001b[0m                 raise ValueError(\"Complex data not supported\\n\"\n",
      "\u001b[1;32m~\\Anaconda3\\lib\\site-packages\\numpy\\core\\numeric.py\u001b[0m in \u001b[0;36masarray\u001b[1;34m(a, dtype, order)\u001b[0m\n\u001b[0;32m    536\u001b[0m \u001b[1;33m\u001b[0m\u001b[0m\n\u001b[0;32m    537\u001b[0m     \"\"\"\n\u001b[1;32m--> 538\u001b[1;33m     \u001b[1;32mreturn\u001b[0m \u001b[0marray\u001b[0m\u001b[1;33m(\u001b[0m\u001b[0ma\u001b[0m\u001b[1;33m,\u001b[0m \u001b[0mdtype\u001b[0m\u001b[1;33m,\u001b[0m \u001b[0mcopy\u001b[0m\u001b[1;33m=\u001b[0m\u001b[1;32mFalse\u001b[0m\u001b[1;33m,\u001b[0m \u001b[0morder\u001b[0m\u001b[1;33m=\u001b[0m\u001b[0morder\u001b[0m\u001b[1;33m)\u001b[0m\u001b[1;33m\u001b[0m\u001b[1;33m\u001b[0m\u001b[0m\n\u001b[0m\u001b[0;32m    539\u001b[0m \u001b[1;33m\u001b[0m\u001b[0m\n\u001b[0;32m    540\u001b[0m \u001b[1;33m\u001b[0m\u001b[0m\n",
      "\u001b[1;31mValueError\u001b[0m: could not convert string to float: 'B'"
     ]
    }
   ],
   "source": [
    "sv = SVC(C=1, gamma='scale', kernel='linear')\n",
    "sv.fit(X_train, y_train)\n",
    "print('Training Error: {}'.format(sv.score(X_train, y_train)))\n",
    "print('Testing Error: {}'.format(sv.score(X_test, y_test)))"
   ]
  },
  {
   "cell_type": "code",
   "execution_count": 188,
   "metadata": {},
   "outputs": [],
   "source": [
    "X = np.array(pam_3[['arrestee_s_age']])\n",
    "y = np.array(pam_3['ucr_code'] )"
   ]
  },
  {
   "cell_type": "code",
   "execution_count": 189,
   "metadata": {},
   "outputs": [
    {
     "data": {
      "image/png": "[encoded data removed]",
      "text/plain": [
       "<Figure size 720x576 with 1 Axes>"
      ]
     },
     "metadata": {},
     "output_type": "display_data"
    }
   ],
   "source": [
    "plt.figure(figsize=(10, 8))\n",
    "plt.plot(X[y==0, 0], 'r.')\n",
    "plt.plot(X[y==1, 0], 'g.')\n",
    "plt.plot(X[y==2, 0], 'b.');\n",
    "plt.savefig('13.15.png')"
   ]
  },
  {
   "cell_type": "code",
   "execution_count": 190,
   "metadata": {},
   "outputs": [],
   "source": [
    "# A bit of code for plotting the decision boundaries in a categorical problem with two predictors and two values for the result\n",
    "# Also prints out the training and testing errors\n",
    "import numpy.random as rn\n",
    "def plot_cat_model_3(clf, X_train, y_train, X_test, y_test):\n",
    "\n",
    "    h = 0.1 # Mesh size  \n",
    "    # Plot the decision boundary. For that, we will assign a color to each\n",
    "    # point in the mesh [x_min, m_max]x[y_min, y_max].\n",
    "    x_min, x_max = X_train[:, 0].min() - 1, X_train[:, 0].max() + 1\n",
    "    y_min, y_max = X_train[:, 1].min() - 2, X_train[:, 1].max() + 2\n",
    "    xx, yy = np.meshgrid(np.arange(x_min, x_max, h),\n",
    "        np.arange(y_min, y_max, h))\n",
    "    Z = clf.predict(np.c_[xx.ravel(), yy.ravel()])\n",
    "\n",
    "    # Put the result into a color plot\n",
    "    Z = Z.reshape(xx.shape)\n",
    "\n",
    "    plt.figure(figsize=(8, 6))\n",
    "    cmap_light = pltco.ListedColormap(['#FFAAAA', '#AAFFAA', '#AAAAFF'])\n",
    "    cmap_bold = pltco.ListedColormap(['#FF0000', '#00FF00', '#0000FF'])\n",
    "    plt.pcolormesh(xx, yy, Z, cmap=cmap_light);\n",
    "\n",
    "    plt.scatter(X_train[:, 0], X_train[:, 1], c=y_train, cmap=cmap_bold,marker='o')\n",
    "    plt.scatter(X_test[:, 0], X_test[:, 1], c=y_test, cmap=cmap_bold, marker='+');\n",
    "    \n",
    "    print('Training Error: {}'.format(clf.score(X_train, y_train)))\n",
    "    print('Testing Error: {}'.format(clf.score(X_test, y_test)))\n",
    "    \n",
    "# Updating the plotting function for three categories"
   ]
  },
  {
   "cell_type": "code",
   "execution_count": 191,
   "metadata": {},
   "outputs": [],
   "source": [
    "# We shuffle the data using a random permutation\n",
    "\n",
    "n = X.shape[0]\n",
    "test = int(0.20*n)            # We will use a test set made up of 20% of the data from our sample\n",
    "perm = rn.permutation(n)   \n",
    "X = X[perm]\n",
    "y = y[perm]\n",
    "X_test = X[:test]       # Then create the test\n",
    "y_test = y[:test]\n",
    "X_train = X[test:]     # and train sets\n",
    "y_train = y[test:]"
   ]
  },
  {
   "cell_type": "code",
   "execution_count": 192,
   "metadata": {},
   "outputs": [],
   "source": [
    "from sklearn.svm import SVC"
   ]
  },
  {
   "cell_type": "code",
   "execution_count": 193,
   "metadata": {},
   "outputs": [
    {
     "name": "stdout",
     "output_type": "stream",
     "text": [
      "Training Error: 0.7570466107520968\n",
      "Testing Error: 0.7538503850385039\n"
     ]
    }
   ],
   "source": [
    "sv = SVC(C=1, gamma='scale', kernel='linear')\n",
    "sv.fit(X_train, y_train)\n",
    "print('Training Error: {}'.format(sv.score(X_train, y_train)))\n",
    "print('Testing Error: {}'.format(sv.score(X_test, y_test)))"
   ]
  },
  {
   "cell_type": "markdown",
   "metadata": {},
   "source": [
    "## FUTURE WORK\n",
    "\n",
    "1. Further Massaging the data\n",
    "     - All members where needed\n",
    "     \n",
    "2. Mastery of Helpful Visualization of Data, Outputs, and whats going on.\n",
    "     - Connor\n",
    "\n",
    "3. Flipping the attribute of focus and further Boot Strapping\n",
    "     - Each member will take their same test and change the variable of focus"
   ]
  },
  {
   "cell_type": "code",
   "execution_count": null,
   "metadata": {},
   "outputs": [],
   "source": []
  }
 ],
 "metadata": {
  "kernelspec": {
   "display_name": "Python 3",
   "language": "python",
   "name": "python3"
  },
  "language_info": {
   "codemirror_mode": {
    "name": "ipython",
    "version": 3
   },
   "file_extension": ".py",
   "mimetype": "text/x-python",
   "name": "python",
   "nbconvert_exporter": "python",
   "pygments_lexer": "ipython3",
   "version": "3.7.4"
  }
 },
 "nbformat": 4,
 "nbformat_minor": 4
}
