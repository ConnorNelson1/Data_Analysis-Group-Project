{
 "cells": [
  {
   "cell_type": "markdown",
   "metadata": {},
   "source": [
    "CONNOR NELSON & FAITH CAMP & SANDRA KETA"
   ]
  },
  {
   "cell_type": "markdown",
   "metadata": {},
   "source": [
    "The dataset that our group is working with is the arrest data of Chapel Hill, North Carolina from the years 2010 to 2016. Features include the date and time the arrest was made, as well as the address of the arrest. The crime committed is given to us as a classification of a felony or a misdemeanor, a UCR code, and a short description of the crime. The arrestee is described with features of age, race, sex, and ethnicity. The dataset has 18,809 rows and 11 features (columns). \n",
    "\n",
    "Our goal of analyzing this data set is to figure out if we can determine the age and gender of an arrestee given a crime. Doing this would allow us to see trends in crime among certain age groups, for example: all underage drinking crimes are committed by people under the age of 21. However, our analysis would like to look at less obvious tendencies in arrest data relating to other crimes. We would also like to observe gender’s role in the arrest data, and see if there are any trends in certain crimes only being committed by one gender or the other (or if there are no discrepancies at all). With this analysis, we can get a better picture of what crimes are associated with what demographic in Chapel Hill during this time period by looking at one feature at a time. This is a question of classification. \n",
    "\n",
    "We will be approaching this analysis while taking into account current and supported crime trend data regarding gender and race when it comes to the commission of crime. While analyzing the data, we are aware of the biases that police tend to have while carrying out arrests and law enforcement, and therefore recognize that this bias, has the potential to overrepresent the African American or Minority race in this data frame. We are also aware of the researched and supported trends regarding gender. Men are more likely to commit crime than women; men are more likely to commit violent crime, while women are more likely to commit property crime life larceny and other forms of theft. Taking this into account, it is our goal to use gender as a potential control variable to limit its impact and influence on the results, by skewing the data one way or the other.\n",
    "\n",
    "Next, we will look at changing our question to be a better example of classification by looking at age, gender, and race and using those features to predict their crime. We will also try to fix our problems with linear regression, since it shows we have 0 axes.\n"
   ]
  },
  {
   "cell_type": "code",
   "execution_count": 2,
   "metadata": {},
   "outputs": [],
   "source": [
    "import numpy as np                   # Numerical computation library\n",
    "import pandas as pa                  # Dataframe and Data manipulation Library\n",
    "import matplotlib.pyplot as plt      # Basic plotting functionality Library\n",
    "import seaborn as sn     "
   ]
  },
  {
   "cell_type": "code",
   "execution_count": 3,
   "metadata": {},
   "outputs": [],
   "source": [
    "pam = pa.read_csv('police-arrests-made.csv', sep = ';')"
   ]
  },
  {
   "cell_type": "markdown",
   "metadata": {},
   "source": [
    "The pairplot below only shows two features. This is because only these two are numeric values, whereas the rest are objects. As a result, this is not a good way to compare these variables."
   ]
  },
  {
   "cell_type": "code",
   "execution_count": null,
   "metadata": {},
   "outputs": [],
   "source": [
    "sn.set(style = 'darkgrid')\n",
    "\n",
    "p = sn.pairplot(pam)   \n",
    "\n",
    "p.fig.set_size_inches(9, 9)  \n"
   ]
  },
  {
   "cell_type": "markdown",
   "metadata": {},
   "source": [
    "The histogram below shows the comparison between the black attribute for race and the six other race markers. The African American arrest numbers are JUST below that of the other six races combined. This speaks to the bias that police might have while conducting daily patrols. We are hoping to narrow down these biases and see if they are particular or correlated with specific crimes or crime groups."
   ]
  },
  {
   "cell_type": "code",
   "execution_count": null,
   "metadata": {},
   "outputs": [],
   "source": [
    "sn.set(style = 'darkgrid') \n",
    "plt.figure(figsize = (10, 8))\n",
    "\n",
    "sn.distplot(pam[pam.arrestee_s_race=='B'].arrestee_s_age, color='blue', \n",
    "            label='Minorities Arrests', kde=True, bins=14) \n",
    "sn.distplot(pam[pam.arrestee_s_race!='B'].arrestee_s_age, color='red', \n",
    "            label='Non_Minority Arrests', kde=True, bins=14)\n",
    "plt.legend();"
   ]
  },
  {
   "cell_type": "code",
   "execution_count": null,
   "metadata": {},
   "outputs": [],
   "source": [
    "sn.set(style = 'darkgrid') \n",
    "plt.figure(figsize = (10, 8))\n",
    "\n",
    "sn.distplot(pam[pam.arrestee_s_race=='B'].arrestee_s_age, color='blue', \n",
    "            label='African American Arrests', kde=True, bins=14) \n",
    "\n",
    "sn.distplot(pam[pam.arrestee_s_race!='B'].arrestee_s_age, color='red', \n",
    "            label='White & Hispanic Arrests', kde=True, bins=14)\n",
    "\n",
    "sn.distplot(pam[pam.arrestee_ethnicity!='H'].arrestee_s_age, color='green', \n",
    "            label='Hispanic Arrests', kde=True, bins=14)\n",
    "\n",
    "plt.legend();"
   ]
  },
  {
   "cell_type": "markdown",
   "metadata": {},
   "source": [
    "These are the attributes for race. A for Asian, B for Black (African American), H for Hispanic, I for Indian (Native American), O for Other, U for Unknown, W for White, and nan for missing data."
   ]
  },
  {
   "cell_type": "code",
   "execution_count": 7,
   "metadata": {},
   "outputs": [
    {
     "data": {
      "text/plain": [
       "{'A', 'B', 'H', 'I', 'O', 'U', 'W', nan}"
      ]
     },
     "execution_count": 7,
     "metadata": {},
     "output_type": "execute_result"
    }
   ],
   "source": [
    "set(pam.arrestee_s_race)"
   ]
  },
  {
   "cell_type": "code",
   "execution_count": 8,
   "metadata": {},
   "outputs": [
    {
     "data": {
      "text/plain": [
       "{'H', nan}"
      ]
     },
     "execution_count": 8,
     "metadata": {},
     "output_type": "execute_result"
    }
   ],
   "source": [
    "set(pam.arrestee_ethnicity)"
   ]
  },
  {
   "cell_type": "markdown",
   "metadata": {},
   "source": [
    "This below is the initial form of our deeper analysis. We are going to grab the counts for each of the races with respect to the three crimes we have chosen. The three crimes, as of our initial pool selections are; IMPAIRED DRIVING - DWI, SECOND DEGREE TRESPASS, and ASSAULT - SIMPLE. We will look at the spread of the total number of these crimes committed across these racial groups, this will give us further info on the policing habits of Chapel Hill North Carolina. This initial attempt did not work, and it is our belief that it did not work initially, due to the presence of the 'nan' term in the variables for race. We are looking to remove that , and recode it as 'U' unknown, and run the test again and see if it works this time. Further research and analysis is to follow."
   ]
  },
  {
   "cell_type": "code",
   "execution_count": 9,
   "metadata": {},
   "outputs": [
    {
     "data": {
      "text/html": [
       "<div>\n",
       "<style scoped>\n",
       "    .dataframe tbody tr th:only-of-type {\n",
       "        vertical-align: middle;\n",
       "    }\n",
       "\n",
       "    .dataframe tbody tr th {\n",
       "        vertical-align: top;\n",
       "    }\n",
       "\n",
       "    .dataframe thead th {\n",
       "        text-align: right;\n",
       "    }\n",
       "</style>\n",
       "<table border=\"1\" class=\"dataframe\">\n",
       "  <thead>\n",
       "    <tr style=\"text-align: right;\">\n",
       "      <th></th>\n",
       "      <th></th>\n",
       "      <th>COUNT</th>\n",
       "    </tr>\n",
       "    <tr>\n",
       "      <th>charge_description</th>\n",
       "      <th>arrestee_s_race</th>\n",
       "      <th></th>\n",
       "    </tr>\n",
       "  </thead>\n",
       "  <tbody>\n",
       "    <tr>\n",
       "      <td>(FTA) COMMUNICATE THREATS</td>\n",
       "      <td>W</td>\n",
       "      <td>1</td>\n",
       "    </tr>\n",
       "    <tr>\n",
       "      <td>(FTA) HIT/RUN LEAVE SCENE OF PROPERTY DAMAGE</td>\n",
       "      <td>B</td>\n",
       "      <td>1</td>\n",
       "    </tr>\n",
       "    <tr>\n",
       "      <td>(FTA) RECKLESS DRIVING</td>\n",
       "      <td>B</td>\n",
       "      <td>1</td>\n",
       "    </tr>\n",
       "    <tr>\n",
       "      <td>(FTA) SPEEDING</td>\n",
       "      <td>B</td>\n",
       "      <td>1</td>\n",
       "    </tr>\n",
       "    <tr>\n",
       "      <td>(OFA) PROBATION VIOLATION</td>\n",
       "      <td>W</td>\n",
       "      <td>1</td>\n",
       "    </tr>\n",
       "  </tbody>\n",
       "</table>\n",
       "</div>"
      ],
      "text/plain": [
       "                                                              COUNT\n",
       "charge_description                           arrestee_s_race       \n",
       "(FTA) COMMUNICATE THREATS                    W                    1\n",
       "(FTA) HIT/RUN LEAVE SCENE OF PROPERTY DAMAGE B                    1\n",
       "(FTA) RECKLESS DRIVING                       B                    1\n",
       "(FTA) SPEEDING                               B                    1\n",
       "(OFA) PROBATION VIOLATION                    W                    1"
      ]
     },
     "execution_count": 9,
     "metadata": {},
     "output_type": "execute_result"
    }
   ],
   "source": [
    "pamC = pa.read_csv('../police-arrests-made.csv', sep = ';')\n",
    "pamC = pamC.loc[:, ['charge_description', 'arrestee_s_race']]  # Keep only the columns we want here\n",
    "pamC.loc[:, 'COUNT'] = 1   # Add a variable for counting unique values\n",
    "pamC = pamC.groupby(['charge_description', 'arrestee_s_race']).sum()   \n",
    " # Sum the values after grouping by County, \n",
    "       # City, and Provider Type\n",
    "    \n",
    "pamC.head()\n",
    "\n",
    "#pamAn = pamC.reset_index().loc[:, ['charge_description', 'arrestee_s_race', 'COUNT']]  \n",
    "\n",
    "## Drop the city and go back to a full data frame.\n",
    "\n",
    "#pamAn = pamAn.groupby(['charge_description', 'arrestee_s_race']).sum()\n",
    "\n",
    "## Redo the gather but now ignoring City\n",
    "\n",
    "#pamAn = pamAn.reset_index()\n",
    "\n",
    "## Set it back to a full data frame.\n",
    "\n",
    "#pamAn = pamAn[pamAn['arrestee_s_race']=='Preschool Program']\n",
    "\n",
    "#plt.figure(figsize = (10, 15))\n",
    "#sn.set(style='darkgrid')\n",
    "#sn.barplot(x='arrestee_s_race', y='COUNT', data=pamAn)\n",
    "#plt.title('Crimes divided by Race Count');"
   ]
  },
  {
   "cell_type": "code",
   "execution_count": 10,
   "metadata": {},
   "outputs": [
    {
     "data": {
      "text/html": [
       "<div>\n",
       "<style scoped>\n",
       "    .dataframe tbody tr th:only-of-type {\n",
       "        vertical-align: middle;\n",
       "    }\n",
       "\n",
       "    .dataframe tbody tr th {\n",
       "        vertical-align: top;\n",
       "    }\n",
       "\n",
       "    .dataframe thead th {\n",
       "        text-align: right;\n",
       "    }\n",
       "</style>\n",
       "<table border=\"1\" class=\"dataframe\">\n",
       "  <thead>\n",
       "    <tr style=\"text-align: right;\">\n",
       "      <th></th>\n",
       "      <th></th>\n",
       "      <th>COUNT</th>\n",
       "    </tr>\n",
       "    <tr>\n",
       "      <th>charge_description</th>\n",
       "      <th>arrestee_s_race</th>\n",
       "      <th></th>\n",
       "    </tr>\n",
       "  </thead>\n",
       "  <tbody>\n",
       "    <tr>\n",
       "      <td>WORTHLESS CHECK</td>\n",
       "      <td>W</td>\n",
       "      <td>19</td>\n",
       "    </tr>\n",
       "    <tr>\n",
       "      <td>WORTHLESS CHECKS</td>\n",
       "      <td>B</td>\n",
       "      <td>1</td>\n",
       "    </tr>\n",
       "    <tr>\n",
       "      <td rowspan=\"2\" valign=\"top\">WRONG WAY - ONE WAY ST</td>\n",
       "      <td>B</td>\n",
       "      <td>1</td>\n",
       "    </tr>\n",
       "    <tr>\n",
       "      <td>W</td>\n",
       "      <td>1</td>\n",
       "    </tr>\n",
       "    <tr>\n",
       "      <td>WRONG WAY ON DUAL LANE HIGHWAY</td>\n",
       "      <td>W</td>\n",
       "      <td>2</td>\n",
       "    </tr>\n",
       "  </tbody>\n",
       "</table>\n",
       "</div>"
      ],
      "text/plain": [
       "                                                COUNT\n",
       "charge_description             arrestee_s_race       \n",
       "WORTHLESS CHECK                W                   19\n",
       "WORTHLESS CHECKS               B                    1\n",
       "WRONG WAY - ONE WAY ST         B                    1\n",
       "                               W                    1\n",
       "WRONG WAY ON DUAL LANE HIGHWAY W                    2"
      ]
     },
     "execution_count": 10,
     "metadata": {},
     "output_type": "execute_result"
    }
   ],
   "source": [
    "pamC.tail()"
   ]
  },
  {
   "cell_type": "code",
   "execution_count": 11,
   "metadata": {},
   "outputs": [
    {
     "data": {
      "text/plain": [
       "(1834, 1)"
      ]
     },
     "execution_count": 11,
     "metadata": {},
     "output_type": "execute_result"
    }
   ],
   "source": [
    "pamC.shape"
   ]
  },
  {
   "cell_type": "code",
   "execution_count": 13,
   "metadata": {},
   "outputs": [
    {
     "data": {
      "text/plain": [
       "<matplotlib.axes._subplots.AxesSubplot at 0x1c78acc0e48>"
      ]
     },
     "execution_count": 13,
     "metadata": {},
     "output_type": "execute_result"
    },
    {
     "data": {
      "image/png": "[encoded data removed]",
      "text/plain": [
       "<Figure size 1080x1080 with 1 Axes>"
      ]
     },
     "metadata": {},
     "output_type": "display_data"
    }
   ],
   "source": [
    "pamAn = pamC.reset_index().loc[:, ['charge_description', 'arrestee_s_race', 'COUNT']]  \n",
    "\n",
    "## Drop the city and go back to a full data frame.\n",
    "\n",
    "pamAn = pamAn.groupby(['charge_description', 'arrestee_s_race']).sum()\n",
    "\n",
    "## Redo the gather but now ignoring City\n",
    "\n",
    "pamAn = pamAn.reset_index()\n",
    "\n",
    "## Set it back to a full data frame.\n",
    "\n",
    "pamAn = pamAn[pamAn['arrestee_s_race']=='B']\n",
    "\n",
    "plt.figure(figsize = (15, 15))\n",
    "#sn.set(style='darkgrid')\n",
    "sn.barplot(x='arrestee_s_race', y='COUNT', data=pamAn)\n",
    "#plt.title('Crimes divided by Race Count');"
   ]
  },
  {
   "cell_type": "code",
   "execution_count": null,
   "metadata": {},
   "outputs": [],
   "source": [
    "# Impared Driving DWI\n",
    "# Second Degree Trespass\n",
    "# Assault - Simple"
   ]
  },
  {
   "cell_type": "code",
   "execution_count": 21,
   "metadata": {},
   "outputs": [
    {
     "data": {
      "text/plain": [
       "<matplotlib.axes._subplots.AxesSubplot at 0x1c78ab18648>"
      ]
     },
     "execution_count": 21,
     "metadata": {},
     "output_type": "execute_result"
    },
    {
     "data": {
      "image/png": "[encoded data removed]",
      "text/plain": [
       "<Figure size 432x288 with 1 Axes>"
      ]
     },
     "metadata": {},
     "output_type": "display_data"
    }
   ],
   "source": [
    "sn.barplot(x = 'charge_description', y = 'COUNT', data = pamC.reset_index() )"
   ]
  },
  {
   "cell_type": "code",
   "execution_count": 20,
   "metadata": {},
   "outputs": [
    {
     "data": {
      "text/html": [
       "<div>\n",
       "<style scoped>\n",
       "    .dataframe tbody tr th:only-of-type {\n",
       "        vertical-align: middle;\n",
       "    }\n",
       "\n",
       "    .dataframe tbody tr th {\n",
       "        vertical-align: top;\n",
       "    }\n",
       "\n",
       "    .dataframe thead th {\n",
       "        text-align: right;\n",
       "    }\n",
       "</style>\n",
       "<table border=\"1\" class=\"dataframe\">\n",
       "  <thead>\n",
       "    <tr style=\"text-align: right;\">\n",
       "      <th></th>\n",
       "      <th></th>\n",
       "      <th>COUNT</th>\n",
       "    </tr>\n",
       "    <tr>\n",
       "      <th>charge_description</th>\n",
       "      <th>arrestee_s_race</th>\n",
       "      <th></th>\n",
       "    </tr>\n",
       "  </thead>\n",
       "  <tbody>\n",
       "    <tr>\n",
       "      <td>(FTA) COMMUNICATE THREATS</td>\n",
       "      <td>W</td>\n",
       "      <td>1</td>\n",
       "    </tr>\n",
       "    <tr>\n",
       "      <td>(FTA) HIT/RUN LEAVE SCENE OF PROPERTY DAMAGE</td>\n",
       "      <td>B</td>\n",
       "      <td>1</td>\n",
       "    </tr>\n",
       "    <tr>\n",
       "      <td>(FTA) RECKLESS DRIVING</td>\n",
       "      <td>B</td>\n",
       "      <td>1</td>\n",
       "    </tr>\n",
       "    <tr>\n",
       "      <td>(FTA) SPEEDING</td>\n",
       "      <td>B</td>\n",
       "      <td>1</td>\n",
       "    </tr>\n",
       "    <tr>\n",
       "      <td>(OFA) PROBATION VIOLATION</td>\n",
       "      <td>W</td>\n",
       "      <td>1</td>\n",
       "    </tr>\n",
       "    <tr>\n",
       "      <td>...</td>\n",
       "      <td>...</td>\n",
       "      <td>...</td>\n",
       "    </tr>\n",
       "    <tr>\n",
       "      <td>WORTHLESS CHECK</td>\n",
       "      <td>W</td>\n",
       "      <td>19</td>\n",
       "    </tr>\n",
       "    <tr>\n",
       "      <td>WORTHLESS CHECKS</td>\n",
       "      <td>B</td>\n",
       "      <td>1</td>\n",
       "    </tr>\n",
       "    <tr>\n",
       "      <td rowspan=\"2\" valign=\"top\">WRONG WAY - ONE WAY ST</td>\n",
       "      <td>B</td>\n",
       "      <td>1</td>\n",
       "    </tr>\n",
       "    <tr>\n",
       "      <td>W</td>\n",
       "      <td>1</td>\n",
       "    </tr>\n",
       "    <tr>\n",
       "      <td>WRONG WAY ON DUAL LANE HIGHWAY</td>\n",
       "      <td>W</td>\n",
       "      <td>2</td>\n",
       "    </tr>\n",
       "  </tbody>\n",
       "</table>\n",
       "<p>1834 rows × 1 columns</p>\n",
       "</div>"
      ],
      "text/plain": [
       "                                                              COUNT\n",
       "charge_description                           arrestee_s_race       \n",
       "(FTA) COMMUNICATE THREATS                    W                    1\n",
       "(FTA) HIT/RUN LEAVE SCENE OF PROPERTY DAMAGE B                    1\n",
       "(FTA) RECKLESS DRIVING                       B                    1\n",
       "(FTA) SPEEDING                               B                    1\n",
       "(OFA) PROBATION VIOLATION                    W                    1\n",
       "...                                                             ...\n",
       "WORTHLESS CHECK                              W                   19\n",
       "WORTHLESS CHECKS                             B                    1\n",
       "WRONG WAY - ONE WAY ST                       B                    1\n",
       "                                             W                    1\n",
       "WRONG WAY ON DUAL LANE HIGHWAY               W                    2\n",
       "\n",
       "[1834 rows x 1 columns]"
      ]
     },
     "execution_count": 20,
     "metadata": {},
     "output_type": "execute_result"
    }
   ],
   "source": [
    "pamC"
   ]
  },
  {
   "cell_type": "code",
   "execution_count": 4,
   "metadata": {},
   "outputs": [
    {
     "data": {
      "text/plain": [
       "{110.0,\n",
       " 640.0,\n",
       " nan,\n",
       " 200.0,\n",
       " 300.0,\n",
       " 410.0,\n",
       " 411.0,\n",
       " 510.0,\n",
       " 620.0,\n",
       " 630.0,\n",
       " 670.0,\n",
       " 690.0,\n",
       " 710.0,\n",
       " 810.0,\n",
       " 811.0,\n",
       " 820.0,\n",
       " 900.0,\n",
       " 1015.0,\n",
       " 1027.0,\n",
       " 1110.0,\n",
       " 1120.0,\n",
       " 1140.0,\n",
       " 1150.0,\n",
       " 1170.0,\n",
       " 1180.0,\n",
       " 1190.0,\n",
       " 1210.0,\n",
       " 1290.0,\n",
       " 1310.0,\n",
       " 1320.0,\n",
       " 1330.0,\n",
       " 1400.0,\n",
       " 1530.0,\n",
       " 1550.0,\n",
       " 1590.0,\n",
       " 1710.0,\n",
       " 1720.0,\n",
       " 1730.0,\n",
       " 1770.0,\n",
       " 1780.0,\n",
       " 1810.0,\n",
       " 1820.0,\n",
       " 1834.0,\n",
       " 1890.0,\n",
       " 2020.0,\n",
       " 2030.0,\n",
       " 2090.0,\n",
       " 2100.0,\n",
       " 2212.0,\n",
       " 2214.0,\n",
       " 2222.0,\n",
       " 2223.0,\n",
       " 2230.0,\n",
       " 2240.0,\n",
       " 2290.0,\n",
       " 2410.0,\n",
       " 2430.0,\n",
       " 2440.0,\n",
       " 2450.0,\n",
       " 2490.0,\n",
       " 2520.0,\n",
       " 2570.0,\n",
       " 2590.0,\n",
       " 2620.0,\n",
       " 2630.0,\n",
       " 2640.0,\n",
       " 2650.0,\n",
       " 2660.0,\n",
       " 2670.0,\n",
       " 2680.0,\n",
       " 2690.0,\n",
       " 4010.0,\n",
       " 9910.0}"
      ]
     },
     "execution_count": 4,
     "metadata": {},
     "output_type": "execute_result"
    }
   ],
   "source": [
    "set(pam.ucr_code)"
   ]
  },
  {
   "cell_type": "markdown",
   "metadata": {},
   "source": [
    "Violent Crime Codes:\n",
    "    0110 - Murder-First Degree-Attempt\n",
    "    0640 - B&E-Vehicle\n",
    "    0200 - Rape 1st Degree\n",
    "    0300 - Common Law Robbery\n",
    "    0410 - Assault Inflicting Serious Injury\n",
    "    0411 - Assault LEO & Inflicting Injury\n",
    "    0510 - B&E Misdemeanor\n",
    "    0810 - Assault & Battery\n",
    "    0811 - Assault on Government Official\n",
    "    0820 - Communicate Threats\n",
    "    1530 - Carrying Concealed Weapon Illegally\n",
    "    1550 - Discharging Firearm/ BB Gun\n",
    "    1590 - Possessing Weapon of Mass Destruction\n",
    "    1710 - Peeping\n",
    "    1720 - Crime against Nature\n",
    "    1730 - Indecent Exposure\n",
    "    1770 - Statutory Rape/Sex Offense\n",
    "    1780 - Child Indecent Liberties\n",
    "    2030 - Contributing to the Delinquency of a Minor\n",
    "    2090 - Assault on a Female\n",
    "    2100 - Impaired Driving DWI\n",
    "    2212 - Inderage Possession of Spiritious Liquor\n",
    "    2214 - Open Container\n",
    "    2222 - Underage Possession\n",
    "    2223 - Driver Consuming\n",
    "    2230 - Aid & Abet Underage Alcohol Usage\n",
    "    2240 - Consuming ON OFF Premises\n",
    "    2290 - Consuming on Unauthorized Premises\n",
    "    2410 - Disorderly Conduct\n",
    "    2430 - Fighting\n",
    "    2440 - Failure to Disperse\n",
    "    2450 - Drunk/Dispruptive\n",
    "    2490 - False Imprisonment\n",
    "    2520 - Dissemination of Obscene Material to a Minor (Under 16)\n",
    "    2570 - Exploiting Child\n",
    "    2590 - Performing Harmful or Obscene acts in front of a minor\n",
    "    2620 - Kidnapping\n",
    "    2630 - Resising Arrest\n",
    "    2640 - Violating Domestic Violence Protective Order\n",
    "    2650 - Obstructing LEO Work\n",
    "    2660 - Parole Violation\n",
    "    2670 - 2nd Degree Trespassing\n",
    "    2680 - Public Urination\n",
    "    2690 - Fugitive\n",
    "    4010 - Driving While License Revoked\n",
    "    \n",
    "    \n",
    "Property Crime Codes:\n",
    "    0620 - Larceny from person\n",
    "    0630 - Larceny (Switch Price Tag)\n",
    "    0670 - Break Coin Machine\n",
    "    0690 - Larceny All other\n",
    "    0710 - MV Theft - Automobile\n",
    "    0900 - Arson 1st Degree\n",
    "    1015 - Forgery-Uttering\n",
    "    1027 - Counterfeiting\n",
    "    1110 - Fraud - Worthless Check\n",
    "    1120 - Possession of Fraudulent ID\n",
    "    1140 - Unauthorized use of Conveyance\n",
    "    1150 - Credit Card Fraud\n",
    "    1170 - Identity Theft\n",
    "    1180 - Accessing Computers\n",
    "    1190 - Manufacturing Fraudulent Forms of ID\n",
    "    1210 - Embezzlement\n",
    "    1290 - Larceny by Employees\n",
    "    1310 - Recreational Stolen Goods\n",
    "    1320 - Larceny from Person\n",
    "    1330 - Possession of Stolen Goods\n",
    "    1400 - Damage-Personal Property\n",
    "    2020 - Non-Support Child\n",
    "    9910 - Littering\n",
    "    \n",
    "Narcotic Crime Codes:\n",
    "    1810 - Poss Narcotics\n",
    "    1820 - Drugs-Counterfeit\n",
    "    1834 - Drug Paraphernalia\n",
    "    1890 - Drugs on School Property\n",
    "    "
   ]
  },
  {
   "cell_type": "code",
   "execution_count": 1,
   "metadata": {},
   "outputs": [],
   "source": [
    "pam_dict1 = {x:'Violent Crime' for x in list(set(pam.ucr_code))\n",
    "             if x == ['0110','0640','0200','0300','0410','0411','0510','0810','0811','0820','1530'\n",
    "                      ,'1550','1590','1710','1720','1730','1770','1780','2030','2090','2100','2212',\n",
    "                      '2214','2222','2223','2230','2240','2290','2410','2430','2440','2450','2490',\n",
    "                      '2520','2570','2590','2620','2630','2640','2650','2670','2680','2690','4010']}\n",
    "pam_dict2 = {x:'Property Crime' for x in list(set(pam.ucr_code))\n",
    "             if x == []}\n",
    "pam_dict3 = {x:'Narcotic Crime' for x in list (set(pam.ucr_code))\n",
    "             if x == ['1810','1820','']}"
   ]
  },
  {
   "cell_type": "code",
   "execution_count": null,
   "metadata": {},
   "outputs": [],
   "source": []
  }
 ],
 "metadata": {
  "kernelspec": {
   "display_name": "Python 3",
   "language": "python",
   "name": "python3"
  },
  "language_info": {
   "codemirror_mode": {
    "name": "ipython",
    "version": 3
   },
   "file_extension": ".py",
   "mimetype": "text/x-python",
   "name": "python",
   "nbconvert_exporter": "python",
   "pygments_lexer": "ipython3",
   "version": "3.7.4"
  }
 },
 "nbformat": 4,
 "nbformat_minor": 4
}
